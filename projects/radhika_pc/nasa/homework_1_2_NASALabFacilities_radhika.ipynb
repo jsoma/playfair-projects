{
 "cells": [
  {
   "cell_type": "code",
   "execution_count": 1,
   "metadata": {
    "collapsed": false
   },
   "outputs": [],
   "source": [
    "import matplotlib\n",
    "import pandas as pd\n",
    "import numpy as np\n",
    "import matplotlib.pyplot as plt\n",
    "%matplotlib inline\n",
    "plt.style.use('ggplot')\n",
    "import dateutil.parser\n",
    "import math\n",
    "import random\n",
    "import matplotlib.ticker as plticker\n",
    "\n",
    "import matplotlib.pyplot as plt\n",
    "\n",
    "from matplotlib.patches import Polygon\n",
    "matplotlib.rcParams['ps.fonttype'] = 42"
   ]
  },
  {
   "cell_type": "code",
   "execution_count": 2,
   "metadata": {
    "collapsed": false
   },
   "outputs": [
    {
     "name": "stdout",
     "output_type": "stream",
     "text": [
      "Requirement already satisfied (use --upgrade to upgrade): bs4 in c:\\users\\radhika\\appdata\\local\\programs\\python\\python35-32\\lib\\site-packages\n",
      "Requirement already satisfied (use --upgrade to upgrade): beautifulsoup4 in c:\\users\\radhika\\appdata\\local\\programs\\python\\python35-32\\lib\\site-packages (from bs4)\n"
     ]
    }
   ],
   "source": [
    "!pip3 install bs4"
   ]
  },
  {
   "cell_type": "code",
   "execution_count": 3,
   "metadata": {
    "collapsed": false
   },
   "outputs": [],
   "source": [
    "from bs4 import BeautifulSoup\n",
    "from urllib.request import urlopen\n",
    "html_str = urlopen(\"https://en.wikipedia.org/wiki/Budget_of_NASA\").read()\n",
    "doc = BeautifulSoup(html_str, \"html.parser\")\n"
   ]
  },
  {
   "cell_type": "code",
   "execution_count": 4,
   "metadata": {
    "collapsed": false
   },
   "outputs": [],
   "source": [
    "stories = doc.find_all(\"table\", {'class': 'wikitable'})\n",
    "#stories"
   ]
  },
  {
   "cell_type": "code",
   "execution_count": 5,
   "metadata": {
    "collapsed": false
   },
   "outputs": [
    {
     "name": "stdout",
     "output_type": "stream",
     "text": [
      "National Aeronautics and Space Administration\n"
     ]
    }
   ],
   "source": [
    "story = doc.find_all(\"div\", {'class': 'mw-content-ltr'})\n",
    "for i in story:\n",
    "    caption_tags = i.find('caption')\n",
    "    print(caption_tags.string)"
   ]
  },
  {
   "cell_type": "code",
   "execution_count": 8,
   "metadata": {
    "collapsed": false
   },
   "outputs": [],
   "source": [
    "budget = []\n",
    "for items in stories:\n",
    "    col1 = items.find('tr')\n",
    "    #print(col1)\n",
    "    \n",
    "        \n",
    "    "
   ]
  },
  {
   "cell_type": "code",
   "execution_count": null,
   "metadata": {
    "collapsed": false
   },
   "outputs": [],
   "source": [
    "df = pd.read_excel(\"nasabudget.xlsx\")"
   ]
  },
  {
   "cell_type": "code",
   "execution_count": null,
   "metadata": {
    "collapsed": false
   },
   "outputs": [],
   "source": [
    "df.head()"
   ]
  },
  {
   "cell_type": "code",
   "execution_count": null,
   "metadata": {
    "collapsed": false
   },
   "outputs": [],
   "source": [
    "df.info()"
   ]
  },
  {
   "cell_type": "code",
   "execution_count": null,
   "metadata": {
    "collapsed": false
   },
   "outputs": [],
   "source": [
    "fig, ax =  plt.subplots(figsize=(15,10))\n",
    "df.plot(kind='bar',ax=ax, x='Calendar Year', y='Fed Budget Allocation')\n",
    "\n",
    "\n",
    "\n",
    "\n",
    "# send the grid behind\n",
    "ax.set_axisbelow(True)\n",
    "# get rid of that border that is around the graph\n",
    "ax.spines['top'].set_visible(False)\n",
    "ax.spines['right'].set_visible(False)\n",
    "ax.spines['left'].set_visible(False)\n",
    "ax.spines['bottom'].set_visible(False)\n",
    "\n",
    "plt.tick_params(\n",
    "    which='major', # both major and minor ticks are affected\n",
    "    top ='off', #ticks along the top edge are off\n",
    "    left = 'off',#ticks along the left edge are off\n",
    "    right = 'off',\n",
    "    bottom = 'off',\n",
    "    labeltop='off', #top label is on\n",
    "    labelbottom ='on'# bottom label is on\n",
    ")\n",
    "plt.tick_params(\n",
    "    which='minor', # both major and minor ticks are affected\n",
    "    top ='off', #ticks along the top edge are off\n",
    "    left = 'off',#ticks along the left edge are off\n",
    "    right = 'off',\n",
    "    bottom = 'off',\n",
    "    labeltop='off', #top label is off\n",
    "    labelbottom ='off'# bottom label is on\n",
    ")\n",
    "\n",
    "ax.set_title(\"Federal Funding for NASA\", color='brown')\n",
    "ax.set_ylabel(\"Allocation of Federal Funding\", color='brown')\n",
    "ax.set_xlabel(\"Year\", color='brown')\n",
    "#use to annotate to add text\n",
    "\n",
    "\n",
    "plt.savefig('nasa-fund-bar.pdf', bbox_inches=0, transparent=True)"
   ]
  },
  {
   "cell_type": "code",
   "execution_count": null,
   "metadata": {
    "collapsed": false
   },
   "outputs": [],
   "source": [
    "df = pd.read_excel(\"NASA_Labs_Facilities.xlsx\")"
   ]
  },
  {
   "cell_type": "markdown",
   "metadata": {},
   "source": [
    "### 1. Open your dataset up using pandas in a Jupyter notebook"
   ]
  },
  {
   "cell_type": "code",
   "execution_count": null,
   "metadata": {
    "collapsed": false
   },
   "outputs": [],
   "source": [
    "df.head(2)\n"
   ]
  },
  {
   "cell_type": "markdown",
   "metadata": {},
   "source": [
    "### 3. Do a .columns to get a feel for your data"
   ]
  },
  {
   "cell_type": "code",
   "execution_count": null,
   "metadata": {
    "collapsed": false
   },
   "outputs": [],
   "source": [
    "df.columns"
   ]
  },
  {
   "cell_type": "markdown",
   "metadata": {},
   "source": [
    "#### 1.Find all the agencies that house a NASA Lab facility."
   ]
  },
  {
   "cell_type": "code",
   "execution_count": null,
   "metadata": {
    "collapsed": false
   },
   "outputs": [],
   "source": [
    "count = df['Agency'].value_counts()\n",
    "\n",
    "count"
   ]
  },
  {
   "cell_type": "code",
   "execution_count": null,
   "metadata": {
    "collapsed": false
   },
   "outputs": [],
   "source": [
    "df.info()"
   ]
  },
  {
   "cell_type": "code",
   "execution_count": null,
   "metadata": {
    "collapsed": false
   },
   "outputs": [],
   "source": [
    "df['Occupied'].head()"
   ]
  },
  {
   "cell_type": "code",
   "execution_count": null,
   "metadata": {
    "collapsed": false
   },
   "outputs": [],
   "source": [
    "fig, ax =  plt.subplots(figsize=(10,5))\n",
    "df['Agency'].value_counts().plot(kind='bar',ax=ax, color=['darkred', 'gray','blue','pink','green', 'violet'], x='Agency')\n",
    "\n",
    "ax.set_ylim([0, 500])\n",
    "\n",
    "\n",
    "# send the grid behind\n",
    "ax.set_axisbelow(True)\n",
    "# get rid of that border that is around the graph\n",
    "ax.spines['top'].set_visible(False)\n",
    "ax.spines['right'].set_visible(False)\n",
    "ax.spines['left'].set_visible(False)\n",
    "ax.spines['bottom'].set_visible(False)\n",
    "\n",
    "plt.tick_params(\n",
    "    which='major', # both major and minor ticks are affected\n",
    "    top ='off', #ticks along the top edge are off\n",
    "    left = 'off',#ticks along the left edge are off\n",
    "    right = 'off',\n",
    "    bottom = 'off',\n",
    "    labeltop='off', #top label is on\n",
    "    labelbottom ='on'# bottom label is on\n",
    ")\n",
    "plt.tick_params(\n",
    "    which='minor', # both major and minor ticks are affected\n",
    "    top ='off', #ticks along the top edge are off\n",
    "    left = 'off',#ticks along the left edge are off\n",
    "    right = 'off',\n",
    "    bottom = 'off',\n",
    "    labeltop='off', #top label is off\n",
    "    labelbottom ='off'# bottom label is on\n",
    ")\n",
    "\n",
    "ax.set_title(\"Lab Distribution Across NASA Agencies\", color='brown')\n",
    "ax.set_ylabel(\"Number of Lab Facilities\", color='brown')\n",
    "ax.set_xlabel(\"NASA Agencies\", color='brown')\n",
    "#use to annotate to add text\n",
    "ax.annotate(s=\"NASA 2 has 397 Labs\", xy=(0,400),color='brown')\n",
    "\n",
    "plt.savefig('nasa-agencies.pdf', transparent=True)"
   ]
  },
  {
   "cell_type": "code",
   "execution_count": null,
   "metadata": {
    "collapsed": false
   },
   "outputs": [],
   "source": [
    "print(\"NASA runs a total of 397 lab facilities, Nasa Intelsat runs 17, Department of Defence(DOD) runs 7 labs, Department of Energy runs 12 labs, Raytheon runs 5, and Orbital Sciences Corporation (osc) runs only one NASA lab facility\")"
   ]
  },
  {
   "cell_type": "markdown",
   "metadata": {},
   "source": [
    "#### 2. Find the different centers that run a NASA lab, and their count."
   ]
  },
  {
   "cell_type": "code",
   "execution_count": null,
   "metadata": {
    "collapsed": false
   },
   "outputs": [],
   "source": [
    "centers = pd.DataFrame(df['Center'].value_counts())\n",
    "centers"
   ]
  },
  {
   "cell_type": "code",
   "execution_count": null,
   "metadata": {
    "collapsed": false
   },
   "outputs": [],
   "source": [
    "fig, ax =  plt.subplots(figsize=(10,5))\n",
    "df['Center'].value_counts().plot(kind='bar',ax=ax, color=['darkred','aqua', 'chocolate','coral','olive','plum' , 'gray','blue','pink','green', 'violet', 'orchid'], x='Agency')\n",
    "\n",
    "ax.set_ylim([0, 160])\n",
    "\n",
    "\n",
    "# send the grid behind\n",
    "ax.set_axisbelow(True)\n",
    "# get rid of that border that is around the graph\n",
    "ax.spines['top'].set_visible(False)\n",
    "ax.spines['right'].set_visible(False)\n",
    "ax.spines['left'].set_visible(False)\n",
    "ax.spines['bottom'].set_visible(False)\n",
    "\n",
    "plt.tick_params(\n",
    "    which='major', # both major and minor ticks are affected\n",
    "    top ='off', #ticks along the top edge are off\n",
    "    left = 'off',#ticks along the left edge are off\n",
    "    right = 'off',\n",
    "    bottom = 'off',\n",
    "    labeltop='off', #top label is on\n",
    "    labelbottom ='on'# bottom label is on\n",
    ")\n",
    "plt.tick_params(\n",
    "    which='minor', # both major and minor ticks are affected\n",
    "    top ='off', #ticks along the top edge are off\n",
    "    left = 'off',#ticks along the left edge are off\n",
    "    right = 'off',\n",
    "    bottom = 'off',\n",
    "    labeltop='off', #top label is off\n",
    "    labelbottom ='off'# bottom label is on\n",
    ")\n",
    "\n",
    "ax.set_title(\"Lab Distribution Across NASA Centers\", color='brown')\n",
    "ax.set_ylabel(\"Number of Lab Facilities\", color='brown')\n",
    "ax.set_xlabel(\"NASA Centers\", color='brown')\n",
    "#use to annotate to add text\n",
    "ax.annotate(s=\"Marshall Space Flight Center has 136 Labs\", xy=(0,140),color='brown')\n",
    "\n",
    "plt.savefig('nasa-centers.pdf', transparent=True)"
   ]
  },
  {
   "cell_type": "markdown",
   "metadata": {},
   "source": [
    "#### 3. List the status of the lab facilities and their count?"
   ]
  },
  {
   "cell_type": "code",
   "execution_count": null,
   "metadata": {
    "collapsed": false
   },
   "outputs": [],
   "source": [
    "df['Status'].value_counts()"
   ]
  },
  {
   "cell_type": "markdown",
   "metadata": {},
   "source": [
    "#### 4. Find how many active labs are operating today."
   ]
  },
  {
   "cell_type": "code",
   "execution_count": null,
   "metadata": {
    "collapsed": false
   },
   "outputs": [],
   "source": [
    "fig, ax =  plt.subplots(figsize=(10,5))\n",
    "df['Status'].value_counts().plot(kind='bar',ax=ax, color=['darkred','aqua', 'chocolate','coral','olive','plum' , 'gray','blue','pink','green', 'violet', 'orchid'], x='Agency')\n",
    "\n",
    "ax.set_ylim([0, 500])\n",
    "\n",
    "\n",
    "# send the grid behind\n",
    "ax.set_axisbelow(True)\n",
    "# get rid of that border that is around the graph\n",
    "ax.spines['top'].set_visible(False)\n",
    "ax.spines['right'].set_visible(False)\n",
    "ax.spines['left'].set_visible(False)\n",
    "ax.spines['bottom'].set_visible(False)\n",
    "\n",
    "plt.tick_params(\n",
    "    which='major', # both major and minor ticks are affected\n",
    "    top ='off', #ticks along the top edge are off\n",
    "    left = 'off',#ticks along the left edge are off\n",
    "    right = 'off',\n",
    "    bottom = 'off',\n",
    "    labeltop='off', #top label is on\n",
    "    labelbottom ='on'# bottom label is on\n",
    ")\n",
    "plt.tick_params(\n",
    "    which='minor', # both major and minor ticks are affected\n",
    "    top ='off', #ticks along the top edge are off\n",
    "    left = 'off',#ticks along the left edge are off\n",
    "    right = 'off',\n",
    "    bottom = 'off',\n",
    "    labeltop='off', #top label is off\n",
    "    labelbottom ='off'# bottom label is on\n",
    ")\n",
    "\n",
    "ax.set_title(\"Status of NASA Lab Facilities in the US\", color='brown')\n",
    "ax.set_ylabel(\"Number of Lab Facilities\", color='brown')\n",
    "ax.set_xlabel(\"NASA Lab Faciliteis\", color='brown')\n",
    "#use to annotate to add text\n",
    "ax.annotate(s=\"388\", xy=(0,400),color='brown')\n",
    "ax.annotate(s=\"22\", xy=(1,23),color='aqua')\n",
    "ax.annotate(s=\"2\", xy=(2,20),color='brown')\n",
    "ax.annotate(s=\"1\", xy=(3,23),color='olive')\n",
    "ax.annotate(s=\"1\", xy=(4,20),color='coral')\n",
    "plt.savefig('active-centers.pdf', transparent=True)"
   ]
  },
  {
   "cell_type": "code",
   "execution_count": null,
   "metadata": {
    "collapsed": false
   },
   "outputs": [],
   "source": [
    "print(\"There are 388 active lab facilities in the US\")"
   ]
  },
  {
   "cell_type": "markdown",
   "metadata": {},
   "source": [
    "#### 5. Which of the US states has the highest number of NASA Lab facilities ?"
   ]
  },
  {
   "cell_type": "code",
   "execution_count": null,
   "metadata": {
    "collapsed": false
   },
   "outputs": [],
   "source": [
    "df['State'].value_counts()"
   ]
  },
  {
   "cell_type": "code",
   "execution_count": null,
   "metadata": {
    "collapsed": false
   },
   "outputs": [],
   "source": [
    "fig, ax =  plt.subplots(figsize=(10,5))\n",
    "df['State'].value_counts().plot(kind='bar',ax=ax, color=['darkred','olive','plum' , 'gray','blue','aqua', 'chocolate','coral','pink','green', 'violet', 'orchid'], x='Agency')\n",
    "\n",
    "ax.set_ylim([0, 150])\n",
    "\n",
    "\n",
    "# send the grid behind\n",
    "ax.set_axisbelow(True)\n",
    "# get rid of that border that is around the graph\n",
    "ax.spines['top'].set_visible(False)\n",
    "ax.spines['right'].set_visible(False)\n",
    "ax.spines['left'].set_visible(False)\n",
    "ax.spines['bottom'].set_visible(False)\n",
    "\n",
    "plt.tick_params(\n",
    "    which='major', # both major and minor ticks are affected\n",
    "    top ='off', #ticks along the top edge are off\n",
    "    left = 'off',#ticks along the left edge are off\n",
    "    right = 'off',\n",
    "    bottom = 'off',\n",
    "    labeltop='off', #top label is on\n",
    "    labelbottom ='on'# bottom label is on\n",
    ")\n",
    "plt.tick_params(\n",
    "    which='minor', # both major and minor ticks are affected\n",
    "    top ='off', #ticks along the top edge are off\n",
    "    left = 'off',#ticks along the left edge are off\n",
    "    right = 'off',\n",
    "    bottom = 'off',\n",
    "    labeltop='off', #top label is off\n",
    "    labelbottom ='off'# bottom label is on\n",
    ")\n",
    "\n",
    "ax.set_title(\"Distribution of NASA Lab Facilities in the US\", color='brown')\n",
    "ax.set_ylabel(\"Number of Lab Facilities\", color='brown')\n",
    "ax.set_xlabel(\"States in USA\", color='brown')\n",
    "#use to annotate to add text\n",
    "ax.annotate(s=\"136\", xy=(0,137),color='brown')\n",
    "ax.annotate(s=\"83\", xy=(1,84),color='olive')\n",
    "ax.annotate(s=\"60\", xy=(2,61),color='plum')\n",
    "ax.annotate(s=\"35\", xy=(3,36),color='gray')\n",
    "ax.annotate(s=\"32\", xy=(4,33),color='blue')\n",
    "ax.annotate(s=\"27\", xy=(5,28),color='aqua')\n",
    "ax.annotate(s=\"21\", xy=(6,22),color='chocolate')\n",
    "ax.annotate(s=\"17\", xy=(7,18),color='coral')\n",
    "ax.annotate(s=\"12\", xy=(8,13),color='pink')\n",
    "ax.annotate(s=\"10\", xy=(9,11),color='green')\n",
    "ax.annotate(s=\"3\", xy=(10,4),color='violet')\n",
    "ax.annotate(s=\"2\", xy=(11,3),color='coral')\n",
    "ax.annotate(s=\"1\", xy=(12,2),color='orchid')\n",
    "plt.savefig('states-centers.pdf', transparent=True)"
   ]
  },
  {
   "cell_type": "code",
   "execution_count": null,
   "metadata": {
    "collapsed": false
   },
   "outputs": [],
   "source": [
    "print(\"Alabama has the highest number of NASA Lab facilities in the country.\")"
   ]
  },
  {
   "cell_type": "markdown",
   "metadata": {},
   "source": [
    "#### 6. Which of the US states has the lowest number of NASA Lab facilities ?"
   ]
  },
  {
   "cell_type": "code",
   "execution_count": null,
   "metadata": {
    "collapsed": false
   },
   "outputs": [],
   "source": [
    "print(\"Alabama has the highest number of NASA Lab facilities in the country\")"
   ]
  },
  {
   "cell_type": "markdown",
   "metadata": {},
   "source": [
    "#### 7. Group them by agencies, and count the centers operating under each agency."
   ]
  },
  {
   "cell_type": "code",
   "execution_count": null,
   "metadata": {
    "collapsed": false
   },
   "outputs": [],
   "source": [
    "df.groupby(\"Agency\")['Center'].value_counts()"
   ]
  },
  {
   "cell_type": "code",
   "execution_count": null,
   "metadata": {
    "collapsed": false
   },
   "outputs": [],
   "source": [
    "test = pd.DataFrame(df.groupby(\"Agency\")['Center'].value_counts())\n",
    "test.head()"
   ]
  },
  {
   "cell_type": "code",
   "execution_count": null,
   "metadata": {
    "collapsed": false
   },
   "outputs": [],
   "source": [
    "#test.columns = test.columns.droplevel(-1)\n",
    "#print(test)"
   ]
  },
  {
   "cell_type": "code",
   "execution_count": null,
   "metadata": {
    "collapsed": false
   },
   "outputs": [],
   "source": [
    "path='C:\\\\Users\\\\Radhika\\\\Desktop\\\\'\n",
    "test.to_csv(path+'testfile.csv')\n"
   ]
  },
  {
   "cell_type": "code",
   "execution_count": null,
   "metadata": {
    "collapsed": false
   },
   "outputs": [],
   "source": [
    "test = pd.read_csv(\"testfile.csv\")\n",
    "test.head()"
   ]
  },
  {
   "cell_type": "code",
   "execution_count": null,
   "metadata": {
    "collapsed": true
   },
   "outputs": [],
   "source": [
    "dod= test[test['Agency']=='DOD']\n",
    "doe= test[test['Agency']=='DOE']\n",
    "intelsat= test[test['Agency']=='Intelsat']\n",
    "nasa2= test[test['Agency']=='NASA 2']\n",
    "ose= test[test['Agency']=='OSE']\n",
    "ray= test[test['Agency']=='RAYTHEON']"
   ]
  },
  {
   "cell_type": "code",
   "execution_count": null,
   "metadata": {
    "collapsed": false
   },
   "outputs": [],
   "source": [
    "#test.to_dict()"
   ]
  },
  {
   "cell_type": "code",
   "execution_count": null,
   "metadata": {
    "collapsed": false
   },
   "outputs": [],
   "source": [
    "fig, ax =  plt.subplots(figsize=(15,10))\n",
    "doe.plot(kind='bar',x='Center', y='Count',ax=ax, color='darkred', linewidth=0, width=0.25)\n",
    "intelsat.plot(kind='bar',x='Center', y='Count',ax=ax, color='olive', linewidth=0, width=0.25)\n",
    "nasa2.plot(kind='bar',x='Center', y='Count',ax=ax, color='plum', linewidth=0, width=0.25)\n",
    "dod.plot(kind='bar',x='Center', y='Count',ax=ax, color='orchid', linewidth=0, width=0.25)\n",
    "ose.plot(kind='bar',x='Center', y='Count',ax=ax, color= 'chocolate', linewidth=0, width=0.25)\n",
    "ray.plot(kind='bar',x='Center', y='Count',ax=ax, color='coral', linewidth=0, width=0.25)\n",
    "\n",
    "ax.set_ylim([0, 400])\n"
   ]
  },
  {
   "cell_type": "markdown",
   "metadata": {},
   "source": [
    "#### 8. Group them by centers, and discover how many active labs are operating under each of them."
   ]
  },
  {
   "cell_type": "code",
   "execution_count": null,
   "metadata": {
    "collapsed": false
   },
   "outputs": [],
   "source": [
    "df.groupby(\"Agency\")['Status'].value_counts()"
   ]
  },
  {
   "cell_type": "markdown",
   "metadata": {},
   "source": [
    "#### 9. Find all the cities with a Lab facility. Group them and find how many active labs are operating in each city."
   ]
  },
  {
   "cell_type": "code",
   "execution_count": null,
   "metadata": {
    "collapsed": false
   },
   "outputs": [],
   "source": [
    "df['City'].value_counts()"
   ]
  },
  {
   "cell_type": "code",
   "execution_count": null,
   "metadata": {
    "collapsed": false
   },
   "outputs": [],
   "source": [
    "fig, ax =  plt.subplots(figsize=(10,5))\n",
    "df['City'].value_counts().plot(kind='bar',ax=ax, color=['darkred','aqua', 'chocolate','coral','olive','plum' , 'gray','blue','pink','green', 'violet', 'orchid'], x='Agency')\n",
    "\n",
    "ax.set_ylim([0, 150])\n",
    "\n",
    "\n",
    "# send the grid behind\n",
    "ax.set_axisbelow(True)\n",
    "# get rid of that border that is around the graph\n",
    "ax.spines['top'].set_visible(False)\n",
    "ax.spines['right'].set_visible(False)\n",
    "ax.spines['left'].set_visible(False)\n",
    "ax.spines['bottom'].set_visible(False)\n",
    "\n",
    "plt.tick_params(\n",
    "    which='major', # both major and minor ticks are affected\n",
    "    top ='off', #ticks along the top edge are off\n",
    "    left = 'off',#ticks along the left edge are off\n",
    "    right = 'off',\n",
    "    bottom = 'off',\n",
    "    labeltop='off', #top label is on\n",
    "    labelbottom ='on'# bottom label is on\n",
    ")\n",
    "plt.tick_params(\n",
    "    which='minor', # both major and minor ticks are affected\n",
    "    top ='off', #ticks along the top edge are off\n",
    "    left = 'off',#ticks along the left edge are off\n",
    "    right = 'off',\n",
    "    bottom = 'off',\n",
    "    labeltop='off', #top label is off\n",
    "    labelbottom ='off'# bottom label is on\n",
    ")\n",
    "\n",
    "ax.set_title(\"Distribution of NASA Lab Facilities Across US Cities\", color='brown')\n",
    "ax.set_ylabel(\"Number of Lab Facilities\", color='brown')\n",
    "ax.set_xlabel(\"NASA Lab Faciliteis\", color='brown')\n",
    "#use to annotate to add text\n",
    "ax.annotate(s=\"136\", xy=(0,137),color='brown')\n",
    "ax.annotate(s=\"50\", xy=(1,51),color='olive')\n",
    "ax.annotate(s=\"39\", xy=(2,40),color='plum')\n",
    "ax.annotate(s=\"32\", xy=(3,33),color='gray')\n",
    "ax.annotate(s=\"31\", xy=(4,32),color='blue')\n",
    "ax.annotate(s=\"27\", xy=(5,28),color='aqua')\n",
    "ax.annotate(s=\"21\", xy=(6,22),color='chocolate')\n",
    "ax.annotate(s=\"17\", xy=(7,18),color='coral')\n",
    "ax.annotate(s=\"17\", xy=(8,18),color='red')\n",
    "ax.annotate(s=\"15\", xy=(9,16),color='coral')\n",
    "ax.annotate(s=\"12\", xy=(10,13),color='pink')\n",
    "ax.annotate(s=\"10\", xy=(11,11),color='green')\n",
    "ax.annotate(s=\"10\", xy=(12,11),color='blue')\n",
    "ax.annotate(s=\"7\", xy=(13,8),color='green')\n",
    "ax.annotate(s=\"5\", xy=(14,6),color='gray')\n",
    "ax.annotate(s=\"4\", xy=(15,5),color='green')\n",
    "ax.annotate(s=\"3\", xy=(16,4),color='violet')\n",
    "ax.annotate(s=\"2\", xy=(17,3),color='coral')\n",
    "ax.annotate(s=\"1\", xy=(18,2),color='orchid')\n",
    "plt.savefig('active-city.pdf', transparent=True)"
   ]
  },
  {
   "cell_type": "markdown",
   "metadata": {},
   "source": [
    "#### 10. Find all the cities with a Lab facility. Group them and find how many active labs are operating in each city."
   ]
  },
  {
   "cell_type": "code",
   "execution_count": null,
   "metadata": {
    "collapsed": false
   },
   "outputs": [],
   "source": [
    "df.groupby(\"City\")['Status'].value_counts()"
   ]
  },
  {
   "cell_type": "markdown",
   "metadata": {},
   "source": [
    "#### 11. Group the states and find how many active labs are operating in each city"
   ]
  },
  {
   "cell_type": "code",
   "execution_count": null,
   "metadata": {
    "collapsed": false
   },
   "outputs": [],
   "source": [
    "state= df.groupby(\"State\")['Status'].value_counts()\n",
    "state"
   ]
  },
  {
   "cell_type": "markdown",
   "metadata": {},
   "source": [
    "#### 12. Find all the point of contacts. Find how many lab facilities each one handles."
   ]
  },
  {
   "cell_type": "code",
   "execution_count": null,
   "metadata": {
    "collapsed": false
   },
   "outputs": [],
   "source": [
    "df['Contact'].value_counts()"
   ]
  },
  {
   "cell_type": "markdown",
   "metadata": {},
   "source": [
    "#### 13.Find all the point of contacts. Find various status of lab facilities."
   ]
  },
  {
   "cell_type": "code",
   "execution_count": null,
   "metadata": {
    "collapsed": false
   },
   "outputs": [],
   "source": [
    "df.groupby(\"Contact\")['Status'].value_counts()"
   ]
  },
  {
   "cell_type": "markdown",
   "metadata": {},
   "source": [
    "#### 14. Sort by the year in which they have made the last update.\n"
   ]
  },
  {
   "cell_type": "code",
   "execution_count": null,
   "metadata": {
    "collapsed": false
   },
   "outputs": [],
   "source": [
    "for x in (df['Last Update']):\n",
    "    if isinstance(x, str):\n",
    "        print(x)"
   ]
  },
  {
   "cell_type": "code",
   "execution_count": null,
   "metadata": {
    "collapsed": false
   },
   "outputs": [],
   "source": [
    "dropped = df[df['Last Update'] != \"300 E St, SW\"]\n",
    "for x in (dropped['Last Update']):\n",
    "    if isinstance(x, str):\n",
    "        print(x)"
   ]
  },
  {
   "cell_type": "code",
   "execution_count": null,
   "metadata": {
    "collapsed": false
   },
   "outputs": [],
   "source": [
    "df['Last Update'].str[:5]\n",
    "df"
   ]
  },
  {
   "cell_type": "code",
   "execution_count": null,
   "metadata": {
    "collapsed": false
   },
   "outputs": [],
   "source": [
    "dropped.sort_values(by='Last Update',ascending=False).head(3)"
   ]
  },
  {
   "cell_type": "code",
   "execution_count": null,
   "metadata": {
    "collapsed": false
   },
   "outputs": [],
   "source": [
    "New_labs= pd.DataFrame(df['Occupied'].value_counts())\n",
    "New_labs['Year'] = New_labs.index\n",
    "New_labs.index = range(53)\n",
    "New_labs\n",
    "columnsTitles = ['Year', 'Occupied']\n",
    "New_labs= New_labs.reindex(columns=columnsTitles)\n",
    "New_labs= New_labs.sort_values(by='Year',ascending=True)"
   ]
  },
  {
   "cell_type": "code",
   "execution_count": null,
   "metadata": {
    "collapsed": false
   },
   "outputs": [],
   "source": [
    "New_labs.plot(kind='line', x='Year', y='Occupied')"
   ]
  },
  {
   "cell_type": "markdown",
   "metadata": {},
   "source": [
    "#### 15. Find all the centers that begin between 1960 - 1969, 1970 - 1979, 1980 - 1989, 1990 - 1999, and 2000 and beyond"
   ]
  },
  {
   "cell_type": "code",
   "execution_count": null,
   "metadata": {
    "collapsed": false
   },
   "outputs": [],
   "source": [
    "year50 = df[(df['Occupied'] >= 1950) & (df['Occupied'] <=1959)]\n",
    "year50"
   ]
  },
  {
   "cell_type": "code",
   "execution_count": null,
   "metadata": {
    "collapsed": false
   },
   "outputs": [],
   "source": [
    "year50['Occupied'].value_counts()"
   ]
  },
  {
   "cell_type": "code",
   "execution_count": null,
   "metadata": {
    "collapsed": false
   },
   "outputs": [],
   "source": [
    "#centers = pd.DataFrame(df['Center'].value_counts())\n",
    "yr50 = pd.DataFrame(year50['Occupied'].value_counts())\n",
    "yr50['Year'] = yr50.index\n",
    "yr50.index = range(9)\n",
    "yr50\n",
    "columnsTitles = ['Year', 'Occupied']\n",
    "yr50.reindex(columns=columnsTitles)"
   ]
  },
  {
   "cell_type": "code",
   "execution_count": null,
   "metadata": {
    "collapsed": false
   },
   "outputs": [],
   "source": [
    "year50['Occupied'].value_counts().sum()"
   ]
  },
  {
   "cell_type": "code",
   "execution_count": null,
   "metadata": {
    "collapsed": false
   },
   "outputs": [],
   "source": [
    "year60 = df[(df['Occupied'] >= 1960) & (df['Occupied'] <=1969)]\n",
    "year60"
   ]
  },
  {
   "cell_type": "code",
   "execution_count": null,
   "metadata": {
    "collapsed": false
   },
   "outputs": [],
   "source": [
    "year60['Occupied'].value_counts()"
   ]
  },
  {
   "cell_type": "code",
   "execution_count": null,
   "metadata": {
    "collapsed": false
   },
   "outputs": [],
   "source": [
    "yr60 = pd.DataFrame(year60['Occupied'].value_counts())\n",
    "yr60['Year'] = yr60.index\n",
    "yr60.index = range(10)\n",
    "yr60\n",
    "columnsTitles = ['Year', 'Occupied']\n",
    "yr60.reindex(columns=columnsTitles)"
   ]
  },
  {
   "cell_type": "code",
   "execution_count": null,
   "metadata": {
    "collapsed": false
   },
   "outputs": [],
   "source": [
    "print(\"There are\", year60['Occupied'].value_counts().sum(), \"Lab facilities started between 1960-1969\")"
   ]
  },
  {
   "cell_type": "code",
   "execution_count": null,
   "metadata": {
    "collapsed": false
   },
   "outputs": [],
   "source": [
    "year70 = df[(df['Occupied'] >= 1970) & (df['Occupied'] <=1979)]\n",
    "year70"
   ]
  },
  {
   "cell_type": "code",
   "execution_count": null,
   "metadata": {
    "collapsed": false
   },
   "outputs": [],
   "source": [
    "year70['Occupied'].value_counts()"
   ]
  },
  {
   "cell_type": "code",
   "execution_count": null,
   "metadata": {
    "collapsed": false
   },
   "outputs": [],
   "source": [
    "yr70 = pd.DataFrame(year70['Occupied'].value_counts())\n",
    "yr70['Year'] = yr70.index\n",
    "yr70.index = range(8)\n",
    "yr70\n",
    "columnsTitles = ['Year', 'Occupied']\n",
    "yr70.reindex(columns=columnsTitles)"
   ]
  },
  {
   "cell_type": "code",
   "execution_count": null,
   "metadata": {
    "collapsed": true
   },
   "outputs": [],
   "source": []
  },
  {
   "cell_type": "code",
   "execution_count": null,
   "metadata": {
    "collapsed": false
   },
   "outputs": [],
   "source": [
    "year80 = df[(df['Occupied'] >= 1980) & (df['Occupied'] <=1989)]\n",
    "year80"
   ]
  },
  {
   "cell_type": "code",
   "execution_count": null,
   "metadata": {
    "collapsed": false
   },
   "outputs": [],
   "source": [
    "year80['Occupied'].value_counts()"
   ]
  },
  {
   "cell_type": "code",
   "execution_count": null,
   "metadata": {
    "collapsed": false
   },
   "outputs": [],
   "source": [
    "print(\"There are\", year80['Occupied'].value_counts().sum(), \"Lab facilities started between 1980-1989\")"
   ]
  },
  {
   "cell_type": "code",
   "execution_count": null,
   "metadata": {
    "collapsed": false
   },
   "outputs": [],
   "source": [
    "year90 = df[(df['Occupied'] >= 1990) & (df['Occupied'] <=1999)]\n",
    "year90"
   ]
  },
  {
   "cell_type": "code",
   "execution_count": null,
   "metadata": {
    "collapsed": false
   },
   "outputs": [],
   "source": [
    "year90['Occupied'].value_counts()"
   ]
  },
  {
   "cell_type": "code",
   "execution_count": null,
   "metadata": {
    "collapsed": false
   },
   "outputs": [],
   "source": [
    "print(\"There are\", year90['Occupied'].value_counts().sum(), \"Lab facilities started between 1990-1999\")"
   ]
  },
  {
   "cell_type": "code",
   "execution_count": null,
   "metadata": {
    "collapsed": false
   },
   "outputs": [],
   "source": [
    "year00 = df[(df['Occupied'] >= 2000) & (df['Occupied'] <=2009)]\n",
    "year00"
   ]
  },
  {
   "cell_type": "code",
   "execution_count": null,
   "metadata": {
    "collapsed": false
   },
   "outputs": [],
   "source": [
    "year00['Occupied'].value_counts()"
   ]
  },
  {
   "cell_type": "code",
   "execution_count": null,
   "metadata": {
    "collapsed": false
   },
   "outputs": [],
   "source": [
    "print(\"There are\", year00['Occupied'].value_counts().sum(), \"Lab facilities started between 2000-2009\")"
   ]
  },
  {
   "cell_type": "code",
   "execution_count": null,
   "metadata": {
    "collapsed": false
   },
   "outputs": [],
   "source": [
    "year10 = df[(df['Occupied'] >= 2010) & (df['Occupied'] <=2017)]\n",
    "year10"
   ]
  },
  {
   "cell_type": "code",
   "execution_count": null,
   "metadata": {
    "collapsed": false
   },
   "outputs": [],
   "source": [
    "year10['Occupied'].value_counts()"
   ]
  },
  {
   "cell_type": "code",
   "execution_count": null,
   "metadata": {
    "collapsed": false
   },
   "outputs": [],
   "source": [
    "year10['Facility']"
   ]
  },
  {
   "cell_type": "code",
   "execution_count": null,
   "metadata": {
    "collapsed": false
   },
   "outputs": [],
   "source": [
    "print(\"There are only\", year10['Occupied'].value_counts().sum(), \"Lab facilities started since 2010\")\n"
   ]
  },
  {
   "cell_type": "markdown",
   "metadata": {},
   "source": [
    "### Graph 1 - NASA Lab Center Distribution in Different States"
   ]
  },
  {
   "cell_type": "code",
   "execution_count": null,
   "metadata": {
    "collapsed": false
   },
   "outputs": [],
   "source": [
    "df['State'].value_counts().plot(kind='bar', x='State')"
   ]
  },
  {
   "cell_type": "markdown",
   "metadata": {},
   "source": [
    "### Graph 2 NASA Lab Facilities Distribution by Agencies"
   ]
  },
  {
   "cell_type": "code",
   "execution_count": null,
   "metadata": {
    "collapsed": false
   },
   "outputs": [],
   "source": [
    "df['Agency'].value_counts().plot(kind='bar', x='Agency')"
   ]
  },
  {
   "cell_type": "markdown",
   "metadata": {},
   "source": [
    "### Graph 3 NASA Lab Facilities Started Over the Last 60 Years"
   ]
  },
  {
   "cell_type": "code",
   "execution_count": null,
   "metadata": {
    "collapsed": false
   },
   "outputs": [],
   "source": [
    "df_no = pd.read_excel(\"year-num-nasa.xlsx\")"
   ]
  },
  {
   "cell_type": "code",
   "execution_count": null,
   "metadata": {
    "collapsed": false
   },
   "outputs": [],
   "source": [
    "df_no"
   ]
  },
  {
   "cell_type": "code",
   "execution_count": null,
   "metadata": {
    "collapsed": false
   },
   "outputs": [],
   "source": [
    "fig, ax = plt.subplots(figsize=(10,5))\n",
    "df_no.plot(kind='line', x='Year', color='olive', ax=ax, label='Year')\n",
    "plt.savefig(\"occupied.pdf\", transparent=True)"
   ]
  },
  {
   "cell_type": "code",
   "execution_count": null,
   "metadata": {
    "collapsed": true
   },
   "outputs": [],
   "source": [
    "fig, ax =  plt.subplots(figsize=(15,10))\n",
    "df.plot(kind='bar',ax=ax, x='Calendar Year', y='Fed Budget Allocation')\n",
    "\n",
    "\n",
    "\n",
    "\n",
    "# send the grid behind\n",
    "ax.set_axisbelow(True)\n",
    "# get rid of that border that is around the graph\n",
    "ax.spines['top'].set_visible(False)\n",
    "ax.spines['right'].set_visible(False)\n",
    "ax.spines['left'].set_visible(False)\n",
    "ax.spines['bottom'].set_visible(False)\n",
    "\n",
    "plt.tick_params(\n",
    "    which='major', # both major and minor ticks are affected\n",
    "    top ='off', #ticks along the top edge are off\n",
    "    left = 'off',#ticks along the left edge are off\n",
    "    right = 'off',\n",
    "    bottom = 'off',\n",
    "    labeltop='off', #top label is on\n",
    "    labelbottom ='on'# bottom label is on\n",
    ")\n",
    "plt.tick_params(\n",
    "    which='minor', # both major and minor ticks are affected\n",
    "    top ='off', #ticks along the top edge are off\n",
    "    left = 'off',#ticks along the left edge are off\n",
    "    right = 'off',\n",
    "    bottom = 'off',\n",
    "    labeltop='off', #top label is off\n",
    "    labelbottom ='off'# bottom label is on\n",
    ")\n",
    "\n",
    "ax.set_title(\"Federal Funding for NASA\", color='brown')\n",
    "ax.set_ylabel(\"Allocation of Federal Funding\", color='brown')\n",
    "ax.set_xlabel(\"Year\", color='brown')\n",
    "#use to annotate to add text\n",
    "\n",
    "\n",
    "plt.savefig('nasa-fund-bar.pdf', bbox_inches=0, transparent=True)"
   ]
  },
  {
   "cell_type": "code",
   "execution_count": null,
   "metadata": {
    "collapsed": false
   },
   "outputs": [],
   "source": [
    "fig, ax = plt.subplots(figsize=(5,5))\n",
    "explode = (0.1, 0.1, 0.1, 0.1, 0.1, 0.1, 0.1)\n",
    "df_no['Number'].plot(kind='pie', labels=df_no['Year'], explode=explode, colors=['LightSalmon','coral', 'LightCoral','LightPink','PaleVioletRed','PaleGoldenRod', 'OrangeRed' ])\n",
    "plt.savefig(\"occupied-pie.pdf\", transparent=True)\n"
   ]
  },
  {
   "cell_type": "code",
   "execution_count": null,
   "metadata": {
    "collapsed": true
   },
   "outputs": [],
   "source": []
  }
 ],
 "metadata": {
  "kernelspec": {
   "display_name": "Python 3",
   "language": "python",
   "name": "python3"
  },
  "language_info": {
   "codemirror_mode": {
    "name": "ipython",
    "version": 3
   },
   "file_extension": ".py",
   "mimetype": "text/x-python",
   "name": "python",
   "nbconvert_exporter": "python",
   "pygments_lexer": "ipython3",
   "version": "3.5.1"
  }
 },
 "nbformat": 4,
 "nbformat_minor": 0
}
