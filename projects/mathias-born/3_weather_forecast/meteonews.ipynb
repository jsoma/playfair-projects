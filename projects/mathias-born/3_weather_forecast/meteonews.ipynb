{
 "cells": [
  {
   "cell_type": "code",
   "execution_count": 14,
   "metadata": {
    "collapsed": true
   },
   "outputs": [],
   "source": [
    "import requests\n",
    "from bs4 import BeautifulSoup\n",
    "from datetime import datetime\n",
    "import csv"
   ]
  },
  {
   "cell_type": "code",
   "execution_count": 15,
   "metadata": {
    "collapsed": true
   },
   "outputs": [],
   "source": [
    "# Scraping the data from Meteonews. \n",
    "\n",
    "response = requests.get(\"http://meteonews.ch/en/Course_of_the_Day/G2661552/Bern/d5/5_days_from_now\")\n",
    "soup_meteonews = BeautifulSoup(response.text, 'html.parser')"
   ]
  },
  {
   "cell_type": "code",
   "execution_count": 16,
   "metadata": {
    "collapsed": false
   },
   "outputs": [],
   "source": [
    "# Preparing the data from Meteotest\n",
    "date = soup_meteonews.find(\"li\", attrs={'class':'last'}).string\n",
    "times = soup_meteonews.find_all(\"span\", attrs={'class':'c1 time'})\n",
    "temps = soup_meteonews.find_all(\"span\", attrs={'class':'temp_hoch'})\n",
    "winds = soup_meteonews.find_all(\"span\", attrs={'class':'mittelwind'})\n",
    "rain = soup_meteonews.find_all(\"span\", attrs={'class':'regen'})\n",
    "weathers = list()\n",
    "symbols = soup_meteonews.find_all('span', attrs={'class':'c2 symbol'})\n",
    "for symbol in symbols:\n",
    "    imgs = symbol('img')\n",
    "    weathers.append(symbol('img')[0]['alt'])"
   ]
  },
  {
   "cell_type": "code",
   "execution_count": 17,
   "metadata": {
    "collapsed": false
   },
   "outputs": [],
   "source": [
    "# Save the data to files.\n",
    "# Generating Output for Meteonews\n",
    "counter = 0\n",
    "for time in times:\n",
    "    time = date + \"2016 \" + time.string.replace(u'00:00', '23:59')\n",
    "    time = datetime.strptime(time, '%A, %d.%m.%Y %H:%M')\n",
    "    with open(r'meteonews.csv', 'a') as f:\n",
    "                writer = csv.writer(f)\n",
    "                writer.writerow([time,\n",
    "                                 temps[counter].string.replace(u'\\xa0°C', ''),\n",
    "                                 winds[counter].string.replace(u'ø ', '').replace(u' km/h', '').format(float),\n",
    "                                 weathers[counter].replace(u'weather: ', ''),\n",
    "                                 rain[counter].text.replace(' mm','')])\n",
    "    counter += 1"
   ]
  },
  {
   "cell_type": "code",
   "execution_count": null,
   "metadata": {
    "collapsed": true
   },
   "outputs": [],
   "source": []
  }
 ],
 "metadata": {
  "kernelspec": {
   "display_name": "Python 3",
   "language": "python",
   "name": "python3"
  },
  "language_info": {
   "codemirror_mode": {
    "name": "ipython",
    "version": 3
   },
   "file_extension": ".py",
   "mimetype": "text/x-python",
   "name": "python",
   "nbconvert_exporter": "python",
   "pygments_lexer": "ipython3",
   "version": "3.5.2"
  }
 },
 "nbformat": 4,
 "nbformat_minor": 0
}
