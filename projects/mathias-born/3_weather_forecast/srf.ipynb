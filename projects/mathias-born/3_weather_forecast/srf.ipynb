{
 "cells": [
  {
   "cell_type": "code",
   "execution_count": 7,
   "metadata": {
    "collapsed": true
   },
   "outputs": [],
   "source": [
    "import requests\n",
    "from bs4 import BeautifulSoup\n",
    "from datetime import datetime, timedelta\n",
    "import csv\n",
    "import re"
   ]
  },
  {
   "cell_type": "code",
   "execution_count": 132,
   "metadata": {
    "collapsed": false
   },
   "outputs": [],
   "source": [
    "# Set the target date \n",
    "target_date = datetime.now() + timedelta(days=5)\n",
    "target_date = datetime.strftime(target_date, '%d.%m.%Y')"
   ]
  },
  {
   "cell_type": "code",
   "execution_count": 16,
   "metadata": {
    "collapsed": true
   },
   "outputs": [],
   "source": [
    "# Scraping the data from SRF. \n",
    "response = requests.get(\"http://m.srf.ch/meteo/lokalprognose?id=417255326\")\n",
    "soup_srf = BeautifulSoup(response.text, 'html.parser')"
   ]
  },
  {
   "cell_type": "code",
   "execution_count": 131,
   "metadata": {
    "collapsed": false
   },
   "outputs": [],
   "source": [
    "# Extract and format the parts for each hour\n",
    "for i in range(2,24,3):\n",
    "    temp_hour = soup_srf.find_all(\"li\", attrs={'class':'hour-forecast','data-date':str(target_date),'data-hour':str(i)})\n",
    "\n",
    "    # Grab the data for the description from img alt\n",
    "    for item in temp_hour:\n",
    "        temp_description = item.find('img', alt=True)\n",
    "        temp_description = temp_description['alt']\n",
    "    \n",
    "    # Grab the temperature.\n",
    "    for item in temp_hour:\n",
    "        temp_temp = item.find(\"span\", attrs={'class':'offscreen'})\n",
    "        temp_temp = temp_temp.string.strip().replace('Durchschnittliche Temperatur ','').replace('°','')\n",
    "    \n",
    "    # Grab the rain by looking for the next sibling.\n",
    "    for item in temp_hour:\n",
    "        temp_rain = item.find_next_sibling('div')\n",
    "        temp_rain = temp_rain.find('dd').text.replace(' %', '').split(' mm / ')\n",
    "\n",
    "    # Grab the wind.(From second dd inside of 'div', attrs={'class':'forecast-data'})\n",
    "    for item in temp_hour:\n",
    "        temp_wind = item.find_next_sibling('div')\n",
    "        temp_wind = temp_wind.find('dd').find_next_sibling('dd').text.replace(' km/h', '').split(' | ')\n",
    "\n",
    "    # Generating the date.\n",
    "    time = datetime.strptime(target_date, '%d.%m.%Y') + timedelta(hours=i)\n",
    "    \n",
    "    # Saving the data to a file.\n",
    "    with open(r'srf.csv', 'a') as f:\n",
    "        writer = csv.writer(f)\n",
    "        writer.writerow([time,temp_temp,temp_description,float(temp_rain[0]),float(temp_rain[1]),float(temp_wind[0]),float(temp_wind[1])])"
   ]
  }
 ],
 "metadata": {
  "kernelspec": {
   "display_name": "Python 3",
   "language": "python",
   "name": "python3"
  },
  "language_info": {
   "codemirror_mode": {
    "name": "ipython",
    "version": 3
   },
   "file_extension": ".py",
   "mimetype": "text/x-python",
   "name": "python",
   "nbconvert_exporter": "python",
   "pygments_lexer": "ipython3",
   "version": "3.5.2"
  }
 },
 "nbformat": 4,
 "nbformat_minor": 0
}
