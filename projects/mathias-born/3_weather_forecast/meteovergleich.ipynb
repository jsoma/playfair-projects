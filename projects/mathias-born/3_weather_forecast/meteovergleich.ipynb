{
 "cells": [
  {
   "cell_type": "code",
   "execution_count": 26,
   "metadata": {
    "collapsed": true
   },
   "outputs": [],
   "source": [
    "import requests\n",
    "import csv"
   ]
  },
  {
   "cell_type": "code",
   "execution_count": 20,
   "metadata": {
    "collapsed": false
   },
   "outputs": [],
   "source": [
    "# Import actual values from Meteo Schweiz from http://data.netcetera.com/smn.\n",
    "\n",
    "response = requests.get(\"http://data.netcetera.com:80/smn/smn/BER\")\n",
    "smn = response.json()"
   ]
  },
  {
   "cell_type": "code",
   "execution_count": 42,
   "metadata": {
    "collapsed": false
   },
   "outputs": [],
   "source": [
    "# Saving the data to a file.\n",
    "\n",
    "with open(r'smn.csv', 'a') as f:\n",
    "    writer = csv.writer(f)\n",
    "    writer.writerow(['code', 'dateTime','gustPeak', 'humidity', 'windSpeed', 'windDirection', 'qnhPressure', 'temperature', 'precipitation', 'sunshine', 'qfePressure', 'qffPressure'])\n",
    "    writer.writerow([smn['code'], smn['dateTime'], smn['gustPeak'], smn['humidity'], smn['windSpeed'], smn['windDirection'], smn['qnhPressure'], smn['temperature'], smn['precipitation'], smn['sunshine'], smn['qfePressure'], smn['qffPressure']])"
   ]
  },
  {
   "cell_type": "code",
   "execution_count": null,
   "metadata": {
    "collapsed": true
   },
   "outputs": [],
   "source": []
  }
 ],
 "metadata": {
  "kernelspec": {
   "display_name": "Python 3",
   "language": "python",
   "name": "python3"
  },
  "language_info": {
   "codemirror_mode": {
    "name": "ipython",
    "version": 3
   },
   "file_extension": ".py",
   "mimetype": "text/x-python",
   "name": "python",
   "nbconvert_exporter": "python",
   "pygments_lexer": "ipython3",
   "version": "3.5.2"
  }
 },
 "nbformat": 4,
 "nbformat_minor": 0
}
