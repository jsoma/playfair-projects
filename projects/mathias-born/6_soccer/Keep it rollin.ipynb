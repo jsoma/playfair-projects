{
 "cells": [
  {
   "cell_type": "markdown",
   "metadata": {},
   "source": [
    "# Keep it rolling -- The Journeys of our Soccer Player"
   ]
  },
  {
   "cell_type": "code",
   "execution_count": 731,
   "metadata": {
    "collapsed": true
   },
   "outputs": [],
   "source": [
    "import pandas as pd\n",
    "import matplotlib.pyplot as plt\n",
    "%matplotlib inline\n",
    "plt.style.use('fivethirtyeight')\n",
    "plt.rcParams['pdf.fonttype'] = 42\n",
    "from datetime import datetime\n",
    "from dateutil.parser import parse"
   ]
  },
  {
   "cell_type": "markdown",
   "metadata": {},
   "source": [
    "## Import and clean the data"
   ]
  },
  {
   "cell_type": "code",
   "execution_count": 732,
   "metadata": {
    "collapsed": false
   },
   "outputs": [
    {
     "data": {
      "text/html": [
       "<div>\n",
       "<table border=\"1\" class=\"dataframe\">\n",
       "  <thead>\n",
       "    <tr style=\"text-align: right;\">\n",
       "      <th></th>\n",
       "      <th>Name</th>\n",
       "      <th>Vorname</th>\n",
       "      <th>Klub</th>\n",
       "      <th>Stadt</th>\n",
       "      <th>Land</th>\n",
       "      <th>von</th>\n",
       "      <th>bis</th>\n",
       "      <th>Unnamed: 7</th>\n",
       "      <th>Klub.1</th>\n",
       "      <th>Stadt.1</th>\n",
       "      <th>...</th>\n",
       "      <th>Stadt.15</th>\n",
       "      <th>Land.15</th>\n",
       "      <th>von.15</th>\n",
       "      <th>bis.15</th>\n",
       "      <th>Unnamed: 97</th>\n",
       "      <th>Klub.16</th>\n",
       "      <th>Stadt.16</th>\n",
       "      <th>Land.16</th>\n",
       "      <th>von.16</th>\n",
       "      <th>bis.16</th>\n",
       "    </tr>\n",
       "  </thead>\n",
       "  <tbody>\n",
       "    <tr>\n",
       "      <th>0</th>\n",
       "      <td>NaN</td>\n",
       "      <td>NaN</td>\n",
       "      <td>NaN</td>\n",
       "      <td>NaN</td>\n",
       "      <td>NaN</td>\n",
       "      <td>NaN</td>\n",
       "      <td>NaN</td>\n",
       "      <td>NaN</td>\n",
       "      <td>NaN</td>\n",
       "      <td>NaN</td>\n",
       "      <td>...</td>\n",
       "      <td>NaN</td>\n",
       "      <td>NaN</td>\n",
       "      <td>NaN</td>\n",
       "      <td>NaN</td>\n",
       "      <td>NaN</td>\n",
       "      <td>NaN</td>\n",
       "      <td>NaN</td>\n",
       "      <td>NaN</td>\n",
       "      <td>NaN</td>\n",
       "      <td>NaN</td>\n",
       "    </tr>\n",
       "    <tr>\n",
       "      <th>1</th>\n",
       "      <td>Aebi</td>\n",
       "      <td>Dominique</td>\n",
       "      <td>YB II (Bern)</td>\n",
       "      <td>Bern</td>\n",
       "      <td>Schweiz</td>\n",
       "      <td>NaN</td>\n",
       "      <td>30/06/2006</td>\n",
       "      <td>NaN</td>\n",
       "      <td>YB (Bern)</td>\n",
       "      <td>YB (Bern)</td>\n",
       "      <td>...</td>\n",
       "      <td>NaN</td>\n",
       "      <td>NaN</td>\n",
       "      <td>NaN</td>\n",
       "      <td>NaN</td>\n",
       "      <td>NaN</td>\n",
       "      <td>NaN</td>\n",
       "      <td>NaN</td>\n",
       "      <td>NaN</td>\n",
       "      <td>NaN</td>\n",
       "      <td>NaN</td>\n",
       "    </tr>\n",
       "    <tr>\n",
       "      <th>2</th>\n",
       "      <td>Affolter</td>\n",
       "      <td>François</td>\n",
       "      <td>Biel</td>\n",
       "      <td>Biel</td>\n",
       "      <td>Schweiz</td>\n",
       "      <td>NaN</td>\n",
       "      <td>30/06/2007</td>\n",
       "      <td>NaN</td>\n",
       "      <td>YB U-18 (Bern)</td>\n",
       "      <td>Bern</td>\n",
       "      <td>...</td>\n",
       "      <td>NaN</td>\n",
       "      <td>NaN</td>\n",
       "      <td>NaN</td>\n",
       "      <td>NaN</td>\n",
       "      <td>NaN</td>\n",
       "      <td>NaN</td>\n",
       "      <td>NaN</td>\n",
       "      <td>NaN</td>\n",
       "      <td>NaN</td>\n",
       "      <td>NaN</td>\n",
       "    </tr>\n",
       "    <tr>\n",
       "      <th>3</th>\n",
       "      <td>Afum</td>\n",
       "      <td>Samuel</td>\n",
       "      <td>Hearts of Oak</td>\n",
       "      <td>Accra</td>\n",
       "      <td>Ghana</td>\n",
       "      <td>NaN</td>\n",
       "      <td>30/06/2010</td>\n",
       "      <td>NaN</td>\n",
       "      <td>Smouha</td>\n",
       "      <td>Alexandria</td>\n",
       "      <td>...</td>\n",
       "      <td>NaN</td>\n",
       "      <td>NaN</td>\n",
       "      <td>NaN</td>\n",
       "      <td>NaN</td>\n",
       "      <td>NaN</td>\n",
       "      <td>NaN</td>\n",
       "      <td>NaN</td>\n",
       "      <td>NaN</td>\n",
       "      <td>NaN</td>\n",
       "      <td>NaN</td>\n",
       "    </tr>\n",
       "    <tr>\n",
       "      <th>4</th>\n",
       "      <td>Aziawonou</td>\n",
       "      <td>Yao</td>\n",
       "      <td>Merlan Lome</td>\n",
       "      <td>Lomé</td>\n",
       "      <td>Togo</td>\n",
       "      <td>NaN</td>\n",
       "      <td>30/06/1997</td>\n",
       "      <td>NaN</td>\n",
       "      <td>Nantes</td>\n",
       "      <td>Nantes</td>\n",
       "      <td>...</td>\n",
       "      <td>NaN</td>\n",
       "      <td>NaN</td>\n",
       "      <td>NaN</td>\n",
       "      <td>NaN</td>\n",
       "      <td>NaN</td>\n",
       "      <td>NaN</td>\n",
       "      <td>NaN</td>\n",
       "      <td>NaN</td>\n",
       "      <td>NaN</td>\n",
       "      <td>NaN</td>\n",
       "    </tr>\n",
       "  </tbody>\n",
       "</table>\n",
       "<p>5 rows × 103 columns</p>\n",
       "</div>"
      ],
      "text/plain": [
       "        Name    Vorname           Klub  Stadt     Land  von         bis  \\\n",
       "0        NaN        NaN            NaN    NaN      NaN  NaN         NaN   \n",
       "1       Aebi  Dominique   YB II (Bern)   Bern  Schweiz  NaN  30/06/2006   \n",
       "2   Affolter   François           Biel   Biel  Schweiz  NaN  30/06/2007   \n",
       "3       Afum     Samuel  Hearts of Oak  Accra    Ghana  NaN  30/06/2010   \n",
       "4  Aziawonou        Yao    Merlan Lome   Lomé     Togo  NaN  30/06/1997   \n",
       "\n",
       "   Unnamed: 7          Klub.1     Stadt.1   ...   Stadt.15 Land.15 von.15  \\\n",
       "0         NaN             NaN         NaN   ...        NaN     NaN    NaN   \n",
       "1         NaN       YB (Bern)   YB (Bern)   ...        NaN     NaN    NaN   \n",
       "2         NaN  YB U-18 (Bern)        Bern   ...        NaN     NaN    NaN   \n",
       "3         NaN          Smouha  Alexandria   ...        NaN     NaN    NaN   \n",
       "4         NaN          Nantes      Nantes   ...        NaN     NaN    NaN   \n",
       "\n",
       "   bis.15 Unnamed: 97 Klub.16 Stadt.16 Land.16 von.16  bis.16  \n",
       "0     NaN         NaN     NaN      NaN     NaN    NaN     NaN  \n",
       "1     NaN         NaN     NaN      NaN     NaN    NaN     NaN  \n",
       "2     NaN         NaN     NaN      NaN     NaN    NaN     NaN  \n",
       "3     NaN         NaN     NaN      NaN     NaN    NaN     NaN  \n",
       "4     NaN         NaN     NaN      NaN     NaN    NaN     NaN  \n",
       "\n",
       "[5 rows x 103 columns]"
      ]
     },
     "execution_count": 732,
     "metadata": {},
     "output_type": "execute_result"
    }
   ],
   "source": [
    "df_raw = pd.read_csv('data/yb1.csv')\n",
    "df_raw.head()"
   ]
  },
  {
   "cell_type": "code",
   "execution_count": 733,
   "metadata": {
    "collapsed": false
   },
   "outputs": [],
   "source": [
    "# Taking out just the names of the players.\n",
    "df_names = df_raw[['Name','Vorname']]"
   ]
  },
  {
   "cell_type": "code",
   "execution_count": 734,
   "metadata": {
    "collapsed": false,
    "scrolled": true
   },
   "outputs": [
    {
     "data": {
      "text/plain": [
       "\"# Get the other clubs.\\nclubs = 15\\ndf_clubs = []\\nstadt_series = pd.Series()\\nland_series = pd.Series()\\nlat_series = pd.Series()\\nlong_series = pd.Series()\\nbis_series = pd.Series()\\n\\nfor club in range(1,clubs + 1):\\n    stadt = 'Stadt.' + str(club)\\n    land = 'Land.' + str(club)\\n    lat = 'Lat.' + str(club)\\n    lon = 'Lon.' + str(club)\\n    bis = 'bis.' + str(club)\\n    \\n    stadt_series = pd.concat([stadt_series, stadt] ignore_index=True)\\n    land_series = pd.concat([land_series, land] ignore_index=True)\\n    lat_series = pd.concat([lat_series, lat] ignore_index=True)\\n    lon_series = pd.concat([lon_series, lon] ignore_index=True)\\n    bis_series = pd.concat([bis_series, bis] ignore_index=True)\\n    \\n    df_clubs.append((df[stadt], df[land], df[lat], df[lon], df[bis]))\""
      ]
     },
     "execution_count": 734,
     "metadata": {},
     "output_type": "execute_result"
    }
   ],
   "source": [
    "'''# Get the other clubs.\n",
    "clubs = 15\n",
    "df_clubs = []\n",
    "stadt_series = pd.Series()\n",
    "land_series = pd.Series()\n",
    "lat_series = pd.Series()\n",
    "long_series = pd.Series()\n",
    "bis_series = pd.Series()\n",
    "\n",
    "for club in range(1,clubs + 1):\n",
    "    stadt = 'Stadt.' + str(club)\n",
    "    land = 'Land.' + str(club)\n",
    "    lat = 'Lat.' + str(club)\n",
    "    lon = 'Lon.' + str(club)\n",
    "    bis = 'bis.' + str(club)\n",
    "    \n",
    "    stadt_series = pd.concat([stadt_series, stadt] ignore_index=True)\n",
    "    land_series = pd.concat([land_series, land] ignore_index=True)\n",
    "    lat_series = pd.concat([lat_series, lat] ignore_index=True)\n",
    "    lon_series = pd.concat([lon_series, lon] ignore_index=True)\n",
    "    bis_series = pd.concat([bis_series, bis] ignore_index=True)\n",
    "    \n",
    "    df_clubs.append((df[stadt], df[land], df[lat], df[lon], df[bis]))'''"
   ]
  },
  {
   "cell_type": "code",
   "execution_count": 735,
   "metadata": {
    "collapsed": false
   },
   "outputs": [],
   "source": [
    "# Get the number of transfers for the player with the most transfers\n",
    "clubs = df_raw.columns\n",
    "clubs = clubs[len(clubs) - 1]\n",
    "clubs = int(clubs[-2] + clubs[-1])\n",
    "\n",
    "# Taking the extra columns on the right and attaching the data below. \n",
    "df_stadt = pd.concat([df_raw[\"Stadt\"],df_raw[\"Stadt.1\"]], ignore_index=True)\n",
    "df_land = pd.concat([df_raw[\"Land\"],df_raw[\"Land.1\"]], ignore_index=True)\n",
    "#df_lat = pd.concat([df_raw[\"Lat\"],df_raw[\"Lat.1\"]], ignore_index=True)\n",
    "#df_lon = pd.concat([df_raw[\"Lon\"],df_raw[\"Lon.1\"]], ignore_index=True)\n",
    "df_klub = pd.concat([df_raw[\"Klub\"],df_raw[\"Klub.1\"]], ignore_index=True)\n",
    "df_von = pd.concat([df_raw[\"von\"],df_raw[\"von.1\"]], ignore_index=True)\n",
    "df_von = pd.to_datetime(df_von, errors='coerce')\n",
    "df_bis = pd.concat([df_raw[\"bis\"],df_raw[\"bis.1\"]], ignore_index=True)\n",
    "df_bis = pd.to_datetime(df_bis, errors='coerce')\n",
    "\n",
    "for club in range(1,clubs + 1):\n",
    "    stadt = 'Stadt.' + str(club)\n",
    "    land = 'Land.' + str(club)\n",
    "    klub = 'Klub.' + str(club)\n",
    "    #lat = 'Lat.' + str(club)\n",
    "    #lon = 'Lon.' + str(club)\n",
    "    von = 'von.' + str(club)\n",
    "    bis = 'bis.' + str(club)\n",
    "    \n",
    "    df_stadt = pd.concat([df_stadt,df_raw[stadt]], ignore_index=True)\n",
    "    df_land = pd.concat([df_land,df_raw[land]], ignore_index=True)\n",
    "    df_klub = pd.concat([df_klub,df_raw[klub]], ignore_index=True)\n",
    "    #df_lat = pd.concat([df_lat,df_raw[lat]], ignore_index=True)\n",
    "    #df_long = pd.concat([df_lon,df_raw[lon]], ignore_index=True)\n",
    "    df_von = pd.concat([df_von,df_raw[von]], ignore_index=True)\n",
    "    df_bis = pd.concat([df_bis,df_raw[bis]], ignore_index=True)\n",
    "    \n",
    "    # Adding additional names to the name column.\n",
    "    df_names = pd.concat([df_names,df_names], ignore_index=True)"
   ]
  },
  {
   "cell_type": "code",
   "execution_count": 736,
   "metadata": {
    "collapsed": false
   },
   "outputs": [
    {
     "data": {
      "text/plain": [
       "\"# Todo: Generating the number of the transfer.\\ndf_transfer = []\\n\\nfor club in range(0,clubs):\\n    for player in range(0,len(df_raw)):\\n        df_transfer.append(int(club)) # Adding the transfer number.\\ndf_transfer = pd.DataFrame(df_transfer)\\ndf_transfer = df_transfer.astype(int)\\ndf_transfer.columns = ['Transfer']\""
      ]
     },
     "execution_count": 736,
     "metadata": {},
     "output_type": "execute_result"
    }
   ],
   "source": [
    "'''# Todo: Generating the number of the transfer.\n",
    "df_transfer = []\n",
    "\n",
    "for club in range(0,clubs):\n",
    "    for player in range(0,len(df_raw)):\n",
    "        df_transfer.append(int(club)) # Adding the transfer number.\n",
    "df_transfer = pd.DataFrame(df_transfer)\n",
    "df_transfer = df_transfer.astype(int)\n",
    "df_transfer.columns = ['Transfer']'''"
   ]
  },
  {
   "cell_type": "code",
   "execution_count": 737,
   "metadata": {
    "collapsed": false,
    "scrolled": true
   },
   "outputs": [
    {
     "data": {
      "text/plain": [
       "'df_transfer = pd.DataFrame(df_transfer)\\ndf_names = pd.DataFrame(df_names)\\ntest_df = pd.concat([df_transfer,df_names], axis=1)\\ntest_df.tail()'"
      ]
     },
     "execution_count": 737,
     "metadata": {},
     "output_type": "execute_result"
    }
   ],
   "source": [
    "'''df_transfer = pd.DataFrame(df_transfer)\n",
    "df_names = pd.DataFrame(df_names)\n",
    "test_df = pd.concat([df_transfer,df_names], axis=1)\n",
    "test_df.tail()'''"
   ]
  },
  {
   "cell_type": "code",
   "execution_count": 738,
   "metadata": {
    "collapsed": false
   },
   "outputs": [],
   "source": [
    "# Putting the dataframes together.\n",
    "try:\n",
    "    #df_transfer = pd.DataFrame(df_transfer)\n",
    "    #df_transfer.columns = ['Transfer']\n",
    "    df_stadt = df_stadt.to_frame()\n",
    "    df_stadt.columns = [\"Stadt\"]\n",
    "    df_land = df_land.to_frame()\n",
    "    df_land.columns = [\"Land\"]\n",
    "    df_klub = df_klub.to_frame()\n",
    "    df_klub.columns = [\"Klub\"]\n",
    "    #df_lat = df_lat.to_frame()\n",
    "    #df_lat.columns = [\"Lat\"]\n",
    "    #df_lon = df_lon.to_frame()\n",
    "    #df_lon.columns = [\"Lon\"]\n",
    "    df_von = df_von.to_frame()\n",
    "    df_von.columns = [\"Von\"]\n",
    "    df_bis = df_bis.to_frame()\n",
    "    df_bis.columns = [\"Bis\"]\n",
    "except:\n",
    "    pass\n",
    "\n",
    "df = pd.concat([df_names, df_stadt, df_land, df_klub, df_von, df_bis], axis=1)"
   ]
  },
  {
   "cell_type": "code",
   "execution_count": 739,
   "metadata": {
    "collapsed": false
   },
   "outputs": [],
   "source": [
    "# Filling in a field with the full name. Just for convenience. \n",
    "df['Voller Name'] = df['Vorname'] + ' ' + df['Name']"
   ]
  },
  {
   "cell_type": "code",
   "execution_count": 740,
   "metadata": {
    "collapsed": true
   },
   "outputs": [],
   "source": [
    "# Deleting the empty entries. \n",
    "df = df[df.Stadt.notnull()]\n",
    "df = df[df.Name.notnull()]"
   ]
  },
  {
   "cell_type": "code",
   "execution_count": 741,
   "metadata": {
    "collapsed": false
   },
   "outputs": [
    {
     "data": {
      "text/html": [
       "<div>\n",
       "<table border=\"1\" class=\"dataframe\">\n",
       "  <thead>\n",
       "    <tr style=\"text-align: right;\">\n",
       "      <th></th>\n",
       "      <th>Name</th>\n",
       "      <th>Vorname</th>\n",
       "      <th>Stadt</th>\n",
       "      <th>Land</th>\n",
       "      <th>Klub</th>\n",
       "      <th>Von</th>\n",
       "      <th>Bis</th>\n",
       "      <th>Voller Name</th>\n",
       "    </tr>\n",
       "  </thead>\n",
       "  <tbody>\n",
       "    <tr>\n",
       "      <th>1</th>\n",
       "      <td>Aebi</td>\n",
       "      <td>Dominique</td>\n",
       "      <td>Bern</td>\n",
       "      <td>Schweiz</td>\n",
       "      <td>YB II (Bern)</td>\n",
       "      <td>NaT</td>\n",
       "      <td>2006-06-30</td>\n",
       "      <td>Dominique Aebi</td>\n",
       "    </tr>\n",
       "    <tr>\n",
       "      <th>2</th>\n",
       "      <td>Affolter</td>\n",
       "      <td>François</td>\n",
       "      <td>Biel</td>\n",
       "      <td>Schweiz</td>\n",
       "      <td>Biel</td>\n",
       "      <td>NaT</td>\n",
       "      <td>2007-06-30</td>\n",
       "      <td>François Affolter</td>\n",
       "    </tr>\n",
       "    <tr>\n",
       "      <th>3</th>\n",
       "      <td>Afum</td>\n",
       "      <td>Samuel</td>\n",
       "      <td>Accra</td>\n",
       "      <td>Ghana</td>\n",
       "      <td>Hearts of Oak</td>\n",
       "      <td>NaT</td>\n",
       "      <td>2010-06-30</td>\n",
       "      <td>Samuel Afum</td>\n",
       "    </tr>\n",
       "    <tr>\n",
       "      <th>4</th>\n",
       "      <td>Aziawonou</td>\n",
       "      <td>Yao</td>\n",
       "      <td>Lomé</td>\n",
       "      <td>Togo</td>\n",
       "      <td>Merlan Lome</td>\n",
       "      <td>NaT</td>\n",
       "      <td>1997-06-30</td>\n",
       "      <td>Yao Aziawonou</td>\n",
       "    </tr>\n",
       "    <tr>\n",
       "      <th>5</th>\n",
       "      <td>Bastians</td>\n",
       "      <td>Felix</td>\n",
       "      <td>Bochum</td>\n",
       "      <td>Deutschland</td>\n",
       "      <td>Wattenscheid Jugend</td>\n",
       "      <td>NaT</td>\n",
       "      <td>1997-06-30</td>\n",
       "      <td>Felix Bastians</td>\n",
       "    </tr>\n",
       "  </tbody>\n",
       "</table>\n",
       "</div>"
      ],
      "text/plain": [
       "        Name    Vorname   Stadt         Land                 Klub Von  \\\n",
       "1       Aebi  Dominique    Bern      Schweiz         YB II (Bern) NaT   \n",
       "2   Affolter   François    Biel      Schweiz                 Biel NaT   \n",
       "3       Afum     Samuel   Accra        Ghana        Hearts of Oak NaT   \n",
       "4  Aziawonou        Yao    Lomé         Togo          Merlan Lome NaT   \n",
       "5   Bastians      Felix  Bochum  Deutschland  Wattenscheid Jugend NaT   \n",
       "\n",
       "         Bis        Voller Name  \n",
       "1 2006-06-30     Dominique Aebi  \n",
       "2 2007-06-30  François Affolter  \n",
       "3 2010-06-30        Samuel Afum  \n",
       "4 1997-06-30      Yao Aziawonou  \n",
       "5 1997-06-30     Felix Bastians  "
      ]
     },
     "execution_count": 741,
     "metadata": {},
     "output_type": "execute_result"
    }
   ],
   "source": [
    "# For some reason there are duplicates in the dataframe. Probably they are generated when indexing. \n",
    "# I have to take a look at this problem. For now, I am just removing the duplicates. \n",
    "df = df.drop_duplicates()\n",
    "df.head()"
   ]
  },
  {
   "cell_type": "code",
   "execution_count": 742,
   "metadata": {
    "collapsed": false
   },
   "outputs": [],
   "source": [
    "# There are some strange values in the first dataset. Before merging them, I need to clean the data.\n",
    "# The town of YB for example is 'YB (Bern)'. We are correcting this using regular expressions. \n",
    "\n",
    "import re\n",
    "\n",
    "def kick_the_club(clubstring): \n",
    "    match1 = re.search(r'\\((\\w*)\\)', clubstring)\n",
    "    match2 = re.search(r'(\\w*) U-16', clubstring)\n",
    "    match3 = re.search(r'(\\w*) II', clubstring)\n",
    "    if match1:\n",
    "        return match1.group(1)\n",
    "    elif match2:\n",
    "        return match2.group(1)\n",
    "    elif match3:\n",
    "        return match3.group(1)\n",
    "    else:\n",
    "        return clubstring\n",
    "\n",
    "df['Stadt'] = df['Stadt'].apply(kick_the_club)"
   ]
  },
  {
   "cell_type": "code",
   "execution_count": 743,
   "metadata": {
    "collapsed": false
   },
   "outputs": [
    {
     "data": {
      "text/html": [
       "<div>\n",
       "<table border=\"1\" class=\"dataframe\">\n",
       "  <thead>\n",
       "    <tr style=\"text-align: right;\">\n",
       "      <th></th>\n",
       "      <th>Name</th>\n",
       "      <th>Vorname</th>\n",
       "      <th>Stadt</th>\n",
       "      <th>Land</th>\n",
       "      <th>Klub</th>\n",
       "      <th>Von</th>\n",
       "      <th>Bis</th>\n",
       "      <th>Voller Name</th>\n",
       "    </tr>\n",
       "  </thead>\n",
       "  <tbody>\n",
       "    <tr>\n",
       "      <th>1</th>\n",
       "      <td>Aebi</td>\n",
       "      <td>Dominique</td>\n",
       "      <td>Bern</td>\n",
       "      <td>Schweiz</td>\n",
       "      <td>YB II</td>\n",
       "      <td>NaT</td>\n",
       "      <td>2006-06-30</td>\n",
       "      <td>Dominique Aebi</td>\n",
       "    </tr>\n",
       "    <tr>\n",
       "      <th>2</th>\n",
       "      <td>Affolter</td>\n",
       "      <td>François</td>\n",
       "      <td>Biel</td>\n",
       "      <td>Schweiz</td>\n",
       "      <td>Biel</td>\n",
       "      <td>NaT</td>\n",
       "      <td>2007-06-30</td>\n",
       "      <td>François Affolter</td>\n",
       "    </tr>\n",
       "    <tr>\n",
       "      <th>3</th>\n",
       "      <td>Afum</td>\n",
       "      <td>Samuel</td>\n",
       "      <td>Accra</td>\n",
       "      <td>Ghana</td>\n",
       "      <td>Hearts of Oak</td>\n",
       "      <td>NaT</td>\n",
       "      <td>2010-06-30</td>\n",
       "      <td>Samuel Afum</td>\n",
       "    </tr>\n",
       "    <tr>\n",
       "      <th>4</th>\n",
       "      <td>Aziawonou</td>\n",
       "      <td>Yao</td>\n",
       "      <td>Lomé</td>\n",
       "      <td>Togo</td>\n",
       "      <td>Merlan Lome</td>\n",
       "      <td>NaT</td>\n",
       "      <td>1997-06-30</td>\n",
       "      <td>Yao Aziawonou</td>\n",
       "    </tr>\n",
       "    <tr>\n",
       "      <th>5</th>\n",
       "      <td>Bastians</td>\n",
       "      <td>Felix</td>\n",
       "      <td>Bochum</td>\n",
       "      <td>Deutschland</td>\n",
       "      <td>Wattenscheid Jugend</td>\n",
       "      <td>NaT</td>\n",
       "      <td>1997-06-30</td>\n",
       "      <td>Felix Bastians</td>\n",
       "    </tr>\n",
       "    <tr>\n",
       "      <th>6</th>\n",
       "      <td>Battista</td>\n",
       "      <td>Daniele</td>\n",
       "      <td>Bern</td>\n",
       "      <td>Schweiz</td>\n",
       "      <td>YB U-18</td>\n",
       "      <td>NaT</td>\n",
       "      <td>2005-12-31</td>\n",
       "      <td>Daniele Battista</td>\n",
       "    </tr>\n",
       "    <tr>\n",
       "      <th>7</th>\n",
       "      <td>Bertone</td>\n",
       "      <td>Leonardo</td>\n",
       "      <td>Bern</td>\n",
       "      <td>Schweiz</td>\n",
       "      <td>YB U-18</td>\n",
       "      <td>NaT</td>\n",
       "      <td>2012-06-30</td>\n",
       "      <td>Leonardo Bertone</td>\n",
       "    </tr>\n",
       "    <tr>\n",
       "      <th>8</th>\n",
       "      <td>Ben Khalifa</td>\n",
       "      <td>Nassim</td>\n",
       "      <td>Lausanne</td>\n",
       "      <td>Schweiz</td>\n",
       "      <td>Team Vaud U-16</td>\n",
       "      <td>NaT</td>\n",
       "      <td>2008-06-30</td>\n",
       "      <td>Nassim Ben Khalifa</td>\n",
       "    </tr>\n",
       "    <tr>\n",
       "      <th>9</th>\n",
       "      <td>Benito</td>\n",
       "      <td>Ivan</td>\n",
       "      <td>Aarau</td>\n",
       "      <td>Schweiz</td>\n",
       "      <td>Aarau</td>\n",
       "      <td>NaT</td>\n",
       "      <td>2003-06-30</td>\n",
       "      <td>Ivan Benito</td>\n",
       "    </tr>\n",
       "    <tr>\n",
       "      <th>10</th>\n",
       "      <td>Bettoni</td>\n",
       "      <td>Patrick</td>\n",
       "      <td>Winterthur</td>\n",
       "      <td>Schweiz</td>\n",
       "      <td>Winterthur</td>\n",
       "      <td>NaT</td>\n",
       "      <td>1996-06-30</td>\n",
       "      <td>Patrick Bettoni</td>\n",
       "    </tr>\n",
       "    <tr>\n",
       "      <th>11</th>\n",
       "      <td>Bienvenu</td>\n",
       "      <td>Henri</td>\n",
       "      <td>Garoua</td>\n",
       "      <td>Kamerun</td>\n",
       "      <td>Cotonsport</td>\n",
       "      <td>NaT</td>\n",
       "      <td>2005-12-31</td>\n",
       "      <td>Henri Bienvenu</td>\n",
       "    </tr>\n",
       "    <tr>\n",
       "      <th>12</th>\n",
       "      <td>Bobadilla</td>\n",
       "      <td>Raul</td>\n",
       "      <td>Buenos Aires</td>\n",
       "      <td>Argentinien</td>\n",
       "      <td>River Plate</td>\n",
       "      <td>NaT</td>\n",
       "      <td>2006-06-30</td>\n",
       "      <td>Raul Bobadilla</td>\n",
       "    </tr>\n",
       "    <tr>\n",
       "      <th>13</th>\n",
       "      <td>Bukovski</td>\n",
       "      <td>Hrvoje</td>\n",
       "      <td>Winterthur</td>\n",
       "      <td>Schweiz</td>\n",
       "      <td>Winterthur Jugend</td>\n",
       "      <td>NaT</td>\n",
       "      <td>2007-06-30</td>\n",
       "      <td>Hrvoje Bukovski</td>\n",
       "    </tr>\n",
       "    <tr>\n",
       "      <th>14</th>\n",
       "      <td>Bürgy</td>\n",
       "      <td>Nicolas</td>\n",
       "      <td>Bern</td>\n",
       "      <td>Schweiz</td>\n",
       "      <td>YB U-17</td>\n",
       "      <td>NaT</td>\n",
       "      <td>2012-06-30</td>\n",
       "      <td>Nicolas Bürgy</td>\n",
       "    </tr>\n",
       "    <tr>\n",
       "      <th>15</th>\n",
       "      <td>Bürki</td>\n",
       "      <td>Marco</td>\n",
       "      <td>Bern</td>\n",
       "      <td>Schweiz</td>\n",
       "      <td>YB U-18</td>\n",
       "      <td>NaT</td>\n",
       "      <td>2011-06-30</td>\n",
       "      <td>Marco Bürki</td>\n",
       "    </tr>\n",
       "    <tr>\n",
       "      <th>16</th>\n",
       "      <td>Bürki</td>\n",
       "      <td>Roman</td>\n",
       "      <td>Münsingen</td>\n",
       "      <td>Schweiz</td>\n",
       "      <td>Münsingen Jugend</td>\n",
       "      <td>NaT</td>\n",
       "      <td>2005-06-30</td>\n",
       "      <td>Roman Bürki</td>\n",
       "    </tr>\n",
       "    <tr>\n",
       "      <th>17</th>\n",
       "      <td>Castroman</td>\n",
       "      <td>Miguel</td>\n",
       "      <td>Bern</td>\n",
       "      <td>Schweiz</td>\n",
       "      <td>YB U-16</td>\n",
       "      <td>NaT</td>\n",
       "      <td>2011-06-30</td>\n",
       "      <td>Miguel Castroman</td>\n",
       "    </tr>\n",
       "    <tr>\n",
       "      <th>18</th>\n",
       "      <td>Chiumiento</td>\n",
       "      <td>Davide</td>\n",
       "      <td>St. Gallen</td>\n",
       "      <td>Schweiz</td>\n",
       "      <td>St. Gallen</td>\n",
       "      <td>NaT</td>\n",
       "      <td>2000-06-30</td>\n",
       "      <td>Davide Chiumiento</td>\n",
       "    </tr>\n",
       "    <tr>\n",
       "      <th>19</th>\n",
       "      <td>Cökmüs</td>\n",
       "      <td>Ferhat</td>\n",
       "      <td>Bern</td>\n",
       "      <td>Schweiz</td>\n",
       "      <td>YB II</td>\n",
       "      <td>NaT</td>\n",
       "      <td>2005-06-30</td>\n",
       "      <td>Ferhat Cökmüs</td>\n",
       "    </tr>\n",
       "    <tr>\n",
       "      <th>20</th>\n",
       "      <td>Collaviti</td>\n",
       "      <td>Paolo</td>\n",
       "      <td>Bern</td>\n",
       "      <td>Schweiz</td>\n",
       "      <td>YB II</td>\n",
       "      <td>NaT</td>\n",
       "      <td>1993-06-30</td>\n",
       "      <td>Paolo Collaviti</td>\n",
       "    </tr>\n",
       "  </tbody>\n",
       "</table>\n",
       "</div>"
      ],
      "text/plain": [
       "           Name    Vorname         Stadt         Land                 Klub  \\\n",
       "1          Aebi  Dominique          Bern      Schweiz               YB II    \n",
       "2      Affolter   François          Biel      Schweiz                 Biel   \n",
       "3          Afum     Samuel         Accra        Ghana        Hearts of Oak   \n",
       "4     Aziawonou        Yao          Lomé         Togo          Merlan Lome   \n",
       "5      Bastians      Felix        Bochum  Deutschland  Wattenscheid Jugend   \n",
       "6      Battista    Daniele          Bern      Schweiz             YB U-18    \n",
       "7       Bertone   Leonardo          Bern      Schweiz             YB U-18    \n",
       "8   Ben Khalifa     Nassim      Lausanne      Schweiz       Team Vaud U-16   \n",
       "9        Benito       Ivan         Aarau      Schweiz                Aarau   \n",
       "10      Bettoni    Patrick    Winterthur      Schweiz           Winterthur   \n",
       "11     Bienvenu      Henri        Garoua      Kamerun           Cotonsport   \n",
       "12    Bobadilla       Raul  Buenos Aires  Argentinien          River Plate   \n",
       "13     Bukovski     Hrvoje    Winterthur      Schweiz    Winterthur Jugend   \n",
       "14        Bürgy    Nicolas          Bern      Schweiz             YB U-17    \n",
       "15        Bürki      Marco          Bern      Schweiz             YB U-18    \n",
       "16        Bürki      Roman     Münsingen      Schweiz     Münsingen Jugend   \n",
       "17    Castroman     Miguel          Bern      Schweiz             YB U-16    \n",
       "18   Chiumiento     Davide    St. Gallen      Schweiz           St. Gallen   \n",
       "19       Cökmüs     Ferhat          Bern      Schweiz               YB II    \n",
       "20    Collaviti      Paolo          Bern      Schweiz               YB II    \n",
       "\n",
       "   Von        Bis         Voller Name  \n",
       "1  NaT 2006-06-30      Dominique Aebi  \n",
       "2  NaT 2007-06-30   François Affolter  \n",
       "3  NaT 2010-06-30         Samuel Afum  \n",
       "4  NaT 1997-06-30       Yao Aziawonou  \n",
       "5  NaT 1997-06-30      Felix Bastians  \n",
       "6  NaT 2005-12-31    Daniele Battista  \n",
       "7  NaT 2012-06-30    Leonardo Bertone  \n",
       "8  NaT 2008-06-30  Nassim Ben Khalifa  \n",
       "9  NaT 2003-06-30         Ivan Benito  \n",
       "10 NaT 1996-06-30     Patrick Bettoni  \n",
       "11 NaT 2005-12-31      Henri Bienvenu  \n",
       "12 NaT 2006-06-30      Raul Bobadilla  \n",
       "13 NaT 2007-06-30     Hrvoje Bukovski  \n",
       "14 NaT 2012-06-30       Nicolas Bürgy  \n",
       "15 NaT 2011-06-30         Marco Bürki  \n",
       "16 NaT 2005-06-30         Roman Bürki  \n",
       "17 NaT 2011-06-30    Miguel Castroman  \n",
       "18 NaT 2000-06-30   Davide Chiumiento  \n",
       "19 NaT 2005-06-30       Ferhat Cökmüs  \n",
       "20 NaT 1993-06-30     Paolo Collaviti  "
      ]
     },
     "execution_count": 743,
     "metadata": {},
     "output_type": "execute_result"
    }
   ],
   "source": [
    "def kick_the_town(townstring): \n",
    "    match = re.search(r'.+?(?=\\(\\w*\\))', townstring)\n",
    "    if match:\n",
    "        return match.group(0)\n",
    "    else:\n",
    "        return townstring\n",
    "\n",
    "df['Klub'] = df['Klub'].apply(kick_the_town)\n",
    "df.head(20)\n"
   ]
  },
  {
   "cell_type": "code",
   "execution_count": 744,
   "metadata": {
    "collapsed": false
   },
   "outputs": [],
   "source": [
    "# Adding a new column -- just for convenience while geocoding. \n",
    "df['Stadtland'] = df['Stadt'] + ', ' + df['Land']"
   ]
  },
  {
   "cell_type": "markdown",
   "metadata": {},
   "source": [
    "### Import information about each player\n",
    "First we'll import the data. After there's some housekeeping needed. "
   ]
  },
  {
   "cell_type": "code",
   "execution_count": 745,
   "metadata": {
    "collapsed": false
   },
   "outputs": [
    {
     "data": {
      "text/html": [
       "<div>\n",
       "<table border=\"1\" class=\"dataframe\">\n",
       "  <thead>\n",
       "    <tr style=\"text-align: right;\">\n",
       "      <th></th>\n",
       "      <th>Saisonbeginn</th>\n",
       "      <th>Saisonende</th>\n",
       "      <th>Name</th>\n",
       "      <th>Vorname</th>\n",
       "      <th>Einsätze</th>\n",
       "      <th>Tore</th>\n",
       "      <th>Vorlagen</th>\n",
       "      <th>Geburtsdatum</th>\n",
       "      <th>Voller Name</th>\n",
       "    </tr>\n",
       "  </thead>\n",
       "  <tbody>\n",
       "    <tr>\n",
       "      <th>0</th>\n",
       "      <td>2003</td>\n",
       "      <td>2004</td>\n",
       "      <td>Rochat</td>\n",
       "      <td>Alain</td>\n",
       "      <td>20</td>\n",
       "      <td>1</td>\n",
       "      <td>NaN</td>\n",
       "      <td>NaT</td>\n",
       "      <td>Alain Rochat</td>\n",
       "    </tr>\n",
       "    <tr>\n",
       "      <th>1</th>\n",
       "      <td>2003</td>\n",
       "      <td>2004</td>\n",
       "      <td>Rochat</td>\n",
       "      <td>Alain</td>\n",
       "      <td>35</td>\n",
       "      <td>NaN</td>\n",
       "      <td>NaN</td>\n",
       "      <td>NaT</td>\n",
       "      <td>Alain Rochat</td>\n",
       "    </tr>\n",
       "    <tr>\n",
       "      <th>2</th>\n",
       "      <td>2003</td>\n",
       "      <td>2004</td>\n",
       "      <td>Wölfli</td>\n",
       "      <td>Marco</td>\n",
       "      <td>34</td>\n",
       "      <td>NaN</td>\n",
       "      <td>NaN</td>\n",
       "      <td>1982-08-22</td>\n",
       "      <td>Marco Wölfli</td>\n",
       "    </tr>\n",
       "    <tr>\n",
       "      <th>3</th>\n",
       "      <td>2004</td>\n",
       "      <td>2005</td>\n",
       "      <td>Rochat</td>\n",
       "      <td>Alain</td>\n",
       "      <td>33</td>\n",
       "      <td>2</td>\n",
       "      <td>NaN</td>\n",
       "      <td>NaT</td>\n",
       "      <td>Alain Rochat</td>\n",
       "    </tr>\n",
       "    <tr>\n",
       "      <th>4</th>\n",
       "      <td>2004</td>\n",
       "      <td>2005</td>\n",
       "      <td>Wölfli</td>\n",
       "      <td>Marco</td>\n",
       "      <td>15</td>\n",
       "      <td>NaN</td>\n",
       "      <td>NaN</td>\n",
       "      <td>1982-08-22</td>\n",
       "      <td>Marco Wölfli</td>\n",
       "    </tr>\n",
       "  </tbody>\n",
       "</table>\n",
       "</div>"
      ],
      "text/plain": [
       "   Saisonbeginn  Saisonende    Name Vorname  Einsätze  Tore  Vorlagen  \\\n",
       "0          2003        2004  Rochat   Alain        20     1       NaN   \n",
       "1          2003        2004  Rochat   Alain        35   NaN       NaN   \n",
       "2          2003        2004  Wölfli   Marco        34   NaN       NaN   \n",
       "3          2004        2005  Rochat   Alain        33     2       NaN   \n",
       "4          2004        2005  Wölfli   Marco        15   NaN       NaN   \n",
       "\n",
       "  Geburtsdatum   Voller Name  \n",
       "0          NaT  Alain Rochat  \n",
       "1          NaT  Alain Rochat  \n",
       "2   1982-08-22  Marco Wölfli  \n",
       "3          NaT  Alain Rochat  \n",
       "4   1982-08-22  Marco Wölfli  "
      ]
     },
     "execution_count": 745,
     "metadata": {},
     "output_type": "execute_result"
    }
   ],
   "source": [
    "df_player = pd.read_csv('data/spielerdaten.csv')\n",
    "df_player['Geburtsdatum'] = pd.to_datetime(df_player['Geb.Datum'], errors='coerce')\n",
    "pd.DataFrame(df_player)\n",
    "del df_player['Geb.Datum']\n",
    "\n",
    "# Filling in a field with the full name. Just for convenience. \n",
    "df_player['Voller Name'] = df_player['Vorname'] + ' ' + df_player['Name']\n",
    "del df_player['Unnamed: 2']\n",
    "df_player.head()"
   ]
  },
  {
   "cell_type": "code",
   "execution_count": 746,
   "metadata": {
    "collapsed": false
   },
   "outputs": [],
   "source": [
    "# Todo: Add the Birthday to the main dataframe.\n",
    "df = pd.merge(df, df_player[['Voller Name','Geburtsdatum']], on='Voller Name')"
   ]
  },
  {
   "cell_type": "code",
   "execution_count": 747,
   "metadata": {
    "collapsed": false
   },
   "outputs": [
    {
     "data": {
      "text/html": [
       "<div>\n",
       "<table border=\"1\" class=\"dataframe\">\n",
       "  <thead>\n",
       "    <tr style=\"text-align: right;\">\n",
       "      <th></th>\n",
       "      <th>Name</th>\n",
       "      <th>Vorname</th>\n",
       "      <th>Stadt</th>\n",
       "      <th>Land</th>\n",
       "      <th>Klub</th>\n",
       "      <th>Von</th>\n",
       "      <th>Bis</th>\n",
       "      <th>Voller Name</th>\n",
       "      <th>Stadtland</th>\n",
       "      <th>Geburtsdatum</th>\n",
       "    </tr>\n",
       "  </thead>\n",
       "  <tbody>\n",
       "    <tr>\n",
       "      <th>0</th>\n",
       "      <td>Aebi</td>\n",
       "      <td>Dominique</td>\n",
       "      <td>Bern</td>\n",
       "      <td>Schweiz</td>\n",
       "      <td>YB II</td>\n",
       "      <td>NaT</td>\n",
       "      <td>2006-06-30</td>\n",
       "      <td>Dominique Aebi</td>\n",
       "      <td>Bern, Schweiz</td>\n",
       "      <td>1988-04-05</td>\n",
       "    </tr>\n",
       "    <tr>\n",
       "      <th>1</th>\n",
       "      <td>Aebi</td>\n",
       "      <td>Dominique</td>\n",
       "      <td>Bern</td>\n",
       "      <td>Schweiz</td>\n",
       "      <td>YB II</td>\n",
       "      <td>NaT</td>\n",
       "      <td>2006-06-30</td>\n",
       "      <td>Dominique Aebi</td>\n",
       "      <td>Bern, Schweiz</td>\n",
       "      <td>1988-04-05</td>\n",
       "    </tr>\n",
       "    <tr>\n",
       "      <th>2</th>\n",
       "      <td>Aebi</td>\n",
       "      <td>Dominique</td>\n",
       "      <td>Bern</td>\n",
       "      <td>Schweiz</td>\n",
       "      <td>YB</td>\n",
       "      <td>2006-01-07</td>\n",
       "      <td>2007-07-31</td>\n",
       "      <td>Dominique Aebi</td>\n",
       "      <td>Bern, Schweiz</td>\n",
       "      <td>1988-04-05</td>\n",
       "    </tr>\n",
       "    <tr>\n",
       "      <th>3</th>\n",
       "      <td>Aebi</td>\n",
       "      <td>Dominique</td>\n",
       "      <td>Bern</td>\n",
       "      <td>Schweiz</td>\n",
       "      <td>YB</td>\n",
       "      <td>2006-01-07</td>\n",
       "      <td>2007-07-31</td>\n",
       "      <td>Dominique Aebi</td>\n",
       "      <td>Bern, Schweiz</td>\n",
       "      <td>1988-04-05</td>\n",
       "    </tr>\n",
       "    <tr>\n",
       "      <th>4</th>\n",
       "      <td>Aebi</td>\n",
       "      <td>Dominique</td>\n",
       "      <td>Köniz</td>\n",
       "      <td>Schweiz</td>\n",
       "      <td>Köniz</td>\n",
       "      <td>2012-01-07</td>\n",
       "      <td>2013-12-31</td>\n",
       "      <td>Dominique Aebi</td>\n",
       "      <td>Köniz, Schweiz</td>\n",
       "      <td>1988-04-05</td>\n",
       "    </tr>\n",
       "  </tbody>\n",
       "</table>\n",
       "</div>"
      ],
      "text/plain": [
       "   Name    Vorname  Stadt     Land    Klub        Von        Bis  \\\n",
       "0  Aebi  Dominique   Bern  Schweiz  YB II         NaT 2006-06-30   \n",
       "1  Aebi  Dominique   Bern  Schweiz  YB II         NaT 2006-06-30   \n",
       "2  Aebi  Dominique   Bern  Schweiz     YB  2006-01-07 2007-07-31   \n",
       "3  Aebi  Dominique   Bern  Schweiz     YB  2006-01-07 2007-07-31   \n",
       "4  Aebi  Dominique  Köniz  Schweiz   Köniz 2012-01-07 2013-12-31   \n",
       "\n",
       "      Voller Name       Stadtland Geburtsdatum  \n",
       "0  Dominique Aebi   Bern, Schweiz   1988-04-05  \n",
       "1  Dominique Aebi   Bern, Schweiz   1988-04-05  \n",
       "2  Dominique Aebi   Bern, Schweiz   1988-04-05  \n",
       "3  Dominique Aebi   Bern, Schweiz   1988-04-05  \n",
       "4  Dominique Aebi  Köniz, Schweiz   1988-04-05  "
      ]
     },
     "execution_count": 747,
     "metadata": {},
     "output_type": "execute_result"
    }
   ],
   "source": [
    "df.head()"
   ]
  },
  {
   "cell_type": "markdown",
   "metadata": {},
   "source": [
    "### Geocode the towns or stadiums"
   ]
  },
  {
   "cell_type": "code",
   "execution_count": 748,
   "metadata": {
    "collapsed": false
   },
   "outputs": [
    {
     "data": {
      "text/html": [
       "<div>\n",
       "<table border=\"1\" class=\"dataframe\">\n",
       "  <thead>\n",
       "    <tr style=\"text-align: right;\">\n",
       "      <th></th>\n",
       "      <th>Team</th>\n",
       "      <th>FDCOUK</th>\n",
       "      <th>City</th>\n",
       "      <th>Stadium</th>\n",
       "      <th>Capacity</th>\n",
       "      <th>Latitude</th>\n",
       "      <th>Longitude</th>\n",
       "      <th>Country</th>\n",
       "    </tr>\n",
       "  </thead>\n",
       "  <tbody>\n",
       "    <tr>\n",
       "      <th>0</th>\n",
       "      <td>Arsenal</td>\n",
       "      <td>Arsenal</td>\n",
       "      <td>London</td>\n",
       "      <td>Emirates Stadium</td>\n",
       "      <td>60361</td>\n",
       "      <td>51.555000</td>\n",
       "      <td>-0.108611</td>\n",
       "      <td>England</td>\n",
       "    </tr>\n",
       "    <tr>\n",
       "      <th>1</th>\n",
       "      <td>Aston Villa</td>\n",
       "      <td>Aston Villa</td>\n",
       "      <td>Birmingham</td>\n",
       "      <td>Villa Park</td>\n",
       "      <td>42785</td>\n",
       "      <td>52.509167</td>\n",
       "      <td>-1.884722</td>\n",
       "      <td>England</td>\n",
       "    </tr>\n",
       "    <tr>\n",
       "      <th>2</th>\n",
       "      <td>Blackburn Rovers</td>\n",
       "      <td>Blackburn</td>\n",
       "      <td>Blackburn</td>\n",
       "      <td>Ewood Park</td>\n",
       "      <td>31154</td>\n",
       "      <td>53.728611</td>\n",
       "      <td>-2.489167</td>\n",
       "      <td>England</td>\n",
       "    </tr>\n",
       "    <tr>\n",
       "      <th>3</th>\n",
       "      <td>Bolton Wanderers</td>\n",
       "      <td>Bolton</td>\n",
       "      <td>Bolton</td>\n",
       "      <td>Reebok Stadium</td>\n",
       "      <td>28100</td>\n",
       "      <td>53.580556</td>\n",
       "      <td>-2.535556</td>\n",
       "      <td>England</td>\n",
       "    </tr>\n",
       "    <tr>\n",
       "      <th>4</th>\n",
       "      <td>Chelsea</td>\n",
       "      <td>Chelsea</td>\n",
       "      <td>London</td>\n",
       "      <td>Stamford Bridge</td>\n",
       "      <td>42449</td>\n",
       "      <td>51.481667</td>\n",
       "      <td>-0.191111</td>\n",
       "      <td>England</td>\n",
       "    </tr>\n",
       "  </tbody>\n",
       "</table>\n",
       "</div>"
      ],
      "text/plain": [
       "                Team       FDCOUK         City            Stadium  Capacity  \\\n",
       "0           Arsenal       Arsenal      London   Emirates Stadium      60361   \n",
       "1       Aston Villa   Aston Villa  Birmingham         Villa Park      42785   \n",
       "2  Blackburn Rovers     Blackburn   Blackburn         Ewood Park      31154   \n",
       "3  Bolton Wanderers        Bolton      Bolton     Reebok Stadium      28100   \n",
       "4           Chelsea       Chelsea      London    Stamford Bridge      42449   \n",
       "\n",
       "    Latitude  Longitude  Country  \n",
       "0  51.555000  -0.108611  England  \n",
       "1  52.509167  -1.884722  England  \n",
       "2  53.728611  -2.489167  England  \n",
       "3  53.580556  -2.535556  England  \n",
       "4  51.481667  -0.191111  England  "
      ]
     },
     "execution_count": 748,
     "metadata": {},
     "output_type": "execute_result"
    }
   ],
   "source": [
    "# Now, we will add the location data about the stadiums, if available. \n",
    "# Source: http://opisthokonta.net/?p=619, aggregated from Wikipedia.\n",
    "df_stadium = pd.read_csv('data/stadiums_20150302.csv')\n",
    "df_stadium.head()"
   ]
  },
  {
   "cell_type": "code",
   "execution_count": 749,
   "metadata": {
    "collapsed": false
   },
   "outputs": [
    {
     "name": "stdout",
     "output_type": "stream",
     "text": [
      "163\n"
     ]
    }
   ],
   "source": [
    "df_stadium = df_stadium.dropna()\n",
    "print(len(df_stadium['City'].values))"
   ]
  },
  {
   "cell_type": "code",
   "execution_count": 750,
   "metadata": {
    "collapsed": false
   },
   "outputs": [
    {
     "data": {
      "text/html": [
       "<div>\n",
       "<table border=\"1\" class=\"dataframe\">\n",
       "  <thead>\n",
       "    <tr style=\"text-align: right;\">\n",
       "      <th></th>\n",
       "      <th>Team</th>\n",
       "      <th>FDCOUK</th>\n",
       "      <th>City</th>\n",
       "      <th>Stadium</th>\n",
       "      <th>Capacity</th>\n",
       "      <th>Latitude</th>\n",
       "      <th>Longitude</th>\n",
       "      <th>Country</th>\n",
       "    </tr>\n",
       "  </thead>\n",
       "  <tbody>\n",
       "    <tr>\n",
       "      <th>3</th>\n",
       "      <td>Bolton Wanderers</td>\n",
       "      <td>Bolton</td>\n",
       "      <td>Bolton</td>\n",
       "      <td>Reebok Stadium</td>\n",
       "      <td>28100</td>\n",
       "      <td>53.580556</td>\n",
       "      <td>-2.535556</td>\n",
       "      <td>England</td>\n",
       "    </tr>\n",
       "  </tbody>\n",
       "</table>\n",
       "</div>"
      ],
      "text/plain": [
       "                Team  FDCOUK     City          Stadium  Capacity   Latitude  \\\n",
       "3  Bolton Wanderers   Bolton  Bolton   Reebok Stadium      28100  53.580556   \n",
       "\n",
       "   Longitude  Country  \n",
       "3  -2.535556  England  "
      ]
     },
     "execution_count": 750,
     "metadata": {},
     "output_type": "execute_result"
    }
   ],
   "source": [
    "# For some reason, the normal query doesn't work. We'll use contain instead. \n",
    "#df_stadium[df_stadium['City'] == 'Bolton']\n",
    "df_stadium[df_stadium['City'].str.contains('Bolton')]"
   ]
  },
  {
   "cell_type": "code",
   "execution_count": 751,
   "metadata": {
    "collapsed": false
   },
   "outputs": [],
   "source": [
    "# Add the coordinates from the dataframe df_stadium to df.\n",
    "df = pd.merge(df, df_stadium[['Team', 'Stadium', 'Latitude', 'Longitude']], left_on='Klub', right_on='Team', how='left')\n",
    "del df['Team']"
   ]
  },
  {
   "cell_type": "code",
   "execution_count": 752,
   "metadata": {
    "collapsed": false
   },
   "outputs": [
    {
     "data": {
      "text/plain": [
       "1609    53.370278\n",
       "1610    53.370278\n",
       "1613    53.370278\n",
       "1614    53.370278\n",
       "2714    53.411389\n",
       "2715    53.411389\n",
       "2716    53.411389\n",
       "Name: Latitude, dtype: float64"
      ]
     },
     "execution_count": 752,
     "metadata": {},
     "output_type": "execute_result"
    }
   ],
   "source": [
    "# If there are no coordinates in the table, we will try to geocode it.\n",
    "# But first, we check: How many Coordinates are already in?\n",
    "df['Latitude'].dropna()"
   ]
  },
  {
   "cell_type": "code",
   "execution_count": 753,
   "metadata": {
    "collapsed": false
   },
   "outputs": [
    {
     "data": {
      "text/plain": [
       "'import overpass\\napi = overpass.API(timeout=600)\\nmap_query = overpass.MapQuery(-26.5,20.2,52.8,61.3)\\nresponse = api.Get(\\'node[\"leisure\"=\"stadium\"]\\')'"
      ]
     },
     "execution_count": 753,
     "metadata": {},
     "output_type": "execute_result"
    }
   ],
   "source": [
    "# Let's collect the stadiums from Europe and parts of Africa from Openstreetmap.\n",
    "# This takes a long time to run.\n",
    "\n",
    "'''import overpass\n",
    "api = overpass.API(timeout=600)\n",
    "map_query = overpass.MapQuery(-26.5,20.2,52.8,61.3)\n",
    "response = api.Get('node[\"leisure\"=\"stadium\"]')'''"
   ]
  },
  {
   "cell_type": "code",
   "execution_count": 754,
   "metadata": {
    "collapsed": false
   },
   "outputs": [
    {
     "data": {
      "text/plain": [
       "\"response['features'][0]\""
      ]
     },
     "execution_count": 754,
     "metadata": {},
     "output_type": "execute_result"
    }
   ],
   "source": [
    "'''response['features'][0]'''"
   ]
  },
  {
   "cell_type": "code",
   "execution_count": 755,
   "metadata": {
    "collapsed": false
   },
   "outputs": [
    {
     "data": {
      "text/plain": [
       "\"osm_stadiums = response['features']\\ndf_osm_stadiums = dict()\\nfor stadium in osm_stadiums:\\n    try: \\n        df_osm_stadiums[stadium['properties']['name']] = stadium['geometry']['coordinates'] \\n    except: \\n        pass\\ndf_osm_stadiums = pd.DataFrame(df_osm_stadiums).transpose()\\ndf_osm_stadiums.reset_index(level=0, inplace=True)\\ndf_osm_stadiums.columns = ['Klub', 'Latitude', 'Longitude']\\n\""
      ]
     },
     "execution_count": 755,
     "metadata": {},
     "output_type": "execute_result"
    }
   ],
   "source": [
    "'''osm_stadiums = response['features']\n",
    "df_osm_stadiums = dict()\n",
    "for stadium in osm_stadiums:\n",
    "    try: \n",
    "        df_osm_stadiums[stadium['properties']['name']] = stadium['geometry']['coordinates'] \n",
    "    except: \n",
    "        pass\n",
    "df_osm_stadiums = pd.DataFrame(df_osm_stadiums).transpose()\n",
    "df_osm_stadiums.reset_index(level=0, inplace=True)\n",
    "df_osm_stadiums.columns = ['Klub', 'Latitude', 'Longitude']\n",
    "'''"
   ]
  },
  {
   "cell_type": "code",
   "execution_count": 756,
   "metadata": {
    "collapsed": false
   },
   "outputs": [
    {
     "data": {
      "text/html": [
       "<div>\n",
       "<table border=\"1\" class=\"dataframe\">\n",
       "  <thead>\n",
       "    <tr style=\"text-align: right;\">\n",
       "      <th></th>\n",
       "      <th>Klub</th>\n",
       "      <th>Latitude</th>\n",
       "      <th>Longitude</th>\n",
       "    </tr>\n",
       "  </thead>\n",
       "  <tbody>\n",
       "    <tr>\n",
       "      <th>0</th>\n",
       "      <td>\"Детская спортивная школа\"</td>\n",
       "      <td>23.742809</td>\n",
       "      <td>52.097911</td>\n",
       "    </tr>\n",
       "    <tr>\n",
       "      <th>1</th>\n",
       "      <td>\"Нефтянник\"</td>\n",
       "      <td>52.291564</td>\n",
       "      <td>54.908316</td>\n",
       "    </tr>\n",
       "    <tr>\n",
       "      <th>2</th>\n",
       "      <td>\"Спутник\"</td>\n",
       "      <td>52.294112</td>\n",
       "      <td>54.906382</td>\n",
       "    </tr>\n",
       "    <tr>\n",
       "      <th>3</th>\n",
       "      <td>12 Şubat Stadyumu</td>\n",
       "      <td>36.922860</td>\n",
       "      <td>37.574292</td>\n",
       "    </tr>\n",
       "    <tr>\n",
       "      <th>4</th>\n",
       "      <td>13 de diciembre</td>\n",
       "      <td>-76.132310</td>\n",
       "      <td>9.243761</td>\n",
       "    </tr>\n",
       "  </tbody>\n",
       "</table>\n",
       "</div>"
      ],
      "text/plain": [
       "                         Klub   Latitude  Longitude\n",
       "0  \"Детская спортивная школа\"  23.742809  52.097911\n",
       "1                 \"Нефтянник\"  52.291564  54.908316\n",
       "2                   \"Спутник\"  52.294112  54.906382\n",
       "3           12 Şubat Stadyumu  36.922860  37.574292\n",
       "4             13 de diciembre -76.132310   9.243761"
      ]
     },
     "execution_count": 756,
     "metadata": {},
     "output_type": "execute_result"
    }
   ],
   "source": [
    "df_osm_stadiums.head()"
   ]
  },
  {
   "cell_type": "code",
   "execution_count": 757,
   "metadata": {
    "collapsed": false
   },
   "outputs": [
    {
     "name": "stdout",
     "output_type": "stream",
     "text": [
      "12\n",
      "15\n"
     ]
    }
   ],
   "source": [
    "#df_osm_stadiums['Klub'] == df['Klub']\n",
    "first_list = set(df_osm_stadiums['Klub'].dropna().values)\n",
    "first_list = list(first_list)\n",
    "second_list = set(df['Klub'].dropna().values)\n",
    "second_list = list(second_list)\n",
    "\n",
    "# Check if there is data that matches. \n",
    "success = 0\n",
    "failure = 0\n",
    "new_stadiums = dict()\n",
    "for i in first_list:\n",
    "    for j in second_list:\n",
    "        if j in i:\n",
    "            success += 1\n",
    "            lat = float(df_osm_stadiums[df_osm_stadiums['Klub'] == i][['Latitude']].values)\n",
    "            lon = float(df_osm_stadiums[df_osm_stadiums['Klub'] == i][['Longitude']].values)\n",
    "            new_stadiums[j] = [lat,lon]\n",
    "        else:\n",
    "            failure += 1\n",
    "print(success)\n",
    "\n",
    "first_list = set(df_osm_stadiums['Klub'].dropna().values)\n",
    "first_list = list(first_list)\n",
    "second_list = set(df['Stadt'].dropna().values)\n",
    "second_list = list(second_list)\n",
    "\n",
    "# Check if there is data that matches. \n",
    "success = 0\n",
    "failure = 0\n",
    "new_stadiums = dict()\n",
    "for i in first_list:\n",
    "    for j in second_list:\n",
    "        if j in i:\n",
    "            success += 1\n",
    "            lat = float(df_osm_stadiums[df_osm_stadiums['Klub'] == i][['Latitude']].values)\n",
    "            lon = float(df_osm_stadiums[df_osm_stadiums['Klub'] == i][['Longitude']].values)\n",
    "            new_stadiums[j] = [lat,lon]\n",
    "        else:\n",
    "            failure += 1\n",
    "print(success)"
   ]
  },
  {
   "cell_type": "code",
   "execution_count": 758,
   "metadata": {
    "collapsed": false
   },
   "outputs": [],
   "source": [
    "# Try to merge the Openstreetmap data with the dataframe.  \n",
    "new_stadiums = pd.DataFrame(new_stadiums).transpose()\n",
    "new_stadiums = new_stadiums.reset_index()\n",
    "new_stadiums.columns = ['Stadt', 'Latitude', 'Longitude']\n",
    "df = pd.merge(df, new_stadiums[['Stadt', 'Latitude', 'Longitude']], on='Stadt')"
   ]
  },
  {
   "cell_type": "code",
   "execution_count": 759,
   "metadata": {
    "collapsed": false
   },
   "outputs": [],
   "source": [
    "# We are adding some previous downloaded geodata. \n",
    "df_city_coordinates = pd.read_csv('data/geolocations.csv')\n",
    "df_city_coordinates.columns = ['Stadtland', 'Latitude', 'Longitude']\n",
    "df = pd.merge(df, df_city_coordinates, left_on='Stadtland', right_on='Stadtland', how='left')"
   ]
  },
  {
   "cell_type": "code",
   "execution_count": 760,
   "metadata": {
    "collapsed": false
   },
   "outputs": [],
   "source": [
    "df['Latitude'] = pd.concat([df['Latitude_x'].dropna(), df['Latitude_y'].dropna()]).reindex_like(df)\n",
    "df['Longitude'] = pd.concat([df['Longitude_x'].dropna(), df['Longitude_y'].dropna()]).reindex_like(df)\n",
    "del df['Latitude_x']\n",
    "del df['Longitude_x']\n",
    "del df['Latitude_y']\n",
    "del df['Longitude_y']"
   ]
  },
  {
   "cell_type": "code",
   "execution_count": 761,
   "metadata": {
    "collapsed": false
   },
   "outputs": [
    {
     "data": {
      "text/html": [
       "<div>\n",
       "<table border=\"1\" class=\"dataframe\">\n",
       "  <thead>\n",
       "    <tr style=\"text-align: right;\">\n",
       "      <th></th>\n",
       "      <th>Name</th>\n",
       "      <th>Vorname</th>\n",
       "      <th>Stadt</th>\n",
       "      <th>Land</th>\n",
       "      <th>Klub</th>\n",
       "      <th>Von</th>\n",
       "      <th>Bis</th>\n",
       "      <th>Voller Name</th>\n",
       "      <th>Stadtland</th>\n",
       "      <th>Geburtsdatum</th>\n",
       "      <th>Stadium</th>\n",
       "      <th>Latitude</th>\n",
       "      <th>Longitude</th>\n",
       "    </tr>\n",
       "  </thead>\n",
       "  <tbody>\n",
       "    <tr>\n",
       "      <th>0</th>\n",
       "      <td>Aebi</td>\n",
       "      <td>Dominique</td>\n",
       "      <td>Bern</td>\n",
       "      <td>Schweiz</td>\n",
       "      <td>YB II</td>\n",
       "      <td>NaT</td>\n",
       "      <td>2006-06-30</td>\n",
       "      <td>Dominique Aebi</td>\n",
       "      <td>Bern, Schweiz</td>\n",
       "      <td>1988-04-05</td>\n",
       "      <td>NaN</td>\n",
       "      <td>36.784102</td>\n",
       "      <td>-1.314682</td>\n",
       "    </tr>\n",
       "    <tr>\n",
       "      <th>1</th>\n",
       "      <td>Aebi</td>\n",
       "      <td>Dominique</td>\n",
       "      <td>Bern</td>\n",
       "      <td>Schweiz</td>\n",
       "      <td>YB II</td>\n",
       "      <td>NaT</td>\n",
       "      <td>2006-06-30</td>\n",
       "      <td>Dominique Aebi</td>\n",
       "      <td>Bern, Schweiz</td>\n",
       "      <td>1988-04-05</td>\n",
       "      <td>NaN</td>\n",
       "      <td>36.784102</td>\n",
       "      <td>-1.314682</td>\n",
       "    </tr>\n",
       "    <tr>\n",
       "      <th>2</th>\n",
       "      <td>Aebi</td>\n",
       "      <td>Dominique</td>\n",
       "      <td>Bern</td>\n",
       "      <td>Schweiz</td>\n",
       "      <td>YB</td>\n",
       "      <td>2006-01-07</td>\n",
       "      <td>2007-07-31</td>\n",
       "      <td>Dominique Aebi</td>\n",
       "      <td>Bern, Schweiz</td>\n",
       "      <td>1988-04-05</td>\n",
       "      <td>NaN</td>\n",
       "      <td>36.784102</td>\n",
       "      <td>-1.314682</td>\n",
       "    </tr>\n",
       "    <tr>\n",
       "      <th>3</th>\n",
       "      <td>Aebi</td>\n",
       "      <td>Dominique</td>\n",
       "      <td>Bern</td>\n",
       "      <td>Schweiz</td>\n",
       "      <td>YB</td>\n",
       "      <td>2006-01-07</td>\n",
       "      <td>2007-07-31</td>\n",
       "      <td>Dominique Aebi</td>\n",
       "      <td>Bern, Schweiz</td>\n",
       "      <td>1988-04-05</td>\n",
       "      <td>NaN</td>\n",
       "      <td>36.784102</td>\n",
       "      <td>-1.314682</td>\n",
       "    </tr>\n",
       "    <tr>\n",
       "      <th>4</th>\n",
       "      <td>Affolter</td>\n",
       "      <td>François</td>\n",
       "      <td>Bern</td>\n",
       "      <td>Schweiz</td>\n",
       "      <td>YB U-18</td>\n",
       "      <td>2007-01-07</td>\n",
       "      <td>2008-11-25</td>\n",
       "      <td>François Affolter</td>\n",
       "      <td>Bern, Schweiz</td>\n",
       "      <td>1991-03-13</td>\n",
       "      <td>NaN</td>\n",
       "      <td>36.784102</td>\n",
       "      <td>-1.314682</td>\n",
       "    </tr>\n",
       "  </tbody>\n",
       "</table>\n",
       "</div>"
      ],
      "text/plain": [
       "       Name    Vorname Stadt     Land      Klub        Von        Bis  \\\n",
       "0      Aebi  Dominique  Bern  Schweiz    YB II         NaT 2006-06-30   \n",
       "1      Aebi  Dominique  Bern  Schweiz    YB II         NaT 2006-06-30   \n",
       "2      Aebi  Dominique  Bern  Schweiz       YB  2006-01-07 2007-07-31   \n",
       "3      Aebi  Dominique  Bern  Schweiz       YB  2006-01-07 2007-07-31   \n",
       "4  Affolter   François  Bern  Schweiz  YB U-18  2007-01-07 2008-11-25   \n",
       "\n",
       "         Voller Name      Stadtland Geburtsdatum Stadium   Latitude  Longitude  \n",
       "0     Dominique Aebi  Bern, Schweiz   1988-04-05     NaN  36.784102  -1.314682  \n",
       "1     Dominique Aebi  Bern, Schweiz   1988-04-05     NaN  36.784102  -1.314682  \n",
       "2     Dominique Aebi  Bern, Schweiz   1988-04-05     NaN  36.784102  -1.314682  \n",
       "3     Dominique Aebi  Bern, Schweiz   1988-04-05     NaN  36.784102  -1.314682  \n",
       "4  François Affolter  Bern, Schweiz   1991-03-13     NaN  36.784102  -1.314682  "
      ]
     },
     "execution_count": 761,
     "metadata": {},
     "output_type": "execute_result"
    }
   ],
   "source": [
    "df.head()"
   ]
  },
  {
   "cell_type": "code",
   "execution_count": 762,
   "metadata": {
    "collapsed": false
   },
   "outputs": [
    {
     "data": {
      "text/plain": [
       "0"
      ]
     },
     "execution_count": 762,
     "metadata": {},
     "output_type": "execute_result"
    }
   ],
   "source": [
    "# Now we are creating a dataframe with all missing towns -- with unique values to avoid \n",
    "# overload or blocking while geocoding.\n",
    "\n",
    "towns = df.where(pd.isnull(df['Latitude']))[['Stadtland']]\n",
    "townlist = towns['Stadtland'].unique()\n",
    "townlist = pd.DataFrame(townlist)\n",
    "townlist.columns = ['Stadtland']\n",
    "townlist = townlist.dropna()\n",
    "len(townlist)"
   ]
  },
  {
   "cell_type": "code",
   "execution_count": 763,
   "metadata": {
    "collapsed": false
   },
   "outputs": [
    {
     "data": {
      "text/plain": [
       "\"from geopy.geocoders import Nominatim\\nfrom geopy.distance import vincenty\\ngeolocator = Nominatim()\\n\\nd = dict(zip(townlist['Stadtland'], pd.Series(townlist['Stadtland']).apply(geolocator.geocode).apply(lambda x: (x.latitude, x.longitude))))\\n\\n# Save the locations to a file. \\ndf_geo_locations = pd.DataFrame(d)\\ndf_geo_locations = df_geo_locations.transpose()\\ndf_geo_locations.columns = ['Latitude', 'Longitude']\\ndf_geo_locations.to_csv('data/geolocations.csv', sep=',', encoding='utf-8')\\n\\n# Add the new data to the dataframe. \\ndf['Geo'] = df['Stadtland'].map(d)\""
      ]
     },
     "execution_count": 763,
     "metadata": {},
     "output_type": "execute_result"
    }
   ],
   "source": [
    "# Geocode the list with the towns. Attention: Run this cell ony if needed. The values are saved to a csv\n",
    "# for further reference. The csv is loaded above. \n",
    "'''from geopy.geocoders import Nominatim\n",
    "from geopy.distance import vincenty\n",
    "geolocator = Nominatim()\n",
    "\n",
    "d = dict(zip(townlist['Stadtland'], pd.Series(townlist['Stadtland']).apply(geolocator.geocode).apply(lambda x: (x.latitude, x.longitude))))\n",
    "\n",
    "# Save the locations to a file. \n",
    "df_geo_locations = pd.DataFrame(d)\n",
    "df_geo_locations = df_geo_locations.transpose()\n",
    "df_geo_locations.columns = ['Latitude', 'Longitude']\n",
    "df_geo_locations.to_csv('data/geolocations.csv', sep=',', encoding='utf-8')\n",
    "\n",
    "# Add the new data to the dataframe. \n",
    "df['Geo'] = df['Stadtland'].map(d)'''"
   ]
  },
  {
   "cell_type": "code",
   "execution_count": 764,
   "metadata": {
    "collapsed": false
   },
   "outputs": [
    {
     "data": {
      "text/html": [
       "<div>\n",
       "<table border=\"1\" class=\"dataframe\">\n",
       "  <thead>\n",
       "    <tr style=\"text-align: right;\">\n",
       "      <th></th>\n",
       "      <th>Stadtland</th>\n",
       "    </tr>\n",
       "  </thead>\n",
       "  <tbody>\n",
       "  </tbody>\n",
       "</table>\n",
       "</div>"
      ],
      "text/plain": [
       "Empty DataFrame\n",
       "Columns: [Stadtland]\n",
       "Index: []"
      ]
     },
     "execution_count": 764,
     "metadata": {},
     "output_type": "execute_result"
    }
   ],
   "source": [
    "# Which towns are not geocoded? The name of some of these towns might be corrected manually. \n",
    "df.where(pd.isnull(df['Latitude']))[['Stadtland']].dropna()"
   ]
  },
  {
   "cell_type": "code",
   "execution_count": 765,
   "metadata": {
    "collapsed": false
   },
   "outputs": [],
   "source": [
    "# Reindexing: Use the date as index.\n",
    "df.index = df['Von']\n",
    "df = df.sort_index()"
   ]
  },
  {
   "cell_type": "code",
   "execution_count": 766,
   "metadata": {
    "collapsed": false
   },
   "outputs": [
    {
     "data": {
      "text/html": [
       "<div>\n",
       "<table border=\"1\" class=\"dataframe\">\n",
       "  <thead>\n",
       "    <tr style=\"text-align: right;\">\n",
       "      <th></th>\n",
       "      <th>Name</th>\n",
       "      <th>Vorname</th>\n",
       "      <th>Stadt</th>\n",
       "      <th>Land</th>\n",
       "      <th>Klub</th>\n",
       "      <th>Von</th>\n",
       "      <th>Bis</th>\n",
       "      <th>Voller Name</th>\n",
       "      <th>Stadtland</th>\n",
       "      <th>Geburtsdatum</th>\n",
       "      <th>Stadium</th>\n",
       "      <th>Latitude</th>\n",
       "      <th>Longitude</th>\n",
       "    </tr>\n",
       "    <tr>\n",
       "      <th>Von</th>\n",
       "      <th></th>\n",
       "      <th></th>\n",
       "      <th></th>\n",
       "      <th></th>\n",
       "      <th></th>\n",
       "      <th></th>\n",
       "      <th></th>\n",
       "      <th></th>\n",
       "      <th></th>\n",
       "      <th></th>\n",
       "      <th></th>\n",
       "      <th></th>\n",
       "      <th></th>\n",
       "    </tr>\n",
       "  </thead>\n",
       "  <tbody>\n",
       "    <tr>\n",
       "      <th>1993-01-07</th>\n",
       "      <td>Collaviti</td>\n",
       "      <td>Paolo</td>\n",
       "      <td>Bern</td>\n",
       "      <td>Schweiz</td>\n",
       "      <td>YB</td>\n",
       "      <td>1993-01-07</td>\n",
       "      <td>1999-06-30</td>\n",
       "      <td>Paolo Collaviti</td>\n",
       "      <td>Bern, Schweiz</td>\n",
       "      <td>1978-02-02</td>\n",
       "      <td>NaN</td>\n",
       "      <td>36.784102</td>\n",
       "      <td>-1.314682</td>\n",
       "    </tr>\n",
       "    <tr>\n",
       "      <th>1993-01-07</th>\n",
       "      <td>Collaviti</td>\n",
       "      <td>Paolo</td>\n",
       "      <td>Bern</td>\n",
       "      <td>Schweiz</td>\n",
       "      <td>YB</td>\n",
       "      <td>1993-01-07</td>\n",
       "      <td>1999-06-30</td>\n",
       "      <td>Paolo Collaviti</td>\n",
       "      <td>Bern, Schweiz</td>\n",
       "      <td>1978-02-02</td>\n",
       "      <td>NaN</td>\n",
       "      <td>36.784102</td>\n",
       "      <td>-1.314682</td>\n",
       "    </tr>\n",
       "    <tr>\n",
       "      <th>1993-01-07</th>\n",
       "      <td>Collaviti</td>\n",
       "      <td>Paolo</td>\n",
       "      <td>Bern</td>\n",
       "      <td>Schweiz</td>\n",
       "      <td>YB</td>\n",
       "      <td>1993-01-07</td>\n",
       "      <td>1999-06-30</td>\n",
       "      <td>Paolo Collaviti</td>\n",
       "      <td>Bern, Schweiz</td>\n",
       "      <td>1978-02-02</td>\n",
       "      <td>NaN</td>\n",
       "      <td>36.784102</td>\n",
       "      <td>-1.314682</td>\n",
       "    </tr>\n",
       "    <tr>\n",
       "      <th>1995-01-07</th>\n",
       "      <td>Sermeter</td>\n",
       "      <td>Gürkan</td>\n",
       "      <td>Bern</td>\n",
       "      <td>Schweiz</td>\n",
       "      <td>YB</td>\n",
       "      <td>1995-01-07</td>\n",
       "      <td>1996-06-30</td>\n",
       "      <td>Gürkan Sermeter</td>\n",
       "      <td>Bern, Schweiz</td>\n",
       "      <td>1974-02-14</td>\n",
       "      <td>NaN</td>\n",
       "      <td>36.784102</td>\n",
       "      <td>-1.314682</td>\n",
       "    </tr>\n",
       "    <tr>\n",
       "      <th>1995-01-07</th>\n",
       "      <td>Sermeter</td>\n",
       "      <td>Gürkan</td>\n",
       "      <td>Bern</td>\n",
       "      <td>Schweiz</td>\n",
       "      <td>YB</td>\n",
       "      <td>1995-01-07</td>\n",
       "      <td>1996-06-30</td>\n",
       "      <td>Gürkan Sermeter</td>\n",
       "      <td>Bern, Schweiz</td>\n",
       "      <td>1974-02-14</td>\n",
       "      <td>NaN</td>\n",
       "      <td>36.784102</td>\n",
       "      <td>-1.314682</td>\n",
       "    </tr>\n",
       "  </tbody>\n",
       "</table>\n",
       "</div>"
      ],
      "text/plain": [
       "                 Name Vorname Stadt     Land Klub        Von        Bis  \\\n",
       "Von                                                                       \n",
       "1993-01-07  Collaviti   Paolo  Bern  Schweiz  YB  1993-01-07 1999-06-30   \n",
       "1993-01-07  Collaviti   Paolo  Bern  Schweiz  YB  1993-01-07 1999-06-30   \n",
       "1993-01-07  Collaviti   Paolo  Bern  Schweiz  YB  1993-01-07 1999-06-30   \n",
       "1995-01-07   Sermeter  Gürkan  Bern  Schweiz  YB  1995-01-07 1996-06-30   \n",
       "1995-01-07   Sermeter  Gürkan  Bern  Schweiz  YB  1995-01-07 1996-06-30   \n",
       "\n",
       "                Voller Name      Stadtland Geburtsdatum Stadium   Latitude  \\\n",
       "Von                                                                          \n",
       "1993-01-07  Paolo Collaviti  Bern, Schweiz   1978-02-02     NaN  36.784102   \n",
       "1993-01-07  Paolo Collaviti  Bern, Schweiz   1978-02-02     NaN  36.784102   \n",
       "1993-01-07  Paolo Collaviti  Bern, Schweiz   1978-02-02     NaN  36.784102   \n",
       "1995-01-07  Gürkan Sermeter  Bern, Schweiz   1974-02-14     NaN  36.784102   \n",
       "1995-01-07  Gürkan Sermeter  Bern, Schweiz   1974-02-14     NaN  36.784102   \n",
       "\n",
       "            Longitude  \n",
       "Von                    \n",
       "1993-01-07  -1.314682  \n",
       "1993-01-07  -1.314682  \n",
       "1993-01-07  -1.314682  \n",
       "1995-01-07  -1.314682  \n",
       "1995-01-07  -1.314682  "
      ]
     },
     "execution_count": 766,
     "metadata": {},
     "output_type": "execute_result"
    }
   ],
   "source": [
    "df.head()"
   ]
  },
  {
   "cell_type": "markdown",
   "metadata": {},
   "source": [
    "## Exploring the data"
   ]
  },
  {
   "cell_type": "code",
   "execution_count": 767,
   "metadata": {
    "collapsed": false,
    "scrolled": true
   },
   "outputs": [
    {
     "data": {
      "text/html": [
       "<div>\n",
       "<table border=\"1\" class=\"dataframe\">\n",
       "  <thead>\n",
       "    <tr style=\"text-align: right;\">\n",
       "      <th></th>\n",
       "      <th>Name</th>\n",
       "      <th>Vorname</th>\n",
       "      <th>Stadt</th>\n",
       "      <th>Land</th>\n",
       "      <th>Klub</th>\n",
       "      <th>Von</th>\n",
       "      <th>Bis</th>\n",
       "      <th>Voller Name</th>\n",
       "      <th>Stadtland</th>\n",
       "      <th>Geburtsdatum</th>\n",
       "      <th>Stadium</th>\n",
       "      <th>Latitude</th>\n",
       "      <th>Longitude</th>\n",
       "    </tr>\n",
       "    <tr>\n",
       "      <th>Von</th>\n",
       "      <th></th>\n",
       "      <th></th>\n",
       "      <th></th>\n",
       "      <th></th>\n",
       "      <th></th>\n",
       "      <th></th>\n",
       "      <th></th>\n",
       "      <th></th>\n",
       "      <th></th>\n",
       "      <th></th>\n",
       "      <th></th>\n",
       "      <th></th>\n",
       "      <th></th>\n",
       "    </tr>\n",
       "  </thead>\n",
       "  <tbody>\n",
       "    <tr>\n",
       "      <th>2013-04-01</th>\n",
       "      <td>Afum</td>\n",
       "      <td>Samuel</td>\n",
       "      <td>Bern</td>\n",
       "      <td>Schweiz</td>\n",
       "      <td>YB</td>\n",
       "      <td>2013-04-01</td>\n",
       "      <td>NaT</td>\n",
       "      <td>Samuel Afum</td>\n",
       "      <td>Bern, Schweiz</td>\n",
       "      <td>1990-12-24</td>\n",
       "      <td>NaN</td>\n",
       "      <td>36.784102</td>\n",
       "      <td>-1.314682</td>\n",
       "    </tr>\n",
       "    <tr>\n",
       "      <th>2013-04-01</th>\n",
       "      <td>Afum</td>\n",
       "      <td>Samuel</td>\n",
       "      <td>Bern</td>\n",
       "      <td>Schweiz</td>\n",
       "      <td>YB</td>\n",
       "      <td>2013-04-01</td>\n",
       "      <td>NaT</td>\n",
       "      <td>Samuel Afum</td>\n",
       "      <td>Bern, Schweiz</td>\n",
       "      <td>1990-12-24</td>\n",
       "      <td>NaN</td>\n",
       "      <td>36.784102</td>\n",
       "      <td>-1.314682</td>\n",
       "    </tr>\n",
       "    <tr>\n",
       "      <th>2013-04-01</th>\n",
       "      <td>Afum</td>\n",
       "      <td>Samuel</td>\n",
       "      <td>Bern</td>\n",
       "      <td>Schweiz</td>\n",
       "      <td>YB</td>\n",
       "      <td>2013-04-01</td>\n",
       "      <td>NaT</td>\n",
       "      <td>Samuel Afum</td>\n",
       "      <td>Bern, Schweiz</td>\n",
       "      <td>1990-12-24</td>\n",
       "      <td>NaN</td>\n",
       "      <td>36.784102</td>\n",
       "      <td>-1.314682</td>\n",
       "    </tr>\n",
       "  </tbody>\n",
       "</table>\n",
       "</div>"
      ],
      "text/plain": [
       "            Name Vorname Stadt     Land Klub        Von Bis  Voller Name  \\\n",
       "Von                                                                        \n",
       "2013-04-01  Afum  Samuel  Bern  Schweiz  YB  2013-04-01 NaT  Samuel Afum   \n",
       "2013-04-01  Afum  Samuel  Bern  Schweiz  YB  2013-04-01 NaT  Samuel Afum   \n",
       "2013-04-01  Afum  Samuel  Bern  Schweiz  YB  2013-04-01 NaT  Samuel Afum   \n",
       "\n",
       "                Stadtland Geburtsdatum Stadium   Latitude  Longitude  \n",
       "Von                                                                   \n",
       "2013-04-01  Bern, Schweiz   1990-12-24     NaN  36.784102  -1.314682  \n",
       "2013-04-01  Bern, Schweiz   1990-12-24     NaN  36.784102  -1.314682  \n",
       "2013-04-01  Bern, Schweiz   1990-12-24     NaN  36.784102  -1.314682  "
      ]
     },
     "execution_count": 767,
     "metadata": {},
     "output_type": "execute_result"
    }
   ],
   "source": [
    "# Show all entries for a specified football player, eg. Samuel Afum. \n",
    "\n",
    "df[df['Voller Name'] == 'Samuel Afum']"
   ]
  },
  {
   "cell_type": "code",
   "execution_count": 768,
   "metadata": {
    "collapsed": false
   },
   "outputs": [
    {
     "data": {
      "text/plain": [
       "3"
      ]
     },
     "execution_count": 768,
     "metadata": {},
     "output_type": "execute_result"
    }
   ],
   "source": [
    "# How many transfers did an athlete make (eg. Samuel Afum)?\n",
    "\n",
    "len(df[df['Voller Name'] == 'Samuel Afum'])"
   ]
  },
  {
   "cell_type": "code",
   "execution_count": 769,
   "metadata": {
    "collapsed": false
   },
   "outputs": [
    {
     "data": {
      "image/png": "[encoded data removed]",
      "text/plain": [
       "<matplotlib.figure.Figure at 0x7f36a2ffda20>"
      ]
     },
     "metadata": {},
     "output_type": "display_data"
    }
   ],
   "source": [
    "# Which athletes did make the most transfers?\n",
    "fig, ax = plt.subplots(figsize=(15,8))\n",
    "df['Voller Name'].value_counts().head(17).sort_values(ascending=True).plot(kind='barh', ax=ax)\n",
    "fig.savefig('output/transferhero.png')"
   ]
  },
  {
   "cell_type": "code",
   "execution_count": 770,
   "metadata": {
    "collapsed": false
   },
   "outputs": [
    {
     "data": {
      "text/html": [
       "<div>\n",
       "<table border=\"1\" class=\"dataframe\">\n",
       "  <thead>\n",
       "    <tr style=\"text-align: right;\">\n",
       "      <th></th>\n",
       "      <th>Name</th>\n",
       "      <th>Vorname</th>\n",
       "      <th>Stadt</th>\n",
       "      <th>Land</th>\n",
       "      <th>Klub</th>\n",
       "      <th>Von</th>\n",
       "      <th>Bis</th>\n",
       "      <th>Voller Name</th>\n",
       "      <th>Stadtland</th>\n",
       "      <th>Geburtsdatum</th>\n",
       "      <th>Stadium</th>\n",
       "      <th>Latitude</th>\n",
       "      <th>Longitude</th>\n",
       "    </tr>\n",
       "    <tr>\n",
       "      <th>Von</th>\n",
       "      <th></th>\n",
       "      <th></th>\n",
       "      <th></th>\n",
       "      <th></th>\n",
       "      <th></th>\n",
       "      <th></th>\n",
       "      <th></th>\n",
       "      <th></th>\n",
       "      <th></th>\n",
       "      <th></th>\n",
       "      <th></th>\n",
       "      <th></th>\n",
       "      <th></th>\n",
       "    </tr>\n",
       "  </thead>\n",
       "  <tbody>\n",
       "    <tr>\n",
       "      <th>2008-10-07</th>\n",
       "      <td>Bastians</td>\n",
       "      <td>Felix</td>\n",
       "      <td>Bern</td>\n",
       "      <td>Schweiz</td>\n",
       "      <td>YB</td>\n",
       "      <td>2008-10-07</td>\n",
       "      <td>2009-06-07</td>\n",
       "      <td>Felix Bastians</td>\n",
       "      <td>Bern, Schweiz</td>\n",
       "      <td>1988-09-05</td>\n",
       "      <td>NaN</td>\n",
       "      <td>36.784102</td>\n",
       "      <td>-1.314682</td>\n",
       "    </tr>\n",
       "  </tbody>\n",
       "</table>\n",
       "</div>"
      ],
      "text/plain": [
       "                Name Vorname Stadt     Land Klub        Von        Bis  \\\n",
       "Von                                                                      \n",
       "2008-10-07  Bastians   Felix  Bern  Schweiz  YB  2008-10-07 2009-06-07   \n",
       "\n",
       "               Voller Name      Stadtland Geburtsdatum Stadium   Latitude  \\\n",
       "Von                                                                         \n",
       "2008-10-07  Felix Bastians  Bern, Schweiz   1988-09-05     NaN  36.784102   \n",
       "\n",
       "            Longitude  \n",
       "Von                    \n",
       "2008-10-07  -1.314682  "
      ]
     },
     "execution_count": 770,
     "metadata": {},
     "output_type": "execute_result"
    }
   ],
   "source": [
    "# From town to town -- let's take a closer look at Felix Bastians. \n",
    "df[df['Voller Name'] == 'Felix Bastians']"
   ]
  },
  {
   "cell_type": "code",
   "execution_count": 782,
   "metadata": {
    "collapsed": false
   },
   "outputs": [
    {
     "data": {
      "text/html": [
       "<div>\n",
       "<table border=\"1\" class=\"dataframe\">\n",
       "  <thead>\n",
       "    <tr style=\"text-align: right;\">\n",
       "      <th></th>\n",
       "      <th>Name</th>\n",
       "      <th>Vorname</th>\n",
       "      <th>Stadt</th>\n",
       "      <th>Land</th>\n",
       "      <th>Klub</th>\n",
       "      <th>Von</th>\n",
       "      <th>Bis</th>\n",
       "      <th>Voller Name</th>\n",
       "      <th>Stadtland</th>\n",
       "      <th>Geburtsdatum</th>\n",
       "      <th>Stadium</th>\n",
       "      <th>Latitude</th>\n",
       "      <th>Longitude</th>\n",
       "    </tr>\n",
       "    <tr>\n",
       "      <th>Von</th>\n",
       "      <th></th>\n",
       "      <th></th>\n",
       "      <th></th>\n",
       "      <th></th>\n",
       "      <th></th>\n",
       "      <th></th>\n",
       "      <th></th>\n",
       "      <th></th>\n",
       "      <th></th>\n",
       "      <th></th>\n",
       "      <th></th>\n",
       "      <th></th>\n",
       "      <th></th>\n",
       "    </tr>\n",
       "  </thead>\n",
       "  <tbody>\n",
       "    <tr>\n",
       "      <th>1997-01-07</th>\n",
       "      <td>Delfim</td>\n",
       "      <td>NaN</td>\n",
       "      <td>Porto</td>\n",
       "      <td>Portugal</td>\n",
       "      <td>Boavista Porto</td>\n",
       "      <td>1997-01-07</td>\n",
       "      <td>1998-06-30</td>\n",
       "      <td>NaN</td>\n",
       "      <td>Porto, Portugal</td>\n",
       "      <td>1981-05-19</td>\n",
       "      <td>NaN</td>\n",
       "      <td>-16.847226</td>\n",
       "      <td>32.768582</td>\n",
       "    </tr>\n",
       "    <tr>\n",
       "      <th>1997-01-07</th>\n",
       "      <td>Delfim</td>\n",
       "      <td>NaN</td>\n",
       "      <td>Porto</td>\n",
       "      <td>Portugal</td>\n",
       "      <td>Boavista Porto</td>\n",
       "      <td>1997-01-07</td>\n",
       "      <td>1998-06-30</td>\n",
       "      <td>NaN</td>\n",
       "      <td>Porto, Portugal</td>\n",
       "      <td>1979-09-29</td>\n",
       "      <td>NaN</td>\n",
       "      <td>-16.847226</td>\n",
       "      <td>32.768582</td>\n",
       "    </tr>\n",
       "    <tr>\n",
       "      <th>1997-01-07</th>\n",
       "      <td>Delfim</td>\n",
       "      <td>NaN</td>\n",
       "      <td>Porto</td>\n",
       "      <td>Portugal</td>\n",
       "      <td>Boavista Porto</td>\n",
       "      <td>1997-01-07</td>\n",
       "      <td>1998-06-30</td>\n",
       "      <td>NaN</td>\n",
       "      <td>Porto, Portugal</td>\n",
       "      <td>1981-12-01</td>\n",
       "      <td>NaN</td>\n",
       "      <td>-16.847226</td>\n",
       "      <td>32.768582</td>\n",
       "    </tr>\n",
       "    <tr>\n",
       "      <th>1997-01-07</th>\n",
       "      <td>Delfim</td>\n",
       "      <td>NaN</td>\n",
       "      <td>Porto</td>\n",
       "      <td>Portugal</td>\n",
       "      <td>Boavista Porto</td>\n",
       "      <td>1997-01-07</td>\n",
       "      <td>1998-06-30</td>\n",
       "      <td>NaN</td>\n",
       "      <td>Porto, Portugal</td>\n",
       "      <td>1977-05-02</td>\n",
       "      <td>NaN</td>\n",
       "      <td>-16.847226</td>\n",
       "      <td>32.768582</td>\n",
       "    </tr>\n",
       "    <tr>\n",
       "      <th>1997-01-07</th>\n",
       "      <td>Delfim</td>\n",
       "      <td>NaN</td>\n",
       "      <td>Porto</td>\n",
       "      <td>Portugal</td>\n",
       "      <td>Boavista Porto</td>\n",
       "      <td>1997-01-07</td>\n",
       "      <td>1998-06-30</td>\n",
       "      <td>NaN</td>\n",
       "      <td>Porto, Portugal</td>\n",
       "      <td>1981-05-19</td>\n",
       "      <td>NaN</td>\n",
       "      <td>-16.847226</td>\n",
       "      <td>32.768582</td>\n",
       "    </tr>\n",
       "    <tr>\n",
       "      <th>1997-01-07</th>\n",
       "      <td>Delfim</td>\n",
       "      <td>NaN</td>\n",
       "      <td>Porto</td>\n",
       "      <td>Portugal</td>\n",
       "      <td>Boavista Porto</td>\n",
       "      <td>1997-01-07</td>\n",
       "      <td>1998-06-30</td>\n",
       "      <td>NaN</td>\n",
       "      <td>Porto, Portugal</td>\n",
       "      <td>1976-02-15</td>\n",
       "      <td>NaN</td>\n",
       "      <td>-16.847226</td>\n",
       "      <td>32.768582</td>\n",
       "    </tr>\n",
       "    <tr>\n",
       "      <th>1997-01-07</th>\n",
       "      <td>Delfim</td>\n",
       "      <td>NaN</td>\n",
       "      <td>Porto</td>\n",
       "      <td>Portugal</td>\n",
       "      <td>Boavista Porto</td>\n",
       "      <td>1997-01-07</td>\n",
       "      <td>1998-06-30</td>\n",
       "      <td>NaN</td>\n",
       "      <td>Porto, Portugal</td>\n",
       "      <td>1981-12-01</td>\n",
       "      <td>NaN</td>\n",
       "      <td>-16.847226</td>\n",
       "      <td>32.768582</td>\n",
       "    </tr>\n",
       "    <tr>\n",
       "      <th>1997-01-07</th>\n",
       "      <td>Delfim</td>\n",
       "      <td>NaN</td>\n",
       "      <td>Porto</td>\n",
       "      <td>Portugal</td>\n",
       "      <td>Boavista Porto</td>\n",
       "      <td>1997-01-07</td>\n",
       "      <td>1998-06-30</td>\n",
       "      <td>NaN</td>\n",
       "      <td>Porto, Portugal</td>\n",
       "      <td>1975-10-11</td>\n",
       "      <td>NaN</td>\n",
       "      <td>-16.847226</td>\n",
       "      <td>32.768582</td>\n",
       "    </tr>\n",
       "    <tr>\n",
       "      <th>1997-01-07</th>\n",
       "      <td>Delfim</td>\n",
       "      <td>NaN</td>\n",
       "      <td>Porto</td>\n",
       "      <td>Portugal</td>\n",
       "      <td>Boavista Porto</td>\n",
       "      <td>1997-01-07</td>\n",
       "      <td>1998-06-30</td>\n",
       "      <td>NaN</td>\n",
       "      <td>Porto, Portugal</td>\n",
       "      <td>1981-05-19</td>\n",
       "      <td>NaN</td>\n",
       "      <td>-16.847226</td>\n",
       "      <td>32.768582</td>\n",
       "    </tr>\n",
       "    <tr>\n",
       "      <th>1997-01-07</th>\n",
       "      <td>Delfim</td>\n",
       "      <td>NaN</td>\n",
       "      <td>Porto</td>\n",
       "      <td>Portugal</td>\n",
       "      <td>Boavista Porto</td>\n",
       "      <td>1997-01-07</td>\n",
       "      <td>1998-06-30</td>\n",
       "      <td>NaN</td>\n",
       "      <td>Porto, Portugal</td>\n",
       "      <td>1981-12-01</td>\n",
       "      <td>NaN</td>\n",
       "      <td>-16.847226</td>\n",
       "      <td>32.768582</td>\n",
       "    </tr>\n",
       "    <tr>\n",
       "      <th>1997-01-07</th>\n",
       "      <td>Delfim</td>\n",
       "      <td>NaN</td>\n",
       "      <td>Porto</td>\n",
       "      <td>Portugal</td>\n",
       "      <td>Boavista Porto</td>\n",
       "      <td>1997-01-07</td>\n",
       "      <td>1998-06-30</td>\n",
       "      <td>NaN</td>\n",
       "      <td>Porto, Portugal</td>\n",
       "      <td>1983-05-08</td>\n",
       "      <td>NaN</td>\n",
       "      <td>-16.847226</td>\n",
       "      <td>32.768582</td>\n",
       "    </tr>\n",
       "    <tr>\n",
       "      <th>NaT</th>\n",
       "      <td>Delfim</td>\n",
       "      <td>NaN</td>\n",
       "      <td>Porto</td>\n",
       "      <td>Portugal</td>\n",
       "      <td>Boavista Porto</td>\n",
       "      <td>NaT</td>\n",
       "      <td>1996-06-30</td>\n",
       "      <td>NaN</td>\n",
       "      <td>Porto, Portugal</td>\n",
       "      <td>1975-10-11</td>\n",
       "      <td>NaN</td>\n",
       "      <td>-16.847226</td>\n",
       "      <td>32.768582</td>\n",
       "    </tr>\n",
       "    <tr>\n",
       "      <th>NaT</th>\n",
       "      <td>Delfim</td>\n",
       "      <td>NaN</td>\n",
       "      <td>Porto</td>\n",
       "      <td>Portugal</td>\n",
       "      <td>Boavista Porto</td>\n",
       "      <td>NaT</td>\n",
       "      <td>1996-06-30</td>\n",
       "      <td>NaN</td>\n",
       "      <td>Porto, Portugal</td>\n",
       "      <td>1981-12-01</td>\n",
       "      <td>NaN</td>\n",
       "      <td>-16.847226</td>\n",
       "      <td>32.768582</td>\n",
       "    </tr>\n",
       "    <tr>\n",
       "      <th>NaT</th>\n",
       "      <td>Delfim</td>\n",
       "      <td>NaN</td>\n",
       "      <td>Porto</td>\n",
       "      <td>Portugal</td>\n",
       "      <td>Boavista Porto</td>\n",
       "      <td>NaT</td>\n",
       "      <td>1996-06-30</td>\n",
       "      <td>NaN</td>\n",
       "      <td>Porto, Portugal</td>\n",
       "      <td>1976-02-15</td>\n",
       "      <td>NaN</td>\n",
       "      <td>-16.847226</td>\n",
       "      <td>32.768582</td>\n",
       "    </tr>\n",
       "    <tr>\n",
       "      <th>NaT</th>\n",
       "      <td>Delfim</td>\n",
       "      <td>NaN</td>\n",
       "      <td>Porto</td>\n",
       "      <td>Portugal</td>\n",
       "      <td>Boavista Porto</td>\n",
       "      <td>NaT</td>\n",
       "      <td>1996-06-30</td>\n",
       "      <td>NaN</td>\n",
       "      <td>Porto, Portugal</td>\n",
       "      <td>1981-05-19</td>\n",
       "      <td>NaN</td>\n",
       "      <td>-16.847226</td>\n",
       "      <td>32.768582</td>\n",
       "    </tr>\n",
       "    <tr>\n",
       "      <th>NaT</th>\n",
       "      <td>Delfim</td>\n",
       "      <td>NaN</td>\n",
       "      <td>Porto</td>\n",
       "      <td>Portugal</td>\n",
       "      <td>Boavista Porto</td>\n",
       "      <td>NaT</td>\n",
       "      <td>1996-06-30</td>\n",
       "      <td>NaN</td>\n",
       "      <td>Porto, Portugal</td>\n",
       "      <td>1977-05-02</td>\n",
       "      <td>NaN</td>\n",
       "      <td>-16.847226</td>\n",
       "      <td>32.768582</td>\n",
       "    </tr>\n",
       "    <tr>\n",
       "      <th>NaT</th>\n",
       "      <td>Delfim</td>\n",
       "      <td>NaN</td>\n",
       "      <td>Porto</td>\n",
       "      <td>Portugal</td>\n",
       "      <td>Boavista Porto</td>\n",
       "      <td>NaT</td>\n",
       "      <td>1996-06-30</td>\n",
       "      <td>NaN</td>\n",
       "      <td>Porto, Portugal</td>\n",
       "      <td>1981-12-01</td>\n",
       "      <td>NaN</td>\n",
       "      <td>-16.847226</td>\n",
       "      <td>32.768582</td>\n",
       "    </tr>\n",
       "    <tr>\n",
       "      <th>NaT</th>\n",
       "      <td>Delfim</td>\n",
       "      <td>NaN</td>\n",
       "      <td>Porto</td>\n",
       "      <td>Portugal</td>\n",
       "      <td>Boavista Porto</td>\n",
       "      <td>NaT</td>\n",
       "      <td>1996-06-30</td>\n",
       "      <td>NaN</td>\n",
       "      <td>Porto, Portugal</td>\n",
       "      <td>1979-09-29</td>\n",
       "      <td>NaN</td>\n",
       "      <td>-16.847226</td>\n",
       "      <td>32.768582</td>\n",
       "    </tr>\n",
       "    <tr>\n",
       "      <th>NaT</th>\n",
       "      <td>Delfim</td>\n",
       "      <td>NaN</td>\n",
       "      <td>Porto</td>\n",
       "      <td>Portugal</td>\n",
       "      <td>Boavista Porto</td>\n",
       "      <td>NaT</td>\n",
       "      <td>1996-06-30</td>\n",
       "      <td>NaN</td>\n",
       "      <td>Porto, Portugal</td>\n",
       "      <td>1981-05-19</td>\n",
       "      <td>NaN</td>\n",
       "      <td>-16.847226</td>\n",
       "      <td>32.768582</td>\n",
       "    </tr>\n",
       "    <tr>\n",
       "      <th>NaT</th>\n",
       "      <td>Delfim</td>\n",
       "      <td>NaN</td>\n",
       "      <td>Porto</td>\n",
       "      <td>Portugal</td>\n",
       "      <td>Boavista Porto</td>\n",
       "      <td>NaT</td>\n",
       "      <td>1996-06-30</td>\n",
       "      <td>NaN</td>\n",
       "      <td>Porto, Portugal</td>\n",
       "      <td>1981-12-01</td>\n",
       "      <td>NaN</td>\n",
       "      <td>-16.847226</td>\n",
       "      <td>32.768582</td>\n",
       "    </tr>\n",
       "    <tr>\n",
       "      <th>NaT</th>\n",
       "      <td>Delfim</td>\n",
       "      <td>NaN</td>\n",
       "      <td>Porto</td>\n",
       "      <td>Portugal</td>\n",
       "      <td>Boavista Porto</td>\n",
       "      <td>NaT</td>\n",
       "      <td>1996-06-30</td>\n",
       "      <td>NaN</td>\n",
       "      <td>Porto, Portugal</td>\n",
       "      <td>1981-05-19</td>\n",
       "      <td>NaN</td>\n",
       "      <td>-16.847226</td>\n",
       "      <td>32.768582</td>\n",
       "    </tr>\n",
       "    <tr>\n",
       "      <th>NaT</th>\n",
       "      <td>Delfim</td>\n",
       "      <td>NaN</td>\n",
       "      <td>Porto</td>\n",
       "      <td>Portugal</td>\n",
       "      <td>Boavista Porto</td>\n",
       "      <td>NaT</td>\n",
       "      <td>1996-06-30</td>\n",
       "      <td>NaN</td>\n",
       "      <td>Porto, Portugal</td>\n",
       "      <td>1983-05-08</td>\n",
       "      <td>NaN</td>\n",
       "      <td>-16.847226</td>\n",
       "      <td>32.768582</td>\n",
       "    </tr>\n",
       "  </tbody>\n",
       "</table>\n",
       "</div>"
      ],
      "text/plain": [
       "              Name Vorname  Stadt      Land            Klub        Von  \\\n",
       "Von                                                                      \n",
       "1997-01-07  Delfim     NaN  Porto  Portugal  Boavista Porto 1997-01-07   \n",
       "1997-01-07  Delfim     NaN  Porto  Portugal  Boavista Porto 1997-01-07   \n",
       "1997-01-07  Delfim     NaN  Porto  Portugal  Boavista Porto 1997-01-07   \n",
       "1997-01-07  Delfim     NaN  Porto  Portugal  Boavista Porto 1997-01-07   \n",
       "1997-01-07  Delfim     NaN  Porto  Portugal  Boavista Porto 1997-01-07   \n",
       "1997-01-07  Delfim     NaN  Porto  Portugal  Boavista Porto 1997-01-07   \n",
       "1997-01-07  Delfim     NaN  Porto  Portugal  Boavista Porto 1997-01-07   \n",
       "1997-01-07  Delfim     NaN  Porto  Portugal  Boavista Porto 1997-01-07   \n",
       "1997-01-07  Delfim     NaN  Porto  Portugal  Boavista Porto 1997-01-07   \n",
       "1997-01-07  Delfim     NaN  Porto  Portugal  Boavista Porto 1997-01-07   \n",
       "1997-01-07  Delfim     NaN  Porto  Portugal  Boavista Porto 1997-01-07   \n",
       "NaT         Delfim     NaN  Porto  Portugal  Boavista Porto        NaT   \n",
       "NaT         Delfim     NaN  Porto  Portugal  Boavista Porto        NaT   \n",
       "NaT         Delfim     NaN  Porto  Portugal  Boavista Porto        NaT   \n",
       "NaT         Delfim     NaN  Porto  Portugal  Boavista Porto        NaT   \n",
       "NaT         Delfim     NaN  Porto  Portugal  Boavista Porto        NaT   \n",
       "NaT         Delfim     NaN  Porto  Portugal  Boavista Porto        NaT   \n",
       "NaT         Delfim     NaN  Porto  Portugal  Boavista Porto        NaT   \n",
       "NaT         Delfim     NaN  Porto  Portugal  Boavista Porto        NaT   \n",
       "NaT         Delfim     NaN  Porto  Portugal  Boavista Porto        NaT   \n",
       "NaT         Delfim     NaN  Porto  Portugal  Boavista Porto        NaT   \n",
       "NaT         Delfim     NaN  Porto  Portugal  Boavista Porto        NaT   \n",
       "\n",
       "                  Bis Voller Name        Stadtland Geburtsdatum Stadium  \\\n",
       "Von                                                                       \n",
       "1997-01-07 1998-06-30         NaN  Porto, Portugal   1981-05-19     NaN   \n",
       "1997-01-07 1998-06-30         NaN  Porto, Portugal   1979-09-29     NaN   \n",
       "1997-01-07 1998-06-30         NaN  Porto, Portugal   1981-12-01     NaN   \n",
       "1997-01-07 1998-06-30         NaN  Porto, Portugal   1977-05-02     NaN   \n",
       "1997-01-07 1998-06-30         NaN  Porto, Portugal   1981-05-19     NaN   \n",
       "1997-01-07 1998-06-30         NaN  Porto, Portugal   1976-02-15     NaN   \n",
       "1997-01-07 1998-06-30         NaN  Porto, Portugal   1981-12-01     NaN   \n",
       "1997-01-07 1998-06-30         NaN  Porto, Portugal   1975-10-11     NaN   \n",
       "1997-01-07 1998-06-30         NaN  Porto, Portugal   1981-05-19     NaN   \n",
       "1997-01-07 1998-06-30         NaN  Porto, Portugal   1981-12-01     NaN   \n",
       "1997-01-07 1998-06-30         NaN  Porto, Portugal   1983-05-08     NaN   \n",
       "NaT        1996-06-30         NaN  Porto, Portugal   1975-10-11     NaN   \n",
       "NaT        1996-06-30         NaN  Porto, Portugal   1981-12-01     NaN   \n",
       "NaT        1996-06-30         NaN  Porto, Portugal   1976-02-15     NaN   \n",
       "NaT        1996-06-30         NaN  Porto, Portugal   1981-05-19     NaN   \n",
       "NaT        1996-06-30         NaN  Porto, Portugal   1977-05-02     NaN   \n",
       "NaT        1996-06-30         NaN  Porto, Portugal   1981-12-01     NaN   \n",
       "NaT        1996-06-30         NaN  Porto, Portugal   1979-09-29     NaN   \n",
       "NaT        1996-06-30         NaN  Porto, Portugal   1981-05-19     NaN   \n",
       "NaT        1996-06-30         NaN  Porto, Portugal   1981-12-01     NaN   \n",
       "NaT        1996-06-30         NaN  Porto, Portugal   1981-05-19     NaN   \n",
       "NaT        1996-06-30         NaN  Porto, Portugal   1983-05-08     NaN   \n",
       "\n",
       "             Latitude  Longitude  \n",
       "Von                               \n",
       "1997-01-07 -16.847226  32.768582  \n",
       "1997-01-07 -16.847226  32.768582  \n",
       "1997-01-07 -16.847226  32.768582  \n",
       "1997-01-07 -16.847226  32.768582  \n",
       "1997-01-07 -16.847226  32.768582  \n",
       "1997-01-07 -16.847226  32.768582  \n",
       "1997-01-07 -16.847226  32.768582  \n",
       "1997-01-07 -16.847226  32.768582  \n",
       "1997-01-07 -16.847226  32.768582  \n",
       "1997-01-07 -16.847226  32.768582  \n",
       "1997-01-07 -16.847226  32.768582  \n",
       "NaT        -16.847226  32.768582  \n",
       "NaT        -16.847226  32.768582  \n",
       "NaT        -16.847226  32.768582  \n",
       "NaT        -16.847226  32.768582  \n",
       "NaT        -16.847226  32.768582  \n",
       "NaT        -16.847226  32.768582  \n",
       "NaT        -16.847226  32.768582  \n",
       "NaT        -16.847226  32.768582  \n",
       "NaT        -16.847226  32.768582  \n",
       "NaT        -16.847226  32.768582  \n",
       "NaT        -16.847226  32.768582  "
      ]
     },
     "execution_count": 782,
     "metadata": {},
     "output_type": "execute_result"
    }
   ],
   "source": [
    "# Show all athletes that played in a specified town, eg. Wil. \n",
    "df[df['Stadt'] == 'Porto']"
   ]
  },
  {
   "cell_type": "code",
   "execution_count": 785,
   "metadata": {
    "collapsed": false
   },
   "outputs": [
    {
     "data": {
      "text/plain": [
       "Name            746\n",
       "Vorname         647\n",
       "Stadt           746\n",
       "Land            746\n",
       "Klub            746\n",
       "Von             678\n",
       "Bis             644\n",
       "Voller Name     647\n",
       "Stadtland       746\n",
       "Geburtsdatum    740\n",
       "Stadium           0\n",
       "Latitude        746\n",
       "Longitude       746\n",
       "dtype: int64"
      ]
     },
     "execution_count": 785,
     "metadata": {},
     "output_type": "execute_result"
    }
   ],
   "source": [
    "# International versus national.\n",
    "df[df['Land'] == 'Schweiz'].count()\n"
   ]
  },
  {
   "cell_type": "code",
   "execution_count": 786,
   "metadata": {
    "collapsed": false
   },
   "outputs": [
    {
     "data": {
      "text/plain": [
       "Schweiz        746\n",
       "Portugal        22\n",
       "Frankreich       4\n",
       "Nigeria          4\n",
       "Holland          3\n",
       "Niederlande      2\n",
       "Schwez           1\n",
       "Name: Land, dtype: int64"
      ]
     },
     "execution_count": 786,
     "metadata": {},
     "output_type": "execute_result"
    }
   ],
   "source": [
    "df['Land'].value_counts()"
   ]
  },
  {
   "cell_type": "code",
   "execution_count": 723,
   "metadata": {
    "collapsed": false,
    "scrolled": true
   },
   "outputs": [
    {
     "ename": "KeyError",
     "evalue": "'1997'",
     "output_type": "error",
     "traceback": [
      "\u001b[1;31m---------------------------------------------------------------------------\u001b[0m",
      "\u001b[1;31mKeyError\u001b[0m                                  Traceback (most recent call last)",
      "\u001b[1;32m<ipython-input-723-c3ea64821bb9>\u001b[0m in \u001b[0;36m<module>\u001b[1;34m()\u001b[0m\n\u001b[0;32m      1\u001b[0m \u001b[1;31m# Show all transfers from a specific year, eg. in 1997.\u001b[0m\u001b[1;33m\u001b[0m\u001b[1;33m\u001b[0m\u001b[0m\n\u001b[1;32m----> 2\u001b[1;33m \u001b[0mdf\u001b[0m\u001b[1;33m[\u001b[0m\u001b[1;34m'1997'\u001b[0m\u001b[1;33m]\u001b[0m\u001b[1;33m\u001b[0m\u001b[0m\n\u001b[0m",
      "\u001b[1;32m/usr/lib/python3/dist-packages/pandas/core/frame.py\u001b[0m in \u001b[0;36m__getitem__\u001b[1;34m(self, key)\u001b[0m\n\u001b[0;32m   1967\u001b[0m             \u001b[1;32mreturn\u001b[0m \u001b[0mself\u001b[0m\u001b[1;33m.\u001b[0m\u001b[0m_getitem_multilevel\u001b[0m\u001b[1;33m(\u001b[0m\u001b[0mkey\u001b[0m\u001b[1;33m)\u001b[0m\u001b[1;33m\u001b[0m\u001b[0m\n\u001b[0;32m   1968\u001b[0m         \u001b[1;32melse\u001b[0m\u001b[1;33m:\u001b[0m\u001b[1;33m\u001b[0m\u001b[0m\n\u001b[1;32m-> 1969\u001b[1;33m             \u001b[1;32mreturn\u001b[0m \u001b[0mself\u001b[0m\u001b[1;33m.\u001b[0m\u001b[0m_getitem_column\u001b[0m\u001b[1;33m(\u001b[0m\u001b[0mkey\u001b[0m\u001b[1;33m)\u001b[0m\u001b[1;33m\u001b[0m\u001b[0m\n\u001b[0m\u001b[0;32m   1970\u001b[0m \u001b[1;33m\u001b[0m\u001b[0m\n\u001b[0;32m   1971\u001b[0m     \u001b[1;32mdef\u001b[0m \u001b[0m_getitem_column\u001b[0m\u001b[1;33m(\u001b[0m\u001b[0mself\u001b[0m\u001b[1;33m,\u001b[0m \u001b[0mkey\u001b[0m\u001b[1;33m)\u001b[0m\u001b[1;33m:\u001b[0m\u001b[1;33m\u001b[0m\u001b[0m\n",
      "\u001b[1;32m/usr/lib/python3/dist-packages/pandas/core/frame.py\u001b[0m in \u001b[0;36m_getitem_column\u001b[1;34m(self, key)\u001b[0m\n\u001b[0;32m   1974\u001b[0m         \u001b[1;31m# get column\u001b[0m\u001b[1;33m\u001b[0m\u001b[1;33m\u001b[0m\u001b[0m\n\u001b[0;32m   1975\u001b[0m         \u001b[1;32mif\u001b[0m \u001b[0mself\u001b[0m\u001b[1;33m.\u001b[0m\u001b[0mcolumns\u001b[0m\u001b[1;33m.\u001b[0m\u001b[0mis_unique\u001b[0m\u001b[1;33m:\u001b[0m\u001b[1;33m\u001b[0m\u001b[0m\n\u001b[1;32m-> 1976\u001b[1;33m             \u001b[1;32mreturn\u001b[0m \u001b[0mself\u001b[0m\u001b[1;33m.\u001b[0m\u001b[0m_get_item_cache\u001b[0m\u001b[1;33m(\u001b[0m\u001b[0mkey\u001b[0m\u001b[1;33m)\u001b[0m\u001b[1;33m\u001b[0m\u001b[0m\n\u001b[0m\u001b[0;32m   1977\u001b[0m \u001b[1;33m\u001b[0m\u001b[0m\n\u001b[0;32m   1978\u001b[0m         \u001b[1;31m# duplicate columns & possible reduce dimensionality\u001b[0m\u001b[1;33m\u001b[0m\u001b[1;33m\u001b[0m\u001b[0m\n",
      "\u001b[1;32m/usr/lib/python3/dist-packages/pandas/core/generic.py\u001b[0m in \u001b[0;36m_get_item_cache\u001b[1;34m(self, item)\u001b[0m\n\u001b[0;32m   1089\u001b[0m         \u001b[0mres\u001b[0m \u001b[1;33m=\u001b[0m \u001b[0mcache\u001b[0m\u001b[1;33m.\u001b[0m\u001b[0mget\u001b[0m\u001b[1;33m(\u001b[0m\u001b[0mitem\u001b[0m\u001b[1;33m)\u001b[0m\u001b[1;33m\u001b[0m\u001b[0m\n\u001b[0;32m   1090\u001b[0m         \u001b[1;32mif\u001b[0m \u001b[0mres\u001b[0m \u001b[1;32mis\u001b[0m \u001b[1;32mNone\u001b[0m\u001b[1;33m:\u001b[0m\u001b[1;33m\u001b[0m\u001b[0m\n\u001b[1;32m-> 1091\u001b[1;33m             \u001b[0mvalues\u001b[0m \u001b[1;33m=\u001b[0m \u001b[0mself\u001b[0m\u001b[1;33m.\u001b[0m\u001b[0m_data\u001b[0m\u001b[1;33m.\u001b[0m\u001b[0mget\u001b[0m\u001b[1;33m(\u001b[0m\u001b[0mitem\u001b[0m\u001b[1;33m)\u001b[0m\u001b[1;33m\u001b[0m\u001b[0m\n\u001b[0m\u001b[0;32m   1092\u001b[0m             \u001b[0mres\u001b[0m \u001b[1;33m=\u001b[0m \u001b[0mself\u001b[0m\u001b[1;33m.\u001b[0m\u001b[0m_box_item_values\u001b[0m\u001b[1;33m(\u001b[0m\u001b[0mitem\u001b[0m\u001b[1;33m,\u001b[0m \u001b[0mvalues\u001b[0m\u001b[1;33m)\u001b[0m\u001b[1;33m\u001b[0m\u001b[0m\n\u001b[0;32m   1093\u001b[0m             \u001b[0mcache\u001b[0m\u001b[1;33m[\u001b[0m\u001b[0mitem\u001b[0m\u001b[1;33m]\u001b[0m \u001b[1;33m=\u001b[0m \u001b[0mres\u001b[0m\u001b[1;33m\u001b[0m\u001b[0m\n",
      "\u001b[1;32m/usr/lib/python3/dist-packages/pandas/core/internals.py\u001b[0m in \u001b[0;36mget\u001b[1;34m(self, item, fastpath)\u001b[0m\n\u001b[0;32m   3209\u001b[0m \u001b[1;33m\u001b[0m\u001b[0m\n\u001b[0;32m   3210\u001b[0m             \u001b[1;32mif\u001b[0m \u001b[1;32mnot\u001b[0m \u001b[0misnull\u001b[0m\u001b[1;33m(\u001b[0m\u001b[0mitem\u001b[0m\u001b[1;33m)\u001b[0m\u001b[1;33m:\u001b[0m\u001b[1;33m\u001b[0m\u001b[0m\n\u001b[1;32m-> 3211\u001b[1;33m                 \u001b[0mloc\u001b[0m \u001b[1;33m=\u001b[0m \u001b[0mself\u001b[0m\u001b[1;33m.\u001b[0m\u001b[0mitems\u001b[0m\u001b[1;33m.\u001b[0m\u001b[0mget_loc\u001b[0m\u001b[1;33m(\u001b[0m\u001b[0mitem\u001b[0m\u001b[1;33m)\u001b[0m\u001b[1;33m\u001b[0m\u001b[0m\n\u001b[0m\u001b[0;32m   3212\u001b[0m             \u001b[1;32melse\u001b[0m\u001b[1;33m:\u001b[0m\u001b[1;33m\u001b[0m\u001b[0m\n\u001b[0;32m   3213\u001b[0m                 \u001b[0mindexer\u001b[0m \u001b[1;33m=\u001b[0m \u001b[0mnp\u001b[0m\u001b[1;33m.\u001b[0m\u001b[0marange\u001b[0m\u001b[1;33m(\u001b[0m\u001b[0mlen\u001b[0m\u001b[1;33m(\u001b[0m\u001b[0mself\u001b[0m\u001b[1;33m.\u001b[0m\u001b[0mitems\u001b[0m\u001b[1;33m)\u001b[0m\u001b[1;33m)\u001b[0m\u001b[1;33m[\u001b[0m\u001b[0misnull\u001b[0m\u001b[1;33m(\u001b[0m\u001b[0mself\u001b[0m\u001b[1;33m.\u001b[0m\u001b[0mitems\u001b[0m\u001b[1;33m)\u001b[0m\u001b[1;33m]\u001b[0m\u001b[1;33m\u001b[0m\u001b[0m\n",
      "\u001b[1;32m/usr/lib/python3/dist-packages/pandas/core/index.py\u001b[0m in \u001b[0;36mget_loc\u001b[1;34m(self, key, method, tolerance)\u001b[0m\n\u001b[0;32m   1757\u001b[0m                                  'backfill or nearest lookups')\n\u001b[0;32m   1758\u001b[0m             \u001b[0mkey\u001b[0m \u001b[1;33m=\u001b[0m \u001b[0m_values_from_object\u001b[0m\u001b[1;33m(\u001b[0m\u001b[0mkey\u001b[0m\u001b[1;33m)\u001b[0m\u001b[1;33m\u001b[0m\u001b[0m\n\u001b[1;32m-> 1759\u001b[1;33m             \u001b[1;32mreturn\u001b[0m \u001b[0mself\u001b[0m\u001b[1;33m.\u001b[0m\u001b[0m_engine\u001b[0m\u001b[1;33m.\u001b[0m\u001b[0mget_loc\u001b[0m\u001b[1;33m(\u001b[0m\u001b[0mkey\u001b[0m\u001b[1;33m)\u001b[0m\u001b[1;33m\u001b[0m\u001b[0m\n\u001b[0m\u001b[0;32m   1760\u001b[0m \u001b[1;33m\u001b[0m\u001b[0m\n\u001b[0;32m   1761\u001b[0m         indexer = self.get_indexer([key], method=method,\n",
      "\u001b[1;32mpandas/index.pyx\u001b[0m in \u001b[0;36mpandas.index.IndexEngine.get_loc (pandas/index.c:3979)\u001b[1;34m()\u001b[0m\n",
      "\u001b[1;32mpandas/index.pyx\u001b[0m in \u001b[0;36mpandas.index.IndexEngine.get_loc (pandas/index.c:3843)\u001b[1;34m()\u001b[0m\n",
      "\u001b[1;32mpandas/hashtable.pyx\u001b[0m in \u001b[0;36mpandas.hashtable.PyObjectHashTable.get_item (pandas/hashtable.c:12265)\u001b[1;34m()\u001b[0m\n",
      "\u001b[1;32mpandas/hashtable.pyx\u001b[0m in \u001b[0;36mpandas.hashtable.PyObjectHashTable.get_item (pandas/hashtable.c:12216)\u001b[1;34m()\u001b[0m\n",
      "\u001b[1;31mKeyError\u001b[0m: '1997'"
     ]
    }
   ],
   "source": [
    "# Show all transfers from a specific year, eg. in 1997. \n",
    "df['1997']"
   ]
  },
  {
   "cell_type": "code",
   "execution_count": 463,
   "metadata": {
    "collapsed": false
   },
   "outputs": [],
   "source": [
    "# What player did play the shortest and the longest with YB? \n",
    "\n",
    "from datetime import datetime\n",
    "\n",
    "def date_to_int(dayswithdays):\n",
    "    match = re.search(r'(\\d*) days', dayswithdays)\n",
    "    if match:\n",
    "        return int(match.group(1))\n",
    "\n",
    "df['Days'] = df['Bis'] - df['Von']\n",
    "df[['Bis', 'Voller Name','Days']].sort_values(by='Days', ascending=False).head(10)\n",
    "df['Days'] = df['Days'].astype(str).apply(date_to_int)"
   ]
  },
  {
   "cell_type": "code",
   "execution_count": 724,
   "metadata": {
    "collapsed": false
   },
   "outputs": [
    {
     "ename": "KeyError",
     "evalue": "\"['Days'] not in index\"",
     "output_type": "error",
     "traceback": [
      "\u001b[1;31m---------------------------------------------------------------------------\u001b[0m",
      "\u001b[1;31mKeyError\u001b[0m                                  Traceback (most recent call last)",
      "\u001b[1;32m<ipython-input-724-c44c454a7a04>\u001b[0m in \u001b[0;36m<module>\u001b[1;34m()\u001b[0m\n\u001b[0;32m      1\u001b[0m \u001b[1;31m# The player who stayed the shortest at YB.\u001b[0m\u001b[1;33m\u001b[0m\u001b[1;33m\u001b[0m\u001b[0m\n\u001b[1;32m----> 2\u001b[1;33m \u001b[0mdf\u001b[0m\u001b[1;33m[\u001b[0m\u001b[1;33m[\u001b[0m\u001b[1;34m'Voller Name'\u001b[0m\u001b[1;33m,\u001b[0m \u001b[1;34m'Days'\u001b[0m\u001b[1;33m]\u001b[0m\u001b[1;33m]\u001b[0m\u001b[1;33m.\u001b[0m\u001b[0mwhere\u001b[0m\u001b[1;33m(\u001b[0m\u001b[0mdf\u001b[0m\u001b[1;33m[\u001b[0m\u001b[1;34m'Klub'\u001b[0m\u001b[1;33m]\u001b[0m \u001b[1;33m==\u001b[0m \u001b[1;34m'YB'\u001b[0m\u001b[1;33m)\u001b[0m\u001b[1;33m.\u001b[0m\u001b[0mwhere\u001b[0m\u001b[1;33m(\u001b[0m\u001b[0mdf\u001b[0m\u001b[1;33m[\u001b[0m\u001b[1;34m'Days'\u001b[0m\u001b[1;33m]\u001b[0m \u001b[1;33m<=\u001b[0m \u001b[1;36m180\u001b[0m\u001b[1;33m)\u001b[0m\u001b[1;33m.\u001b[0m\u001b[0msort_values\u001b[0m\u001b[1;33m(\u001b[0m\u001b[0mby\u001b[0m\u001b[1;33m=\u001b[0m\u001b[1;34m'Days'\u001b[0m\u001b[1;33m,\u001b[0m \u001b[0mascending\u001b[0m\u001b[1;33m=\u001b[0m\u001b[1;32mTrue\u001b[0m\u001b[1;33m)\u001b[0m\u001b[1;33m.\u001b[0m\u001b[0mhead\u001b[0m\u001b[1;33m(\u001b[0m\u001b[1;36m14\u001b[0m\u001b[1;33m)\u001b[0m\u001b[1;33m\u001b[0m\u001b[0m\n\u001b[0m",
      "\u001b[1;32m/usr/lib/python3/dist-packages/pandas/core/frame.py\u001b[0m in \u001b[0;36m__getitem__\u001b[1;34m(self, key)\u001b[0m\n\u001b[0;32m   1961\u001b[0m         \u001b[1;32mif\u001b[0m \u001b[0misinstance\u001b[0m\u001b[1;33m(\u001b[0m\u001b[0mkey\u001b[0m\u001b[1;33m,\u001b[0m \u001b[1;33m(\u001b[0m\u001b[0mSeries\u001b[0m\u001b[1;33m,\u001b[0m \u001b[0mnp\u001b[0m\u001b[1;33m.\u001b[0m\u001b[0mndarray\u001b[0m\u001b[1;33m,\u001b[0m \u001b[0mIndex\u001b[0m\u001b[1;33m,\u001b[0m \u001b[0mlist\u001b[0m\u001b[1;33m)\u001b[0m\u001b[1;33m)\u001b[0m\u001b[1;33m:\u001b[0m\u001b[1;33m\u001b[0m\u001b[0m\n\u001b[0;32m   1962\u001b[0m             \u001b[1;31m# either boolean or fancy integer index\u001b[0m\u001b[1;33m\u001b[0m\u001b[1;33m\u001b[0m\u001b[0m\n\u001b[1;32m-> 1963\u001b[1;33m             \u001b[1;32mreturn\u001b[0m \u001b[0mself\u001b[0m\u001b[1;33m.\u001b[0m\u001b[0m_getitem_array\u001b[0m\u001b[1;33m(\u001b[0m\u001b[0mkey\u001b[0m\u001b[1;33m)\u001b[0m\u001b[1;33m\u001b[0m\u001b[0m\n\u001b[0m\u001b[0;32m   1964\u001b[0m         \u001b[1;32melif\u001b[0m \u001b[0misinstance\u001b[0m\u001b[1;33m(\u001b[0m\u001b[0mkey\u001b[0m\u001b[1;33m,\u001b[0m \u001b[0mDataFrame\u001b[0m\u001b[1;33m)\u001b[0m\u001b[1;33m:\u001b[0m\u001b[1;33m\u001b[0m\u001b[0m\n\u001b[0;32m   1965\u001b[0m             \u001b[1;32mreturn\u001b[0m \u001b[0mself\u001b[0m\u001b[1;33m.\u001b[0m\u001b[0m_getitem_frame\u001b[0m\u001b[1;33m(\u001b[0m\u001b[0mkey\u001b[0m\u001b[1;33m)\u001b[0m\u001b[1;33m\u001b[0m\u001b[0m\n",
      "\u001b[1;32m/usr/lib/python3/dist-packages/pandas/core/frame.py\u001b[0m in \u001b[0;36m_getitem_array\u001b[1;34m(self, key)\u001b[0m\n\u001b[0;32m   2005\u001b[0m             \u001b[1;32mreturn\u001b[0m \u001b[0mself\u001b[0m\u001b[1;33m.\u001b[0m\u001b[0mtake\u001b[0m\u001b[1;33m(\u001b[0m\u001b[0mindexer\u001b[0m\u001b[1;33m,\u001b[0m \u001b[0maxis\u001b[0m\u001b[1;33m=\u001b[0m\u001b[1;36m0\u001b[0m\u001b[1;33m,\u001b[0m \u001b[0mconvert\u001b[0m\u001b[1;33m=\u001b[0m\u001b[1;32mFalse\u001b[0m\u001b[1;33m)\u001b[0m\u001b[1;33m\u001b[0m\u001b[0m\n\u001b[0;32m   2006\u001b[0m         \u001b[1;32melse\u001b[0m\u001b[1;33m:\u001b[0m\u001b[1;33m\u001b[0m\u001b[0m\n\u001b[1;32m-> 2007\u001b[1;33m             \u001b[0mindexer\u001b[0m \u001b[1;33m=\u001b[0m \u001b[0mself\u001b[0m\u001b[1;33m.\u001b[0m\u001b[0mix\u001b[0m\u001b[1;33m.\u001b[0m\u001b[0m_convert_to_indexer\u001b[0m\u001b[1;33m(\u001b[0m\u001b[0mkey\u001b[0m\u001b[1;33m,\u001b[0m \u001b[0maxis\u001b[0m\u001b[1;33m=\u001b[0m\u001b[1;36m1\u001b[0m\u001b[1;33m)\u001b[0m\u001b[1;33m\u001b[0m\u001b[0m\n\u001b[0m\u001b[0;32m   2008\u001b[0m             \u001b[1;32mreturn\u001b[0m \u001b[0mself\u001b[0m\u001b[1;33m.\u001b[0m\u001b[0mtake\u001b[0m\u001b[1;33m(\u001b[0m\u001b[0mindexer\u001b[0m\u001b[1;33m,\u001b[0m \u001b[0maxis\u001b[0m\u001b[1;33m=\u001b[0m\u001b[1;36m1\u001b[0m\u001b[1;33m,\u001b[0m \u001b[0mconvert\u001b[0m\u001b[1;33m=\u001b[0m\u001b[1;32mTrue\u001b[0m\u001b[1;33m)\u001b[0m\u001b[1;33m\u001b[0m\u001b[0m\n\u001b[0;32m   2009\u001b[0m \u001b[1;33m\u001b[0m\u001b[0m\n",
      "\u001b[1;32m/usr/lib/python3/dist-packages/pandas/core/indexing.py\u001b[0m in \u001b[0;36m_convert_to_indexer\u001b[1;34m(self, obj, axis, is_setter)\u001b[0m\n\u001b[0;32m   1148\u001b[0m                 \u001b[0mmask\u001b[0m \u001b[1;33m=\u001b[0m \u001b[0mcheck\u001b[0m \u001b[1;33m==\u001b[0m \u001b[1;33m-\u001b[0m\u001b[1;36m1\u001b[0m\u001b[1;33m\u001b[0m\u001b[0m\n\u001b[0;32m   1149\u001b[0m                 \u001b[1;32mif\u001b[0m \u001b[0mmask\u001b[0m\u001b[1;33m.\u001b[0m\u001b[0many\u001b[0m\u001b[1;33m(\u001b[0m\u001b[1;33m)\u001b[0m\u001b[1;33m:\u001b[0m\u001b[1;33m\u001b[0m\u001b[0m\n\u001b[1;32m-> 1150\u001b[1;33m                     \u001b[1;32mraise\u001b[0m \u001b[0mKeyError\u001b[0m\u001b[1;33m(\u001b[0m\u001b[1;34m'%s not in index'\u001b[0m \u001b[1;33m%\u001b[0m \u001b[0mobjarr\u001b[0m\u001b[1;33m[\u001b[0m\u001b[0mmask\u001b[0m\u001b[1;33m]\u001b[0m\u001b[1;33m)\u001b[0m\u001b[1;33m\u001b[0m\u001b[0m\n\u001b[0m\u001b[0;32m   1151\u001b[0m \u001b[1;33m\u001b[0m\u001b[0m\n\u001b[0;32m   1152\u001b[0m                 \u001b[1;32mreturn\u001b[0m \u001b[0m_values_from_object\u001b[0m\u001b[1;33m(\u001b[0m\u001b[0mindexer\u001b[0m\u001b[1;33m)\u001b[0m\u001b[1;33m\u001b[0m\u001b[0m\n",
      "\u001b[1;31mKeyError\u001b[0m: \"['Days'] not in index\""
     ]
    }
   ],
   "source": [
    "# The player who stayed the shortest at YB.\n",
    "df[['Voller Name', 'Days']].where(df['Klub'] == 'YB').where(df['Days'] <= 180).sort_values(by='Days', ascending=True).head(14)"
   ]
  },
  {
   "cell_type": "code",
   "execution_count": 468,
   "metadata": {
    "collapsed": false
   },
   "outputs": [
    {
     "data": {
      "text/html": [
       "<div>\n",
       "<table border=\"1\" class=\"dataframe\">\n",
       "  <thead>\n",
       "    <tr style=\"text-align: right;\">\n",
       "      <th></th>\n",
       "      <th>Voller Name</th>\n",
       "      <th>Days</th>\n",
       "    </tr>\n",
       "    <tr>\n",
       "      <th>Von</th>\n",
       "      <th></th>\n",
       "      <th></th>\n",
       "    </tr>\n",
       "  </thead>\n",
       "  <tbody>\n",
       "    <tr>\n",
       "      <th>2000-01-07</th>\n",
       "      <td>Thomas Häberli</td>\n",
       "      <td>3432</td>\n",
       "    </tr>\n",
       "    <tr>\n",
       "      <th>2005-01-07</th>\n",
       "      <td>Mario Raimondi</td>\n",
       "      <td>3096</td>\n",
       "    </tr>\n",
       "    <tr>\n",
       "      <th>2000-01-07</th>\n",
       "      <td>Gürkan Sermeter</td>\n",
       "      <td>2366</td>\n",
       "    </tr>\n",
       "    <tr>\n",
       "      <th>1993-01-07</th>\n",
       "      <td>Paolo Collaviti</td>\n",
       "      <td>2365</td>\n",
       "    </tr>\n",
       "    <tr>\n",
       "      <th>2000-01-07</th>\n",
       "      <td>Mark Disler</td>\n",
       "      <td>2001</td>\n",
       "    </tr>\n",
       "    <tr>\n",
       "      <th>2002-01-07</th>\n",
       "      <td>Joel Magnin</td>\n",
       "      <td>2000</td>\n",
       "    </tr>\n",
       "    <tr>\n",
       "      <th>2001-01-07</th>\n",
       "      <td>Adrian Eugster</td>\n",
       "      <td>1819</td>\n",
       "    </tr>\n",
       "    <tr>\n",
       "      <th>2007-01-07</th>\n",
       "      <td>Marco Schneuwly</td>\n",
       "      <td>1819</td>\n",
       "    </tr>\n",
       "    <tr>\n",
       "      <th>2006-01-07</th>\n",
       "      <td>Xavier Hochstrasser</td>\n",
       "      <td>1819</td>\n",
       "    </tr>\n",
       "    <tr>\n",
       "      <th>2002-01-07</th>\n",
       "      <td>Alain Rochat</td>\n",
       "      <td>1666</td>\n",
       "    </tr>\n",
       "    <tr>\n",
       "      <th>2000-01-07</th>\n",
       "      <td>Paolo Collaviti</td>\n",
       "      <td>1636</td>\n",
       "    </tr>\n",
       "    <tr>\n",
       "      <th>2005-01-07</th>\n",
       "      <td>Carlos Varela</td>\n",
       "      <td>1635</td>\n",
       "    </tr>\n",
       "    <tr>\n",
       "      <th>1998-01-07</th>\n",
       "      <td>Marco Wölfli</td>\n",
       "      <td>1635</td>\n",
       "    </tr>\n",
       "    <tr>\n",
       "      <th>2010-01-07</th>\n",
       "      <td>Christoph Spycher</td>\n",
       "      <td>1635</td>\n",
       "    </tr>\n",
       "  </tbody>\n",
       "</table>\n",
       "</div>"
      ],
      "text/plain": [
       "                    Voller Name  Days\n",
       "Von                                  \n",
       "2000-01-07       Thomas Häberli  3432\n",
       "2005-01-07       Mario Raimondi  3096\n",
       "2000-01-07      Gürkan Sermeter  2366\n",
       "1993-01-07      Paolo Collaviti  2365\n",
       "2000-01-07          Mark Disler  2001\n",
       "2002-01-07          Joel Magnin  2000\n",
       "2001-01-07       Adrian Eugster  1819\n",
       "2007-01-07      Marco Schneuwly  1819\n",
       "2006-01-07  Xavier Hochstrasser  1819\n",
       "2002-01-07         Alain Rochat  1666\n",
       "2000-01-07      Paolo Collaviti  1636\n",
       "2005-01-07        Carlos Varela  1635\n",
       "1998-01-07         Marco Wölfli  1635\n",
       "2010-01-07    Christoph Spycher  1635"
      ]
     },
     "execution_count": 468,
     "metadata": {},
     "output_type": "execute_result"
    }
   ],
   "source": [
    "# The player who stayed the longest at YB.\n",
    "df[['Voller Name', 'Days']].where(df['Klub'] == 'YB').sort_values(by='Days', ascending=False).head(14)"
   ]
  },
  {
   "cell_type": "code",
   "execution_count": 513,
   "metadata": {
    "collapsed": false
   },
   "outputs": [
    {
     "data": {
      "text/plain": [
       "NaT"
      ]
     },
     "execution_count": 513,
     "metadata": {},
     "output_type": "execute_result"
    }
   ],
   "source": [
    "pd.NaT"
   ]
  },
  {
   "cell_type": "code",
   "execution_count": 515,
   "metadata": {
    "collapsed": false
   },
   "outputs": [
    {
     "name": "stderr",
     "output_type": "stream",
     "text": [
      "/usr/local/lib/python3.5/dist-packages/ipykernel/__main__.py:15: SettingWithCopyWarning: \n",
      "A value is trying to be set on a copy of a slice from a DataFrame.\n",
      "Try using .loc[row_indexer,col_indexer] = value instead\n",
      "\n",
      "See the caveats in the documentation: http://pandas.pydata.org/pandas-docs/stable/indexing.html#indexing-view-versus-copy\n"
     ]
    }
   ],
   "source": [
    "# To do... How old are the player when are coming to Bern?\n",
    "time_at_yb = df[df['Klub'] == 'YB']\n",
    "\n",
    "def age_at_yb(voller_name):\n",
    "    try:\n",
    "        startdate = df[df['Voller Name'] == voller_name]['Von'].values[0]\n",
    "    except IndexError:\n",
    "        startdate = pd.NaT\n",
    "    try:\n",
    "        birthday = df_player[df_player['Voller Name'] == voller_name]['Geburtsdatum'].values[0]\n",
    "    except IndexError:\n",
    "        birthday = pd.NaT\n",
    "    return startdate - birthday\n",
    "\n",
    "time_at_yb['Eintrittsalter'] = time_at_yb['Voller Name'].apply(age_at_yb)"
   ]
  },
  {
   "cell_type": "code",
   "execution_count": 517,
   "metadata": {
    "collapsed": false
   },
   "outputs": [
    {
     "data": {
      "text/plain": [
       "count                          145\n",
       "mean     6775 days 05:17:47.586206\n",
       "std       984 days 20:35:55.140802\n",
       "min             3046 days 00:00:00\n",
       "25%             6248 days 00:00:00\n",
       "50%             6758 days 00:00:00\n",
       "75%             7314 days 00:00:00\n",
       "max             9681 days 00:00:00\n",
       "Name: Eintrittsalter, dtype: object"
      ]
     },
     "execution_count": 517,
     "metadata": {},
     "output_type": "execute_result"
    }
   ],
   "source": [
    "time_at_yb['Eintrittsalter'].describe()"
   ]
  },
  {
   "cell_type": "code",
   "execution_count": 369,
   "metadata": {
    "collapsed": false
   },
   "outputs": [
    {
     "ename": "IndexError",
     "evalue": "index out of bounds",
     "output_type": "error",
     "traceback": [
      "\u001b[1;31m---------------------------------------------------------------------------\u001b[0m",
      "\u001b[1;31mKeyError\u001b[0m                                  Traceback (most recent call last)",
      "\u001b[1;32m/usr/lib/python3/dist-packages/pandas/core/index.py\u001b[0m in \u001b[0;36mget_value\u001b[1;34m(self, series, key)\u001b[0m\n\u001b[0;32m   1789\u001b[0m         \u001b[1;32mtry\u001b[0m\u001b[1;33m:\u001b[0m\u001b[1;33m\u001b[0m\u001b[0m\n\u001b[1;32m-> 1790\u001b[1;33m             \u001b[1;32mreturn\u001b[0m \u001b[0mself\u001b[0m\u001b[1;33m.\u001b[0m\u001b[0m_engine\u001b[0m\u001b[1;33m.\u001b[0m\u001b[0mget_value\u001b[0m\u001b[1;33m(\u001b[0m\u001b[0ms\u001b[0m\u001b[1;33m,\u001b[0m \u001b[0mk\u001b[0m\u001b[1;33m)\u001b[0m\u001b[1;33m\u001b[0m\u001b[0m\n\u001b[0m\u001b[0;32m   1791\u001b[0m         \u001b[1;32mexcept\u001b[0m \u001b[0mKeyError\u001b[0m \u001b[1;32mas\u001b[0m \u001b[0me1\u001b[0m\u001b[1;33m:\u001b[0m\u001b[1;33m\u001b[0m\u001b[0m\n",
      "\u001b[1;32mpandas/index.pyx\u001b[0m in \u001b[0;36mpandas.index.IndexEngine.get_value (pandas/index.c:3204)\u001b[1;34m()\u001b[0m\n",
      "\u001b[1;32mpandas/index.pyx\u001b[0m in \u001b[0;36mpandas.index.IndexEngine.get_value (pandas/index.c:2903)\u001b[1;34m()\u001b[0m\n",
      "\u001b[1;32mpandas/index.pyx\u001b[0m in \u001b[0;36mpandas.index.DatetimeEngine.get_loc (pandas/index.c:10922)\u001b[1;34m()\u001b[0m\n",
      "\u001b[1;32mpandas/hashtable.pyx\u001b[0m in \u001b[0;36mpandas.hashtable.Int64HashTable.get_item (pandas/hashtable.c:6525)\u001b[1;34m()\u001b[0m\n",
      "\u001b[1;32mpandas/hashtable.pyx\u001b[0m in \u001b[0;36mpandas.hashtable.Int64HashTable.get_item (pandas/hashtable.c:6463)\u001b[1;34m()\u001b[0m\n",
      "\u001b[1;31mKeyError\u001b[0m: 0",
      "\nDuring handling of the above exception, another exception occurred:\n",
      "\u001b[1;31mIndexError\u001b[0m                                Traceback (most recent call last)",
      "\u001b[1;32m<ipython-input-369-c274836c910f>\u001b[0m in \u001b[0;36m<module>\u001b[1;34m()\u001b[0m\n\u001b[0;32m      3\u001b[0m \u001b[0mage_dict\u001b[0m \u001b[1;33m=\u001b[0m \u001b[1;33m{\u001b[0m\u001b[1;33m}\u001b[0m\u001b[1;33m\u001b[0m\u001b[0m\n\u001b[0;32m      4\u001b[0m \u001b[1;32mfor\u001b[0m \u001b[0mplayer\u001b[0m \u001b[1;32min\u001b[0m \u001b[0mplayers\u001b[0m\u001b[1;33m:\u001b[0m\u001b[1;33m\u001b[0m\u001b[0m\n\u001b[1;32m----> 5\u001b[1;33m     \u001b[0myb_start\u001b[0m \u001b[1;33m=\u001b[0m \u001b[0mdf_yb_time\u001b[0m\u001b[1;33m[\u001b[0m\u001b[0mdf_yb_time\u001b[0m\u001b[1;33m[\u001b[0m\u001b[1;34m'Voller Name'\u001b[0m\u001b[1;33m]\u001b[0m \u001b[1;33m==\u001b[0m \u001b[0mplayer\u001b[0m\u001b[1;33m]\u001b[0m\u001b[1;33m[\u001b[0m\u001b[1;34m'Von'\u001b[0m\u001b[1;33m]\u001b[0m\u001b[1;33m[\u001b[0m\u001b[1;36m0\u001b[0m\u001b[1;33m]\u001b[0m\u001b[1;33m\u001b[0m\u001b[0m\n\u001b[0m\u001b[0;32m      6\u001b[0m     \u001b[0mbirthday\u001b[0m \u001b[1;33m=\u001b[0m \u001b[0mdf_player\u001b[0m\u001b[1;33m[\u001b[0m\u001b[0mdf_player\u001b[0m\u001b[1;33m[\u001b[0m\u001b[1;34m'Voller Name'\u001b[0m\u001b[1;33m]\u001b[0m \u001b[1;33m==\u001b[0m \u001b[0mplayer\u001b[0m\u001b[1;33m]\u001b[0m\u001b[1;33m[\u001b[0m\u001b[1;34m'Geburtsdatum'\u001b[0m\u001b[1;33m]\u001b[0m\u001b[1;33m\u001b[0m\u001b[0m\n\u001b[0;32m      7\u001b[0m     \u001b[1;31m#age_dict[player] = df[df['Voller Name'] == player]['Von'] - df_player[df_player['Voller Name'] == player]['Geburtsdatum']\u001b[0m\u001b[1;33m\u001b[0m\u001b[1;33m\u001b[0m\u001b[0m\n",
      "\u001b[1;32m/usr/lib/python3/dist-packages/pandas/core/series.py\u001b[0m in \u001b[0;36m__getitem__\u001b[1;34m(self, key)\u001b[0m\n\u001b[0;32m    555\u001b[0m     \u001b[1;32mdef\u001b[0m \u001b[0m__getitem__\u001b[0m\u001b[1;33m(\u001b[0m\u001b[0mself\u001b[0m\u001b[1;33m,\u001b[0m \u001b[0mkey\u001b[0m\u001b[1;33m)\u001b[0m\u001b[1;33m:\u001b[0m\u001b[1;33m\u001b[0m\u001b[0m\n\u001b[0;32m    556\u001b[0m         \u001b[1;32mtry\u001b[0m\u001b[1;33m:\u001b[0m\u001b[1;33m\u001b[0m\u001b[0m\n\u001b[1;32m--> 557\u001b[1;33m             \u001b[0mresult\u001b[0m \u001b[1;33m=\u001b[0m \u001b[0mself\u001b[0m\u001b[1;33m.\u001b[0m\u001b[0mindex\u001b[0m\u001b[1;33m.\u001b[0m\u001b[0mget_value\u001b[0m\u001b[1;33m(\u001b[0m\u001b[0mself\u001b[0m\u001b[1;33m,\u001b[0m \u001b[0mkey\u001b[0m\u001b[1;33m)\u001b[0m\u001b[1;33m\u001b[0m\u001b[0m\n\u001b[0m\u001b[0;32m    558\u001b[0m \u001b[1;33m\u001b[0m\u001b[0m\n\u001b[0;32m    559\u001b[0m             \u001b[1;32mif\u001b[0m \u001b[1;32mnot\u001b[0m \u001b[0mnp\u001b[0m\u001b[1;33m.\u001b[0m\u001b[0misscalar\u001b[0m\u001b[1;33m(\u001b[0m\u001b[0mresult\u001b[0m\u001b[1;33m)\u001b[0m\u001b[1;33m:\u001b[0m\u001b[1;33m\u001b[0m\u001b[0m\n",
      "\u001b[1;32m/usr/lib/python3/dist-packages/pandas/tseries/index.py\u001b[0m in \u001b[0;36mget_value\u001b[1;34m(self, series, key)\u001b[0m\n\u001b[0;32m   1309\u001b[0m \u001b[1;33m\u001b[0m\u001b[0m\n\u001b[0;32m   1310\u001b[0m         \u001b[1;32mtry\u001b[0m\u001b[1;33m:\u001b[0m\u001b[1;33m\u001b[0m\u001b[0m\n\u001b[1;32m-> 1311\u001b[1;33m             \u001b[1;32mreturn\u001b[0m \u001b[0m_maybe_box\u001b[0m\u001b[1;33m(\u001b[0m\u001b[0mself\u001b[0m\u001b[1;33m,\u001b[0m \u001b[0mIndex\u001b[0m\u001b[1;33m.\u001b[0m\u001b[0mget_value\u001b[0m\u001b[1;33m(\u001b[0m\u001b[0mself\u001b[0m\u001b[1;33m,\u001b[0m \u001b[0mseries\u001b[0m\u001b[1;33m,\u001b[0m \u001b[0mkey\u001b[0m\u001b[1;33m)\u001b[0m\u001b[1;33m,\u001b[0m \u001b[0mseries\u001b[0m\u001b[1;33m,\u001b[0m \u001b[0mkey\u001b[0m\u001b[1;33m)\u001b[0m\u001b[1;33m\u001b[0m\u001b[0m\n\u001b[0m\u001b[0;32m   1312\u001b[0m         \u001b[1;32mexcept\u001b[0m \u001b[0mKeyError\u001b[0m\u001b[1;33m:\u001b[0m\u001b[1;33m\u001b[0m\u001b[0m\n\u001b[0;32m   1313\u001b[0m             \u001b[1;32mtry\u001b[0m\u001b[1;33m:\u001b[0m\u001b[1;33m\u001b[0m\u001b[0m\n",
      "\u001b[1;32m/usr/lib/python3/dist-packages/pandas/core/index.py\u001b[0m in \u001b[0;36mget_value\u001b[1;34m(self, series, key)\u001b[0m\n\u001b[0;32m   1794\u001b[0m \u001b[1;33m\u001b[0m\u001b[0m\n\u001b[0;32m   1795\u001b[0m             \u001b[1;32mtry\u001b[0m\u001b[1;33m:\u001b[0m\u001b[1;33m\u001b[0m\u001b[0m\n\u001b[1;32m-> 1796\u001b[1;33m                 \u001b[1;32mreturn\u001b[0m \u001b[0mtslib\u001b[0m\u001b[1;33m.\u001b[0m\u001b[0mget_value_box\u001b[0m\u001b[1;33m(\u001b[0m\u001b[0ms\u001b[0m\u001b[1;33m,\u001b[0m \u001b[0mkey\u001b[0m\u001b[1;33m)\u001b[0m\u001b[1;33m\u001b[0m\u001b[0m\n\u001b[0m\u001b[0;32m   1797\u001b[0m             \u001b[1;32mexcept\u001b[0m \u001b[0mIndexError\u001b[0m\u001b[1;33m:\u001b[0m\u001b[1;33m\u001b[0m\u001b[0m\n\u001b[0;32m   1798\u001b[0m                 \u001b[1;32mraise\u001b[0m\u001b[1;33m\u001b[0m\u001b[0m\n",
      "\u001b[1;32mpandas/tslib.pyx\u001b[0m in \u001b[0;36mpandas.tslib.get_value_box (pandas/tslib.c:16375)\u001b[1;34m()\u001b[0m\n",
      "\u001b[1;32mpandas/tslib.pyx\u001b[0m in \u001b[0;36mpandas.tslib.get_value_box (pandas/tslib.c:16126)\u001b[1;34m()\u001b[0m\n",
      "\u001b[1;31mIndexError\u001b[0m: index out of bounds"
     ]
    }
   ],
   "source": [
    "players = df['Voller Name'].unique()\n",
    "df_yb_time = df[df['Klub'] == 'YB']\n",
    "age_dict = {}\n",
    "for player in players:\n",
    "    yb_start = df_yb_time[df_yb_time['Voller Name'] == player]['Von'][0]\n",
    "    birthday = df_player[df_player['Voller Name'] == player]['Geburtsdatum']\n",
    "    #age_dict[player] = df[df['Voller Name'] == player]['Von'] - df_player[df_player['Voller Name'] == player]['Geburtsdatum']\n",
    "birthday"
   ]
  },
  {
   "cell_type": "code",
   "execution_count": null,
   "metadata": {
    "collapsed": true
   },
   "outputs": [],
   "source": [
    "# How old are the player when are coming to Bern?\n",
    "\n",
    "fig, ax = plt.subplots(figsize=(20,20))\n",
    "df[['Name', 'Geburtstag']].plot(ax=ax, label=, legend=True, kind='barh')\n",
    "ax.set_title(\"What forecast provider did recently do the best job?\", fontsize=30)\n",
    "ax.annotate('Grafik: Mathias Born', xy=(1, 0), xycoords='axes fraction', horizontalalignment='right', verticalalignment='bottom')\n",
    "\n",
    "fig.savefig('output/scatterage.png')"
   ]
  },
  {
   "cell_type": "code",
   "execution_count": null,
   "metadata": {
    "collapsed": false
   },
   "outputs": [],
   "source": [
    "players = df['Voller Name'].unique()\n",
    "ybdays = dict()\n",
    "for player in players:\n",
    "    temp_player = df[df['Voller Name'] == player]\n",
    "    temp_player = temp_player[temp_player['Klub'] == 'YB']\n",
    "    ybdays[player] = days_between(temp_player['Bis'],temp_player['Von'])\n",
    "ybdays"
   ]
  },
  {
   "cell_type": "code",
   "execution_count": 400,
   "metadata": {
    "collapsed": true
   },
   "outputs": [],
   "source": [
    "# How far are the traveling? Calculate the distance of their professional journeys.  \n",
    "import numpy as np\n",
    "def dist_from_coordinates(lat1, lon1, lat2, lon2):\n",
    "  R = 6371  # Earth radius in km\n",
    "\n",
    "  #conversion to radians\n",
    "  d_lat = np.radians(lat2-lat1)\n",
    "  d_lon = np.radians(lon2-lon1)\n",
    "\n",
    "  r_lat1 = np.radians(lat1)\n",
    "  r_lat2 = np.radians(lat2)\n",
    "\n",
    "  #haversine formula\n",
    "  a = np.sin(d_lat/2.) **2 + np.cos(r_lat1) * np.cos(r_lat2) * np.sin(d_lon/2.)**2\n",
    "\n",
    "  haversine = 2 * R * np.arcsin(np.sqrt(a))\n",
    "\n",
    "  return haversine"
   ]
  },
  {
   "cell_type": "code",
   "execution_count": 407,
   "metadata": {
    "collapsed": false
   },
   "outputs": [
    {
     "data": {
      "text/plain": [
       "2599.0413274765192"
      ]
     },
     "execution_count": 407,
     "metadata": {},
     "output_type": "execute_result"
    }
   ],
   "source": [
    "# Let's test the function. \n",
    "dist_from_coordinates(46.940063,7.390292,31.200092,29.918739)"
   ]
  },
  {
   "cell_type": "code",
   "execution_count": 401,
   "metadata": {
    "collapsed": false
   },
   "outputs": [],
   "source": [
    "# Here we are generating a dictionary with all the geoinformation for each player. \n",
    "travel_dict = dict()\n",
    "for player in players:\n",
    "    df_player = df[df['Voller Name'] == player][['Voller Name', 'Latitude','Longitude']]\n",
    "    players_places = list()\n",
    "    for index, row in df_player.iterrows():\n",
    "        players_places.append([row['Latitude'], row['Longitude']])\n",
    "    travel_dict[player] = players_places"
   ]
  },
  {
   "cell_type": "code",
   "execution_count": 471,
   "metadata": {
    "collapsed": false
   },
   "outputs": [
    {
     "data": {
      "text/plain": [
       "\"for player in players: \\n    for journey in travel_dict[player]:\\n        first_town = journey[0] + ',' + journey[1]\\n        seccnd_town = jo\""
      ]
     },
     "execution_count": 471,
     "metadata": {},
     "output_type": "execute_result"
    }
   ],
   "source": [
    "\n",
    "'''for player in players: \n",
    "    for journey in travel_dict[player]:\n",
    "        first_town = journey[0] + ',' + journey[1]\n",
    "        seccnd_town = jo'''"
   ]
  },
  {
   "cell_type": "code",
   "execution_count": 473,
   "metadata": {
    "collapsed": false
   },
   "outputs": [
    {
     "data": {
      "text/plain": [
       "[[47.1665361, 8.2899709],\n",
       " [47.169844299999994, 7.9884821],\n",
       " [47.035094799999996, 8.2791767],\n",
       " [47.55810770000001, 7.5878261],\n",
       " [46.9482713, 7.4514512],\n",
       " [nan, nan]]"
      ]
     },
     "execution_count": 473,
     "metadata": {},
     "output_type": "execute_result"
    }
   ],
   "source": [
    "travel_dict['Thomas Häberli']"
   ]
  },
  {
   "cell_type": "code",
   "execution_count": null,
   "metadata": {
    "collapsed": true
   },
   "outputs": [],
   "source": [
    "new_column = []                    #empty column for distance\n",
    "for index,row in df.iterrows():\n",
    "  lat1 = row['lat1'] #first row of location.lat column here\n",
    "  lon1 = row['lon1'] #first row of location.long column here\n",
    "  lat2 = row['lat2'] #second row of location.lat column here\n",
    "  lon2 = row['lon2'] #second row of location.long column here\n",
    "  value = dist_from_coordinates(lat1, lon1, lat2, lon2)  #get the distance\n",
    "  new_column.append(value)   #append the empty list with distance values\n",
    "\n",
    "df.insert(4,\"Distance\",new_column)  #4 is the index where you want to place your column. Column index starts with 0. \"Distance\" is the header and new_column are the values in the column."
   ]
  },
  {
   "cell_type": "code",
   "execution_count": null,
   "metadata": {
    "collapsed": false
   },
   "outputs": [],
   "source": [
    "\n",
    "df[df['Voller Name'] == 'Carlos Varela']"
   ]
  },
  {
   "cell_type": "code",
   "execution_count": null,
   "metadata": {
    "collapsed": false
   },
   "outputs": [],
   "source": []
  },
  {
   "cell_type": "markdown",
   "metadata": {},
   "source": [
    "## Export"
   ]
  },
  {
   "cell_type": "code",
   "execution_count": null,
   "metadata": {
    "collapsed": true
   },
   "outputs": [],
   "source": [
    "# Create a database of all players (Name, Birthday, \n",
    "\n",
    "# Create a )"
   ]
  }
 ],
 "metadata": {
  "kernelspec": {
   "display_name": "Python 3",
   "language": "python",
   "name": "python3"
  },
  "language_info": {
   "codemirror_mode": {
    "name": "ipython",
    "version": 3
   },
   "file_extension": ".py",
   "mimetype": "text/x-python",
   "name": "python",
   "nbconvert_exporter": "python",
   "pygments_lexer": "ipython3",
   "version": "3.5.2"
  }
 },
 "nbformat": 4,
 "nbformat_minor": 0
}
